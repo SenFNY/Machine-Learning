{
 "cells": [
  {
   "cell_type": "markdown",
   "metadata": {},
   "source": [
    "# Understand and Optimizing Plan Giving Mailing Strategy"
   ]
  },
  {
   "cell_type": "markdown",
   "metadata": {},
   "source": [
    " "
   ]
  },
  {
   "cell_type": "markdown",
   "metadata": {},
   "source": [
    "## Objective: \n",
    "* To understand what factors contributed most to convert regular donors to plan giving donors.\n",
    "* To perform EDA to find any meaningful patterns of convertion.\n",
    "* To create a model that predicts the likelihood if a certain donor will leave bequest.\n",
    "* To create or improve different mailing strategies on targeted donors. \n",
    "\n",
    "The implementation of this model will allow non-profit to create better decision-making actions."
   ]
  },
  {
   "cell_type": "markdown",
   "metadata": {},
   "source": [
    "## We'll be covering:\n",
    " * Descriptive Analytics - what happened? \n",
    " * Predictive Analytics - What might happen?\n",
    " * Prescriptive Analytics  - What should we do?  "
   ]
  },
  {
   "cell_type": "markdown",
   "metadata": {},
   "source": [
    "## Dataset Variables:  \n",
    "\n",
    "* Length - Donor's lifetime = (Deceased date/To date - First gift date)\n",
    "* Age - Donor's Age\n",
    "* Lapsed Time (in month) - Calculate the date difference between last gift date and current date.\n",
    "* PG donors - Search all transactions and label the donor as PG donor if he/she donated to any plan giving campaigns (newsletter, PG card and etc..)\n",
    "* Avg Giving circle (in month )- Donation frequency. \n",
    "* Appeal Desciption - Appeal description for donor's first gift\n",
    "* Total Amount of Gift - Total gift amount before donors become plan giving donors."
   ]
  },
  {
   "cell_type": "markdown",
   "metadata": {},
   "source": [
    "## Imports Packages"
   ]
  },
  {
   "cell_type": "code",
   "execution_count": 76,
   "metadata": {},
   "outputs": [],
   "source": [
    "from IPython.display import Image\n",
    "import pandas as pd\n",
    "import numpy as np\n",
    "import matplotlib.pyplot as plt\n",
    "import matplotlib as matplot\n",
    "import seaborn as sns\n",
    "import numpy as np\n",
    "from pdpbox import pdp,info_plots\n",
    "from sklearn.metrics import auc, roc_curve, classification_report\n",
    "from sklearn.preprocessing import Imputer\n",
    "from sklearn.linear_model import LogisticRegression\n",
    "from sklearn.pipeline import make_pipeline\n",
    "from sklearn.preprocessing import StandardScaler\n",
    "from sklearn.ensemble import RandomForestClassifier\n",
    "from sklearn.model_selection import cross_val_score\n",
    "import h2o\n",
    "from h2o.frame import H2OFrame\n",
    "from h2o.estimators.random_forest import H2ORandomForestEstimator\n",
    "%matplotlib inline"
   ]
  },
  {
   "cell_type": "code",
   "execution_count": 77,
   "metadata": {},
   "outputs": [],
   "source": [
    "DM_gift=pd.read_excel(\"DM_Gift_final Output.xlsx\")\n",
    "LFJ_deceased=pd.read_excel(\"lfj Decreased_Final _output.xlsx\")\n",
    "LFJ_living=pd.read_excel(\"LFJ_Living_final out.xlsx\")"
   ]
  },
  {
   "cell_type": "code",
   "execution_count": 78,
   "metadata": {
    "scrolled": true
   },
   "outputs": [
    {
     "data": {
      "text/html": [
       "<div>\n",
       "<style scoped>\n",
       "    .dataframe tbody tr th:only-of-type {\n",
       "        vertical-align: middle;\n",
       "    }\n",
       "\n",
       "    .dataframe tbody tr th {\n",
       "        vertical-align: top;\n",
       "    }\n",
       "\n",
       "    .dataframe thead th {\n",
       "        text-align: right;\n",
       "    }\n",
       "</style>\n",
       "<table border=\"1\" class=\"dataframe\">\n",
       "  <thead>\n",
       "    <tr style=\"text-align: right;\">\n",
       "      <th></th>\n",
       "      <th>Constituent ID</th>\n",
       "      <th>Name</th>\n",
       "      <th>First Name</th>\n",
       "      <th>Last Name</th>\n",
       "      <th>Age</th>\n",
       "      <th>Total Amount of Gifts</th>\n",
       "      <th>Gift Amount</th>\n",
       "      <th>Gift Date</th>\n",
       "      <th>Appeal Description</th>\n",
       "      <th>avg giving circle month</th>\n",
       "      <th>lapsed time</th>\n",
       "      <th>length</th>\n",
       "      <th>PG donor</th>\n",
       "      <th>Convert</th>\n",
       "    </tr>\n",
       "  </thead>\n",
       "  <tbody>\n",
       "    <tr>\n",
       "      <th>0</th>\n",
       "      <td>1</td>\n",
       "      <td>The Jacob Blaustein Institute</td>\n",
       "      <td>NaN</td>\n",
       "      <td>NaN</td>\n",
       "      <td>NaN</td>\n",
       "      <td>0.0</td>\n",
       "      <td>0.0</td>\n",
       "      <td>2017-02-14</td>\n",
       "      <td>Monthly</td>\n",
       "      <td>0</td>\n",
       "      <td>18</td>\n",
       "      <td>18</td>\n",
       "      <td>0</td>\n",
       "      <td>0</td>\n",
       "    </tr>\n",
       "    <tr>\n",
       "      <th>1</th>\n",
       "      <td>100000</td>\n",
       "      <td>John Templeton Foundation</td>\n",
       "      <td>NaN</td>\n",
       "      <td>NaN</td>\n",
       "      <td>NaN</td>\n",
       "      <td>5700000.0</td>\n",
       "      <td>200000.0</td>\n",
       "      <td>2012-09-20</td>\n",
       "      <td>DM</td>\n",
       "      <td>4</td>\n",
       "      <td>51</td>\n",
       "      <td>71</td>\n",
       "      <td>0</td>\n",
       "      <td>0</td>\n",
       "    </tr>\n",
       "    <tr>\n",
       "      <th>2</th>\n",
       "      <td>1000005</td>\n",
       "      <td>Irene Diamond Fund</td>\n",
       "      <td>NaN</td>\n",
       "      <td>NaN</td>\n",
       "      <td>NaN</td>\n",
       "      <td>1080000.0</td>\n",
       "      <td>100000.0</td>\n",
       "      <td>2012-10-04</td>\n",
       "      <td>DM</td>\n",
       "      <td>2</td>\n",
       "      <td>68</td>\n",
       "      <td>70</td>\n",
       "      <td>0</td>\n",
       "      <td>0</td>\n",
       "    </tr>\n",
       "    <tr>\n",
       "      <th>3</th>\n",
       "      <td>100001</td>\n",
       "      <td>Louise Filius</td>\n",
       "      <td>Louise</td>\n",
       "      <td>Filius</td>\n",
       "      <td>NaN</td>\n",
       "      <td>132.0</td>\n",
       "      <td>132.0</td>\n",
       "      <td>2010-07-18</td>\n",
       "      <td>online</td>\n",
       "      <td>0</td>\n",
       "      <td>97</td>\n",
       "      <td>97</td>\n",
       "      <td>0</td>\n",
       "      <td>0</td>\n",
       "    </tr>\n",
       "    <tr>\n",
       "      <th>4</th>\n",
       "      <td>1000012</td>\n",
       "      <td>Barry Kemp</td>\n",
       "      <td>Barry</td>\n",
       "      <td>Kemp</td>\n",
       "      <td>68.0</td>\n",
       "      <td>8500.0</td>\n",
       "      <td>2500.0</td>\n",
       "      <td>2013-10-10</td>\n",
       "      <td>event</td>\n",
       "      <td>11</td>\n",
       "      <td>36</td>\n",
       "      <td>58</td>\n",
       "      <td>0</td>\n",
       "      <td>0</td>\n",
       "    </tr>\n",
       "  </tbody>\n",
       "</table>\n",
       "</div>"
      ],
      "text/plain": [
       "   Constituent ID                           Name First Name Last Name   Age  \\\n",
       "0               1  The Jacob Blaustein Institute        NaN       NaN   NaN   \n",
       "1          100000      John Templeton Foundation        NaN       NaN   NaN   \n",
       "2         1000005             Irene Diamond Fund        NaN       NaN   NaN   \n",
       "3          100001                  Louise Filius     Louise    Filius   NaN   \n",
       "4         1000012                     Barry Kemp      Barry      Kemp  68.0   \n",
       "\n",
       "   Total Amount of Gifts  Gift Amount  Gift Date Appeal Description  \\\n",
       "0                    0.0          0.0 2017-02-14            Monthly   \n",
       "1              5700000.0     200000.0 2012-09-20                 DM   \n",
       "2              1080000.0     100000.0 2012-10-04                 DM   \n",
       "3                  132.0        132.0 2010-07-18             online   \n",
       "4                 8500.0       2500.0 2013-10-10              event   \n",
       "\n",
       "   avg giving circle month  lapsed time  length  PG donor  Convert  \n",
       "0                        0           18      18         0        0  \n",
       "1                        4           51      71         0        0  \n",
       "2                        2           68      70         0        0  \n",
       "3                        0           97      97         0        0  \n",
       "4                       11           36      58         0        0  "
      ]
     },
     "execution_count": 78,
     "metadata": {},
     "output_type": "execute_result"
    }
   ],
   "source": [
    "DM_gift.head()"
   ]
  },
  {
   "cell_type": "code",
   "execution_count": 79,
   "metadata": {},
   "outputs": [
    {
     "data": {
      "text/html": [
       "<div>\n",
       "<style scoped>\n",
       "    .dataframe tbody tr th:only-of-type {\n",
       "        vertical-align: middle;\n",
       "    }\n",
       "\n",
       "    .dataframe tbody tr th {\n",
       "        vertical-align: top;\n",
       "    }\n",
       "\n",
       "    .dataframe thead th {\n",
       "        text-align: right;\n",
       "    }\n",
       "</style>\n",
       "<table border=\"1\" class=\"dataframe\">\n",
       "  <thead>\n",
       "    <tr style=\"text-align: right;\">\n",
       "      <th></th>\n",
       "      <th>Constituent ID</th>\n",
       "      <th>Name</th>\n",
       "      <th>First Name</th>\n",
       "      <th>Last Name</th>\n",
       "      <th>Age</th>\n",
       "      <th>Total Amount of Gifts</th>\n",
       "      <th>Gift Amount</th>\n",
       "      <th>Gift Date</th>\n",
       "      <th>Appeal Description</th>\n",
       "      <th>Deceased Date</th>\n",
       "      <th>avg giving circle month</th>\n",
       "      <th>length</th>\n",
       "      <th>lapsed time</th>\n",
       "      <th>PG donor</th>\n",
       "      <th>Convert</th>\n",
       "    </tr>\n",
       "  </thead>\n",
       "  <tbody>\n",
       "    <tr>\n",
       "      <th>0</th>\n",
       "      <td>1000016</td>\n",
       "      <td>Donald Pels</td>\n",
       "      <td>Donald</td>\n",
       "      <td>Pels</td>\n",
       "      <td>87.0</td>\n",
       "      <td>21417424.71</td>\n",
       "      <td>25000.0</td>\n",
       "      <td>1993-07-07</td>\n",
       "      <td>Staff Solicited</td>\n",
       "      <td>2014-10-16 00:00:00</td>\n",
       "      <td>8.0</td>\n",
       "      <td>255.0</td>\n",
       "      <td>4.0</td>\n",
       "      <td>0</td>\n",
       "      <td>1</td>\n",
       "    </tr>\n",
       "    <tr>\n",
       "      <th>1</th>\n",
       "      <td>1000045</td>\n",
       "      <td>Roland Algrant</td>\n",
       "      <td>Roland</td>\n",
       "      <td>Algrant</td>\n",
       "      <td>NaN</td>\n",
       "      <td>79150.00</td>\n",
       "      <td>5000.0</td>\n",
       "      <td>1989-12-01</td>\n",
       "      <td>event</td>\n",
       "      <td>2010-12-19 00:00:00</td>\n",
       "      <td>7.0</td>\n",
       "      <td>252.0</td>\n",
       "      <td>107.0</td>\n",
       "      <td>0</td>\n",
       "      <td>1</td>\n",
       "    </tr>\n",
       "    <tr>\n",
       "      <th>2</th>\n",
       "      <td>1000104</td>\n",
       "      <td>Cissy Patterson</td>\n",
       "      <td>Cissy</td>\n",
       "      <td>Patterson</td>\n",
       "      <td>NaN</td>\n",
       "      <td>45000.00</td>\n",
       "      <td>15000.0</td>\n",
       "      <td>1987-08-01</td>\n",
       "      <td>Staff Solicited</td>\n",
       "      <td>NaN</td>\n",
       "      <td>13.0</td>\n",
       "      <td>NaN</td>\n",
       "      <td>107.0</td>\n",
       "      <td>0</td>\n",
       "      <td>1</td>\n",
       "    </tr>\n",
       "    <tr>\n",
       "      <th>3</th>\n",
       "      <td>1000376</td>\n",
       "      <td>Leah Ice</td>\n",
       "      <td>Leah</td>\n",
       "      <td>Ice</td>\n",
       "      <td>NaN</td>\n",
       "      <td>15000.00</td>\n",
       "      <td>1000.0</td>\n",
       "      <td>1995-08-08</td>\n",
       "      <td>Unsolicited Donation</td>\n",
       "      <td>NaN</td>\n",
       "      <td>12.0</td>\n",
       "      <td>NaN</td>\n",
       "      <td>45.0</td>\n",
       "      <td>0</td>\n",
       "      <td>1</td>\n",
       "    </tr>\n",
       "    <tr>\n",
       "      <th>4</th>\n",
       "      <td>1001008</td>\n",
       "      <td>Joyce Reed Rosenberg</td>\n",
       "      <td>Joyce</td>\n",
       "      <td>Reed Rosenberg</td>\n",
       "      <td>NaN</td>\n",
       "      <td>7350.00</td>\n",
       "      <td>50.0</td>\n",
       "      <td>1992-04-29</td>\n",
       "      <td>Unsolicited Donation</td>\n",
       "      <td>2011-12-15 00:00:00</td>\n",
       "      <td>17.0</td>\n",
       "      <td>235.0</td>\n",
       "      <td>32.0</td>\n",
       "      <td>0</td>\n",
       "      <td>1</td>\n",
       "    </tr>\n",
       "  </tbody>\n",
       "</table>\n",
       "</div>"
      ],
      "text/plain": [
       "   Constituent ID                  Name First Name       Last Name   Age  \\\n",
       "0         1000016           Donald Pels     Donald            Pels  87.0   \n",
       "1         1000045        Roland Algrant     Roland         Algrant   NaN   \n",
       "2         1000104       Cissy Patterson      Cissy       Patterson   NaN   \n",
       "3         1000376              Leah Ice       Leah             Ice   NaN   \n",
       "4         1001008  Joyce Reed Rosenberg      Joyce  Reed Rosenberg   NaN   \n",
       "\n",
       "   Total Amount of Gifts  Gift Amount  Gift Date    Appeal Description  \\\n",
       "0            21417424.71      25000.0 1993-07-07       Staff Solicited   \n",
       "1               79150.00       5000.0 1989-12-01                 event   \n",
       "2               45000.00      15000.0 1987-08-01       Staff Solicited   \n",
       "3               15000.00       1000.0 1995-08-08  Unsolicited Donation   \n",
       "4                7350.00         50.0 1992-04-29  Unsolicited Donation   \n",
       "\n",
       "         Deceased Date  avg giving circle month  length  lapsed time  \\\n",
       "0  2014-10-16 00:00:00                      8.0   255.0          4.0   \n",
       "1  2010-12-19 00:00:00                      7.0   252.0        107.0   \n",
       "2                  NaN                     13.0     NaN        107.0   \n",
       "3                  NaN                     12.0     NaN         45.0   \n",
       "4  2011-12-15 00:00:00                     17.0   235.0         32.0   \n",
       "\n",
       "   PG donor  Convert  \n",
       "0         0        1  \n",
       "1         0        1  \n",
       "2         0        1  \n",
       "3         0        1  \n",
       "4         0        1  "
      ]
     },
     "execution_count": 79,
     "metadata": {},
     "output_type": "execute_result"
    }
   ],
   "source": [
    "LFJ_deceased.head()"
   ]
  },
  {
   "cell_type": "code",
   "execution_count": 80,
   "metadata": {},
   "outputs": [
    {
     "name": "stdout",
     "output_type": "stream",
     "text": [
      "<class 'pandas.core.frame.DataFrame'>\n",
      "RangeIndex: 254 entries, 0 to 253\n",
      "Data columns (total 14 columns):\n",
      "Constituent ID             254 non-null int64\n",
      "Name                       254 non-null object\n",
      "First Name                 254 non-null object\n",
      "Last Name                  254 non-null object\n",
      "Age                        246 non-null float64\n",
      "Total Amount of Gifts      254 non-null float64\n",
      "Gift Amount                254 non-null float64\n",
      "Gift Date                  254 non-null datetime64[ns]\n",
      "Appeal Description         254 non-null object\n",
      "avg giving circle month    240 non-null float64\n",
      "lapsed time                254 non-null int64\n",
      "length                     254 non-null int64\n",
      "PG donor                   254 non-null int64\n",
      "Convert                    254 non-null int64\n",
      "dtypes: datetime64[ns](1), float64(4), int64(5), object(4)\n",
      "memory usage: 27.9+ KB\n"
     ]
    }
   ],
   "source": [
    "LFJ_living.info()"
   ]
  },
  {
   "cell_type": "markdown",
   "metadata": {},
   "source": [
    "## Data Quality Check"
   ]
  },
  {
   "cell_type": "code",
   "execution_count": 81,
   "metadata": {
    "scrolled": true
   },
   "outputs": [
    {
     "data": {
      "text/plain": [
       "Constituent ID             False\n",
       "Name                       False\n",
       "First Name                  True\n",
       "Last Name                   True\n",
       "Age                         True\n",
       "Total Amount of Gifts      False\n",
       "Gift Amount                False\n",
       "Gift Date                  False\n",
       "Appeal Description         False\n",
       "avg giving circle month    False\n",
       "lapsed time                False\n",
       "length                     False\n",
       "PG donor                   False\n",
       "Convert                    False\n",
       "dtype: bool"
      ]
     },
     "execution_count": 81,
     "metadata": {},
     "output_type": "execute_result"
    }
   ],
   "source": [
    "DM_gift.isnull().any()"
   ]
  },
  {
   "cell_type": "code",
   "execution_count": 82,
   "metadata": {},
   "outputs": [
    {
     "data": {
      "text/plain": [
       "Constituent ID             False\n",
       "Name                       False\n",
       "First Name                 False\n",
       "Last Name                  False\n",
       "Age                         True\n",
       "Total Amount of Gifts      False\n",
       "Gift Amount                False\n",
       "Gift Date                  False\n",
       "Appeal Description         False\n",
       "avg giving circle month     True\n",
       "lapsed time                False\n",
       "length                     False\n",
       "PG donor                   False\n",
       "Convert                    False\n",
       "dtype: bool"
      ]
     },
     "execution_count": 82,
     "metadata": {},
     "output_type": "execute_result"
    }
   ],
   "source": [
    "LFJ_living.isnull().any()"
   ]
  },
  {
   "cell_type": "code",
   "execution_count": 83,
   "metadata": {
    "scrolled": true
   },
   "outputs": [
    {
     "data": {
      "text/plain": [
       "Constituent ID             False\n",
       "Name                       False\n",
       "First Name                 False\n",
       "Last Name                  False\n",
       "Age                         True\n",
       "Total Amount of Gifts      False\n",
       "Gift Amount                False\n",
       "Gift Date                  False\n",
       "Appeal Description         False\n",
       "Deceased Date               True\n",
       "avg giving circle month     True\n",
       "length                      True\n",
       "lapsed time                 True\n",
       "PG donor                   False\n",
       "Convert                    False\n",
       "dtype: bool"
      ]
     },
     "execution_count": 83,
     "metadata": {},
     "output_type": "execute_result"
    }
   ],
   "source": [
    "LFJ_deceased.isnull().any()"
   ]
  },
  {
   "cell_type": "code",
   "execution_count": 84,
   "metadata": {},
   "outputs": [],
   "source": [
    "# Remove 1 time DM donor\n",
    "DM_gift=DM_gift[DM_gift['avg giving circle month']!=0]"
   ]
  },
  {
   "cell_type": "code",
   "execution_count": 85,
   "metadata": {},
   "outputs": [
    {
     "data": {
      "text/html": [
       "<div>\n",
       "<style scoped>\n",
       "    .dataframe tbody tr th:only-of-type {\n",
       "        vertical-align: middle;\n",
       "    }\n",
       "\n",
       "    .dataframe tbody tr th {\n",
       "        vertical-align: top;\n",
       "    }\n",
       "\n",
       "    .dataframe thead th {\n",
       "        text-align: right;\n",
       "    }\n",
       "</style>\n",
       "<table border=\"1\" class=\"dataframe\">\n",
       "  <thead>\n",
       "    <tr style=\"text-align: right;\">\n",
       "      <th></th>\n",
       "      <th>Constituent ID</th>\n",
       "      <th>Age</th>\n",
       "      <th>Total Amount of Gifts</th>\n",
       "      <th>Gift Amount</th>\n",
       "      <th>avg giving circle month</th>\n",
       "      <th>lapsed time</th>\n",
       "      <th>length</th>\n",
       "      <th>PG donor</th>\n",
       "      <th>Convert</th>\n",
       "    </tr>\n",
       "  </thead>\n",
       "  <tbody>\n",
       "    <tr>\n",
       "      <th>count</th>\n",
       "      <td>2.540000e+02</td>\n",
       "      <td>246.000000</td>\n",
       "      <td>2.540000e+02</td>\n",
       "      <td>254.000000</td>\n",
       "      <td>240.000000</td>\n",
       "      <td>254.000000</td>\n",
       "      <td>254.000000</td>\n",
       "      <td>254.000000</td>\n",
       "      <td>254.0</td>\n",
       "    </tr>\n",
       "    <tr>\n",
       "      <th>mean</th>\n",
       "      <td>3.328792e+05</td>\n",
       "      <td>72.626016</td>\n",
       "      <td>7.184804e+06</td>\n",
       "      <td>3284.715433</td>\n",
       "      <td>10.883333</td>\n",
       "      <td>35.708661</td>\n",
       "      <td>142.145669</td>\n",
       "      <td>0.078740</td>\n",
       "      <td>1.0</td>\n",
       "    </tr>\n",
       "    <tr>\n",
       "      <th>std</th>\n",
       "      <td>4.397280e+05</td>\n",
       "      <td>12.425056</td>\n",
       "      <td>8.766777e+07</td>\n",
       "      <td>24509.244703</td>\n",
       "      <td>12.381105</td>\n",
       "      <td>23.655669</td>\n",
       "      <td>105.153673</td>\n",
       "      <td>0.269865</td>\n",
       "      <td>0.0</td>\n",
       "    </tr>\n",
       "    <tr>\n",
       "      <th>min</th>\n",
       "      <td>1.540000e+03</td>\n",
       "      <td>25.000000</td>\n",
       "      <td>0.000000e+00</td>\n",
       "      <td>0.000000</td>\n",
       "      <td>1.000000</td>\n",
       "      <td>1.000000</td>\n",
       "      <td>5.000000</td>\n",
       "      <td>0.000000</td>\n",
       "      <td>1.0</td>\n",
       "    </tr>\n",
       "    <tr>\n",
       "      <th>25%</th>\n",
       "      <td>5.815450e+04</td>\n",
       "      <td>67.000000</td>\n",
       "      <td>3.012500e+02</td>\n",
       "      <td>30.000000</td>\n",
       "      <td>4.000000</td>\n",
       "      <td>18.000000</td>\n",
       "      <td>82.250000</td>\n",
       "      <td>0.000000</td>\n",
       "      <td>1.0</td>\n",
       "    </tr>\n",
       "    <tr>\n",
       "      <th>50%</th>\n",
       "      <td>1.178525e+05</td>\n",
       "      <td>73.000000</td>\n",
       "      <td>8.900000e+02</td>\n",
       "      <td>50.000000</td>\n",
       "      <td>8.500000</td>\n",
       "      <td>32.000000</td>\n",
       "      <td>137.500000</td>\n",
       "      <td>0.000000</td>\n",
       "      <td>1.0</td>\n",
       "    </tr>\n",
       "    <tr>\n",
       "      <th>75%</th>\n",
       "      <td>1.989210e+05</td>\n",
       "      <td>81.000000</td>\n",
       "      <td>4.476250e+03</td>\n",
       "      <td>100.000000</td>\n",
       "      <td>13.000000</td>\n",
       "      <td>50.000000</td>\n",
       "      <td>183.750000</td>\n",
       "      <td>0.000000</td>\n",
       "      <td>1.0</td>\n",
       "    </tr>\n",
       "    <tr>\n",
       "      <th>max</th>\n",
       "      <td>1.349416e+06</td>\n",
       "      <td>98.000000</td>\n",
       "      <td>1.385764e+09</td>\n",
       "      <td>300000.000000</td>\n",
       "      <td>136.000000</td>\n",
       "      <td>133.000000</td>\n",
       "      <td>1300.000000</td>\n",
       "      <td>1.000000</td>\n",
       "      <td>1.0</td>\n",
       "    </tr>\n",
       "  </tbody>\n",
       "</table>\n",
       "</div>"
      ],
      "text/plain": [
       "       Constituent ID         Age  Total Amount of Gifts    Gift Amount  \\\n",
       "count    2.540000e+02  246.000000           2.540000e+02     254.000000   \n",
       "mean     3.328792e+05   72.626016           7.184804e+06    3284.715433   \n",
       "std      4.397280e+05   12.425056           8.766777e+07   24509.244703   \n",
       "min      1.540000e+03   25.000000           0.000000e+00       0.000000   \n",
       "25%      5.815450e+04   67.000000           3.012500e+02      30.000000   \n",
       "50%      1.178525e+05   73.000000           8.900000e+02      50.000000   \n",
       "75%      1.989210e+05   81.000000           4.476250e+03     100.000000   \n",
       "max      1.349416e+06   98.000000           1.385764e+09  300000.000000   \n",
       "\n",
       "       avg giving circle month  lapsed time       length    PG donor  Convert  \n",
       "count               240.000000   254.000000   254.000000  254.000000    254.0  \n",
       "mean                 10.883333    35.708661   142.145669    0.078740      1.0  \n",
       "std                  12.381105    23.655669   105.153673    0.269865      0.0  \n",
       "min                   1.000000     1.000000     5.000000    0.000000      1.0  \n",
       "25%                   4.000000    18.000000    82.250000    0.000000      1.0  \n",
       "50%                   8.500000    32.000000   137.500000    0.000000      1.0  \n",
       "75%                  13.000000    50.000000   183.750000    0.000000      1.0  \n",
       "max                 136.000000   133.000000  1300.000000    1.000000      1.0  "
      ]
     },
     "execution_count": 85,
     "metadata": {},
     "output_type": "execute_result"
    }
   ],
   "source": [
    "#Display the statistical overview of living bequest donors\n",
    "LFJ_living.describe()"
   ]
  },
  {
   "cell_type": "code",
   "execution_count": 86,
   "metadata": {},
   "outputs": [
    {
     "data": {
      "text/html": [
       "<div>\n",
       "<style scoped>\n",
       "    .dataframe tbody tr th:only-of-type {\n",
       "        vertical-align: middle;\n",
       "    }\n",
       "\n",
       "    .dataframe tbody tr th {\n",
       "        vertical-align: top;\n",
       "    }\n",
       "\n",
       "    .dataframe thead th {\n",
       "        text-align: right;\n",
       "    }\n",
       "</style>\n",
       "<table border=\"1\" class=\"dataframe\">\n",
       "  <thead>\n",
       "    <tr style=\"text-align: right;\">\n",
       "      <th></th>\n",
       "      <th>Constituent ID</th>\n",
       "      <th>Age</th>\n",
       "      <th>Total Amount of Gifts</th>\n",
       "      <th>Gift Amount</th>\n",
       "      <th>avg giving circle month</th>\n",
       "      <th>length</th>\n",
       "      <th>lapsed time</th>\n",
       "      <th>PG donor</th>\n",
       "      <th>Convert</th>\n",
       "    </tr>\n",
       "  </thead>\n",
       "  <tbody>\n",
       "    <tr>\n",
       "      <th>count</th>\n",
       "      <td>1.190000e+02</td>\n",
       "      <td>41.000000</td>\n",
       "      <td>1.190000e+02</td>\n",
       "      <td>119.000000</td>\n",
       "      <td>110.000000</td>\n",
       "      <td>54.000000</td>\n",
       "      <td>100.000000</td>\n",
       "      <td>119.000000</td>\n",
       "      <td>119.0</td>\n",
       "    </tr>\n",
       "    <tr>\n",
       "      <th>mean</th>\n",
       "      <td>6.454338e+05</td>\n",
       "      <td>81.634146</td>\n",
       "      <td>2.019089e+05</td>\n",
       "      <td>634.493445</td>\n",
       "      <td>14.354545</td>\n",
       "      <td>149.740741</td>\n",
       "      <td>42.640000</td>\n",
       "      <td>0.016807</td>\n",
       "      <td>1.0</td>\n",
       "    </tr>\n",
       "    <tr>\n",
       "      <th>std</th>\n",
       "      <td>5.199095e+05</td>\n",
       "      <td>9.205314</td>\n",
       "      <td>1.965858e+06</td>\n",
       "      <td>2843.140811</td>\n",
       "      <td>14.337726</td>\n",
       "      <td>75.999301</td>\n",
       "      <td>40.731821</td>\n",
       "      <td>0.129090</td>\n",
       "      <td>0.0</td>\n",
       "    </tr>\n",
       "    <tr>\n",
       "      <th>min</th>\n",
       "      <td>3.247000e+03</td>\n",
       "      <td>59.000000</td>\n",
       "      <td>1.000000e+01</td>\n",
       "      <td>5.000000</td>\n",
       "      <td>1.000000</td>\n",
       "      <td>13.000000</td>\n",
       "      <td>2.000000</td>\n",
       "      <td>0.000000</td>\n",
       "      <td>1.0</td>\n",
       "    </tr>\n",
       "    <tr>\n",
       "      <th>25%</th>\n",
       "      <td>5.864050e+04</td>\n",
       "      <td>76.000000</td>\n",
       "      <td>2.600000e+02</td>\n",
       "      <td>25.000000</td>\n",
       "      <td>8.000000</td>\n",
       "      <td>96.500000</td>\n",
       "      <td>15.000000</td>\n",
       "      <td>0.000000</td>\n",
       "      <td>1.0</td>\n",
       "    </tr>\n",
       "    <tr>\n",
       "      <th>50%</th>\n",
       "      <td>1.001999e+06</td>\n",
       "      <td>82.000000</td>\n",
       "      <td>5.800000e+02</td>\n",
       "      <td>50.000000</td>\n",
       "      <td>11.000000</td>\n",
       "      <td>147.000000</td>\n",
       "      <td>31.500000</td>\n",
       "      <td>0.000000</td>\n",
       "      <td>1.0</td>\n",
       "    </tr>\n",
       "    <tr>\n",
       "      <th>75%</th>\n",
       "      <td>1.024868e+06</td>\n",
       "      <td>88.000000</td>\n",
       "      <td>2.624530e+03</td>\n",
       "      <td>100.000000</td>\n",
       "      <td>15.750000</td>\n",
       "      <td>190.750000</td>\n",
       "      <td>50.000000</td>\n",
       "      <td>0.000000</td>\n",
       "      <td>1.0</td>\n",
       "    </tr>\n",
       "    <tr>\n",
       "      <th>max</th>\n",
       "      <td>1.361742e+06</td>\n",
       "      <td>98.000000</td>\n",
       "      <td>2.141742e+07</td>\n",
       "      <td>25000.000000</td>\n",
       "      <td>108.000000</td>\n",
       "      <td>333.000000</td>\n",
       "      <td>257.000000</td>\n",
       "      <td>1.000000</td>\n",
       "      <td>1.0</td>\n",
       "    </tr>\n",
       "  </tbody>\n",
       "</table>\n",
       "</div>"
      ],
      "text/plain": [
       "       Constituent ID        Age  Total Amount of Gifts   Gift Amount  \\\n",
       "count    1.190000e+02  41.000000           1.190000e+02    119.000000   \n",
       "mean     6.454338e+05  81.634146           2.019089e+05    634.493445   \n",
       "std      5.199095e+05   9.205314           1.965858e+06   2843.140811   \n",
       "min      3.247000e+03  59.000000           1.000000e+01      5.000000   \n",
       "25%      5.864050e+04  76.000000           2.600000e+02     25.000000   \n",
       "50%      1.001999e+06  82.000000           5.800000e+02     50.000000   \n",
       "75%      1.024868e+06  88.000000           2.624530e+03    100.000000   \n",
       "max      1.361742e+06  98.000000           2.141742e+07  25000.000000   \n",
       "\n",
       "       avg giving circle month      length  lapsed time    PG donor  Convert  \n",
       "count               110.000000   54.000000   100.000000  119.000000    119.0  \n",
       "mean                 14.354545  149.740741    42.640000    0.016807      1.0  \n",
       "std                  14.337726   75.999301    40.731821    0.129090      0.0  \n",
       "min                   1.000000   13.000000     2.000000    0.000000      1.0  \n",
       "25%                   8.000000   96.500000    15.000000    0.000000      1.0  \n",
       "50%                  11.000000  147.000000    31.500000    0.000000      1.0  \n",
       "75%                  15.750000  190.750000    50.000000    0.000000      1.0  \n",
       "max                 108.000000  333.000000   257.000000    1.000000      1.0  "
      ]
     },
     "execution_count": 86,
     "metadata": {},
     "output_type": "execute_result"
    }
   ],
   "source": [
    "#Display the statistical overview of deceased bequest donors\n",
    "LFJ_deceased.describe()"
   ]
  },
  {
   "cell_type": "code",
   "execution_count": 87,
   "metadata": {},
   "outputs": [
    {
     "data": {
      "text/html": [
       "<div>\n",
       "<style scoped>\n",
       "    .dataframe tbody tr th:only-of-type {\n",
       "        vertical-align: middle;\n",
       "    }\n",
       "\n",
       "    .dataframe tbody tr th {\n",
       "        vertical-align: top;\n",
       "    }\n",
       "\n",
       "    .dataframe thead th {\n",
       "        text-align: right;\n",
       "    }\n",
       "</style>\n",
       "<table border=\"1\" class=\"dataframe\">\n",
       "  <thead>\n",
       "    <tr style=\"text-align: right;\">\n",
       "      <th></th>\n",
       "      <th>Constituent ID</th>\n",
       "      <th>Age</th>\n",
       "      <th>Total Amount of Gifts</th>\n",
       "      <th>Gift Amount</th>\n",
       "      <th>avg giving circle month</th>\n",
       "      <th>lapsed time</th>\n",
       "      <th>length</th>\n",
       "      <th>PG donor</th>\n",
       "      <th>Convert</th>\n",
       "    </tr>\n",
       "  </thead>\n",
       "  <tbody>\n",
       "    <tr>\n",
       "      <th>count</th>\n",
       "      <td>7.505200e+04</td>\n",
       "      <td>59818.000000</td>\n",
       "      <td>7.505200e+04</td>\n",
       "      <td>7.505200e+04</td>\n",
       "      <td>75052.000000</td>\n",
       "      <td>75052.000000</td>\n",
       "      <td>75052.000000</td>\n",
       "      <td>75052.000000</td>\n",
       "      <td>75052.0</td>\n",
       "    </tr>\n",
       "    <tr>\n",
       "      <th>mean</th>\n",
       "      <td>2.384349e+05</td>\n",
       "      <td>71.920375</td>\n",
       "      <td>1.646320e+05</td>\n",
       "      <td>1.510849e+03</td>\n",
       "      <td>14.613122</td>\n",
       "      <td>33.879524</td>\n",
       "      <td>84.308386</td>\n",
       "      <td>0.024050</td>\n",
       "      <td>0.0</td>\n",
       "    </tr>\n",
       "    <tr>\n",
       "      <th>std</th>\n",
       "      <td>9.409478e+05</td>\n",
       "      <td>14.660757</td>\n",
       "      <td>1.201533e+07</td>\n",
       "      <td>6.251447e+04</td>\n",
       "      <td>14.063458</td>\n",
       "      <td>33.448722</td>\n",
       "      <td>37.496101</td>\n",
       "      <td>0.153205</td>\n",
       "      <td>0.0</td>\n",
       "    </tr>\n",
       "    <tr>\n",
       "      <th>min</th>\n",
       "      <td>2.000000e+00</td>\n",
       "      <td>1.000000</td>\n",
       "      <td>0.000000e+00</td>\n",
       "      <td>0.000000e+00</td>\n",
       "      <td>1.000000</td>\n",
       "      <td>0.000000</td>\n",
       "      <td>1.000000</td>\n",
       "      <td>0.000000</td>\n",
       "      <td>0.0</td>\n",
       "    </tr>\n",
       "    <tr>\n",
       "      <th>25%</th>\n",
       "      <td>6.635600e+04</td>\n",
       "      <td>64.000000</td>\n",
       "      <td>1.000000e+02</td>\n",
       "      <td>2.500000e+01</td>\n",
       "      <td>7.000000</td>\n",
       "      <td>8.000000</td>\n",
       "      <td>51.000000</td>\n",
       "      <td>0.000000</td>\n",
       "      <td>0.0</td>\n",
       "    </tr>\n",
       "    <tr>\n",
       "      <th>50%</th>\n",
       "      <td>1.160175e+05</td>\n",
       "      <td>73.000000</td>\n",
       "      <td>2.350000e+02</td>\n",
       "      <td>5.000000e+01</td>\n",
       "      <td>12.000000</td>\n",
       "      <td>20.000000</td>\n",
       "      <td>94.000000</td>\n",
       "      <td>0.000000</td>\n",
       "      <td>0.0</td>\n",
       "    </tr>\n",
       "    <tr>\n",
       "      <th>75%</th>\n",
       "      <td>1.743235e+05</td>\n",
       "      <td>82.000000</td>\n",
       "      <td>6.750000e+02</td>\n",
       "      <td>1.000000e+02</td>\n",
       "      <td>17.000000</td>\n",
       "      <td>56.000000</td>\n",
       "      <td>118.000000</td>\n",
       "      <td>0.000000</td>\n",
       "      <td>0.0</td>\n",
       "    </tr>\n",
       "    <tr>\n",
       "      <th>max</th>\n",
       "      <td>2.393136e+08</td>\n",
       "      <td>116.000000</td>\n",
       "      <td>2.371200e+09</td>\n",
       "      <td>1.000000e+07</td>\n",
       "      <td>126.000000</td>\n",
       "      <td>126.000000</td>\n",
       "      <td>127.000000</td>\n",
       "      <td>1.000000</td>\n",
       "      <td>0.0</td>\n",
       "    </tr>\n",
       "  </tbody>\n",
       "</table>\n",
       "</div>"
      ],
      "text/plain": [
       "       Constituent ID           Age  Total Amount of Gifts   Gift Amount  \\\n",
       "count    7.505200e+04  59818.000000           7.505200e+04  7.505200e+04   \n",
       "mean     2.384349e+05     71.920375           1.646320e+05  1.510849e+03   \n",
       "std      9.409478e+05     14.660757           1.201533e+07  6.251447e+04   \n",
       "min      2.000000e+00      1.000000           0.000000e+00  0.000000e+00   \n",
       "25%      6.635600e+04     64.000000           1.000000e+02  2.500000e+01   \n",
       "50%      1.160175e+05     73.000000           2.350000e+02  5.000000e+01   \n",
       "75%      1.743235e+05     82.000000           6.750000e+02  1.000000e+02   \n",
       "max      2.393136e+08    116.000000           2.371200e+09  1.000000e+07   \n",
       "\n",
       "       avg giving circle month   lapsed time        length      PG donor  \\\n",
       "count             75052.000000  75052.000000  75052.000000  75052.000000   \n",
       "mean                 14.613122     33.879524     84.308386      0.024050   \n",
       "std                  14.063458     33.448722     37.496101      0.153205   \n",
       "min                   1.000000      0.000000      1.000000      0.000000   \n",
       "25%                   7.000000      8.000000     51.000000      0.000000   \n",
       "50%                  12.000000     20.000000     94.000000      0.000000   \n",
       "75%                  17.000000     56.000000    118.000000      0.000000   \n",
       "max                 126.000000    126.000000    127.000000      1.000000   \n",
       "\n",
       "       Convert  \n",
       "count  75052.0  \n",
       "mean       0.0  \n",
       "std        0.0  \n",
       "min        0.0  \n",
       "25%        0.0  \n",
       "50%        0.0  \n",
       "75%        0.0  \n",
       "max        0.0  "
      ]
     },
     "execution_count": 87,
     "metadata": {},
     "output_type": "execute_result"
    }
   ],
   "source": [
    "DM_gift.describe()"
   ]
  },
  {
   "cell_type": "code",
   "execution_count": 88,
   "metadata": {},
   "outputs": [
    {
     "data": {
      "text/html": [
       "<div>\n",
       "<style scoped>\n",
       "    .dataframe tbody tr th:only-of-type {\n",
       "        vertical-align: middle;\n",
       "    }\n",
       "\n",
       "    .dataframe tbody tr th {\n",
       "        vertical-align: top;\n",
       "    }\n",
       "\n",
       "    .dataframe thead th {\n",
       "        text-align: right;\n",
       "    }\n",
       "</style>\n",
       "<table border=\"1\" class=\"dataframe\">\n",
       "  <thead>\n",
       "    <tr style=\"text-align: right;\">\n",
       "      <th></th>\n",
       "      <th>Constituent ID</th>\n",
       "      <th>Name</th>\n",
       "      <th>First Name</th>\n",
       "      <th>Last Name</th>\n",
       "      <th>Age</th>\n",
       "      <th>Total Amount of Gifts</th>\n",
       "      <th>Gift Amount</th>\n",
       "      <th>Gift Date</th>\n",
       "      <th>Appeal Description</th>\n",
       "      <th>avg giving circle month</th>\n",
       "      <th>lapsed time</th>\n",
       "      <th>length</th>\n",
       "      <th>PG donor</th>\n",
       "      <th>Convert</th>\n",
       "    </tr>\n",
       "  </thead>\n",
       "  <tbody>\n",
       "    <tr>\n",
       "      <th>1</th>\n",
       "      <td>1002302</td>\n",
       "      <td>Michael A. Replogle</td>\n",
       "      <td>Michael</td>\n",
       "      <td>Replogle</td>\n",
       "      <td>64.0</td>\n",
       "      <td>1510.00</td>\n",
       "      <td>50.00</td>\n",
       "      <td>1988-02-12</td>\n",
       "      <td>DM</td>\n",
       "      <td>14.0</td>\n",
       "      <td>59</td>\n",
       "      <td>366</td>\n",
       "      <td>0</td>\n",
       "      <td>1</td>\n",
       "    </tr>\n",
       "    <tr>\n",
       "      <th>2</th>\n",
       "      <td>1004065</td>\n",
       "      <td>Kathleen Hanold</td>\n",
       "      <td>Kathleen</td>\n",
       "      <td>Hanold</td>\n",
       "      <td>89.0</td>\n",
       "      <td>425.00</td>\n",
       "      <td>15.00</td>\n",
       "      <td>1989-01-13</td>\n",
       "      <td>DM</td>\n",
       "      <td>36.0</td>\n",
       "      <td>64</td>\n",
       "      <td>355</td>\n",
       "      <td>0</td>\n",
       "      <td>1</td>\n",
       "    </tr>\n",
       "    <tr>\n",
       "      <th>3</th>\n",
       "      <td>1004379</td>\n",
       "      <td>Maile N. Johnson</td>\n",
       "      <td>Maile</td>\n",
       "      <td>Johnson</td>\n",
       "      <td>68.0</td>\n",
       "      <td>715.00</td>\n",
       "      <td>15.00</td>\n",
       "      <td>1990-07-18</td>\n",
       "      <td>DM</td>\n",
       "      <td>14.0</td>\n",
       "      <td>56</td>\n",
       "      <td>337</td>\n",
       "      <td>0</td>\n",
       "      <td>1</td>\n",
       "    </tr>\n",
       "    <tr>\n",
       "      <th>4</th>\n",
       "      <td>1005044</td>\n",
       "      <td>Miriam Berkley</td>\n",
       "      <td>Miriam</td>\n",
       "      <td>Berkley</td>\n",
       "      <td>74.0</td>\n",
       "      <td>560.00</td>\n",
       "      <td>20.00</td>\n",
       "      <td>1990-12-12</td>\n",
       "      <td>DM</td>\n",
       "      <td>22.0</td>\n",
       "      <td>14</td>\n",
       "      <td>332</td>\n",
       "      <td>0</td>\n",
       "      <td>1</td>\n",
       "    </tr>\n",
       "    <tr>\n",
       "      <th>5</th>\n",
       "      <td>1006922</td>\n",
       "      <td>Edward Eitches</td>\n",
       "      <td>Edward</td>\n",
       "      <td>Eitches</td>\n",
       "      <td>69.0</td>\n",
       "      <td>239.00</td>\n",
       "      <td>20.00</td>\n",
       "      <td>1991-12-20</td>\n",
       "      <td>DM</td>\n",
       "      <td>30.0</td>\n",
       "      <td>17</td>\n",
       "      <td>320</td>\n",
       "      <td>0</td>\n",
       "      <td>1</td>\n",
       "    </tr>\n",
       "    <tr>\n",
       "      <th>6</th>\n",
       "      <td>1007116</td>\n",
       "      <td>Fay Clayton</td>\n",
       "      <td>Fay</td>\n",
       "      <td>Clayton</td>\n",
       "      <td>71.0</td>\n",
       "      <td>216520.00</td>\n",
       "      <td>120.00</td>\n",
       "      <td>1991-12-31</td>\n",
       "      <td>DM</td>\n",
       "      <td>7.0</td>\n",
       "      <td>35</td>\n",
       "      <td>320</td>\n",
       "      <td>0</td>\n",
       "      <td>1</td>\n",
       "    </tr>\n",
       "    <tr>\n",
       "      <th>7</th>\n",
       "      <td>1007154</td>\n",
       "      <td>Cheryl Greenberg</td>\n",
       "      <td>Cheryl</td>\n",
       "      <td>Greenberg</td>\n",
       "      <td>60.0</td>\n",
       "      <td>1415.00</td>\n",
       "      <td>20.00</td>\n",
       "      <td>1991-12-31</td>\n",
       "      <td>DM</td>\n",
       "      <td>13.0</td>\n",
       "      <td>44</td>\n",
       "      <td>320</td>\n",
       "      <td>0</td>\n",
       "      <td>1</td>\n",
       "    </tr>\n",
       "    <tr>\n",
       "      <th>8</th>\n",
       "      <td>1007226</td>\n",
       "      <td>Shoshana Rihn</td>\n",
       "      <td>Shoshana</td>\n",
       "      <td>Rihn</td>\n",
       "      <td>87.0</td>\n",
       "      <td>11800.00</td>\n",
       "      <td>20.00</td>\n",
       "      <td>1991-12-31</td>\n",
       "      <td>DM</td>\n",
       "      <td>19.0</td>\n",
       "      <td>8</td>\n",
       "      <td>320</td>\n",
       "      <td>1</td>\n",
       "      <td>1</td>\n",
       "    </tr>\n",
       "    <tr>\n",
       "      <th>9</th>\n",
       "      <td>1008401</td>\n",
       "      <td>Judith Wechsler</td>\n",
       "      <td>Judith</td>\n",
       "      <td>Wechsler</td>\n",
       "      <td>77.0</td>\n",
       "      <td>1375.00</td>\n",
       "      <td>20.00</td>\n",
       "      <td>1992-08-07</td>\n",
       "      <td>DM</td>\n",
       "      <td>9.0</td>\n",
       "      <td>19</td>\n",
       "      <td>312</td>\n",
       "      <td>0</td>\n",
       "      <td>1</td>\n",
       "    </tr>\n",
       "    <tr>\n",
       "      <th>11</th>\n",
       "      <td>1009475</td>\n",
       "      <td>Leonard Sussman</td>\n",
       "      <td>Leonard</td>\n",
       "      <td>Sussman</td>\n",
       "      <td>71.0</td>\n",
       "      <td>4145.00</td>\n",
       "      <td>120.00</td>\n",
       "      <td>1993-06-07</td>\n",
       "      <td>DM</td>\n",
       "      <td>20.0</td>\n",
       "      <td>33</td>\n",
       "      <td>302</td>\n",
       "      <td>0</td>\n",
       "      <td>1</td>\n",
       "    </tr>\n",
       "    <tr>\n",
       "      <th>13</th>\n",
       "      <td>1014195</td>\n",
       "      <td>Jane T. Olson</td>\n",
       "      <td>Jane</td>\n",
       "      <td>Olson</td>\n",
       "      <td>76.0</td>\n",
       "      <td>42756681.84</td>\n",
       "      <td>2433.87</td>\n",
       "      <td>1992-01-23</td>\n",
       "      <td>Unsolicited Donation</td>\n",
       "      <td>4.0</td>\n",
       "      <td>8</td>\n",
       "      <td>319</td>\n",
       "      <td>0</td>\n",
       "      <td>1</td>\n",
       "    </tr>\n",
       "    <tr>\n",
       "      <th>21</th>\n",
       "      <td>1024245</td>\n",
       "      <td>Iliani Matisse</td>\n",
       "      <td>Iliani</td>\n",
       "      <td>Matisse</td>\n",
       "      <td>68.0</td>\n",
       "      <td>585.00</td>\n",
       "      <td>100.00</td>\n",
       "      <td>1910-04-04</td>\n",
       "      <td>DM</td>\n",
       "      <td>136.0</td>\n",
       "      <td>68</td>\n",
       "      <td>1300</td>\n",
       "      <td>0</td>\n",
       "      <td>1</td>\n",
       "    </tr>\n",
       "    <tr>\n",
       "      <th>171</th>\n",
       "      <td>35956</td>\n",
       "      <td>Robert S. Gaines</td>\n",
       "      <td>Robert</td>\n",
       "      <td>Gaines</td>\n",
       "      <td>78.0</td>\n",
       "      <td>8580.00</td>\n",
       "      <td>50.00</td>\n",
       "      <td>1992-01-13</td>\n",
       "      <td>DM</td>\n",
       "      <td>14.0</td>\n",
       "      <td>18</td>\n",
       "      <td>319</td>\n",
       "      <td>0</td>\n",
       "      <td>1</td>\n",
       "    </tr>\n",
       "  </tbody>\n",
       "</table>\n",
       "</div>"
      ],
      "text/plain": [
       "     Constituent ID                 Name First Name  Last Name   Age  \\\n",
       "1           1002302  Michael A. Replogle    Michael   Replogle  64.0   \n",
       "2           1004065      Kathleen Hanold   Kathleen     Hanold  89.0   \n",
       "3           1004379     Maile N. Johnson      Maile    Johnson  68.0   \n",
       "4           1005044       Miriam Berkley     Miriam    Berkley  74.0   \n",
       "5           1006922       Edward Eitches     Edward    Eitches  69.0   \n",
       "6           1007116          Fay Clayton        Fay    Clayton  71.0   \n",
       "7           1007154     Cheryl Greenberg     Cheryl  Greenberg  60.0   \n",
       "8           1007226        Shoshana Rihn   Shoshana       Rihn  87.0   \n",
       "9           1008401      Judith Wechsler     Judith   Wechsler  77.0   \n",
       "11          1009475      Leonard Sussman    Leonard    Sussman  71.0   \n",
       "13          1014195        Jane T. Olson       Jane      Olson  76.0   \n",
       "21          1024245       Iliani Matisse     Iliani    Matisse  68.0   \n",
       "171           35956     Robert S. Gaines     Robert     Gaines  78.0   \n",
       "\n",
       "     Total Amount of Gifts  Gift Amount  Gift Date    Appeal Description  \\\n",
       "1                  1510.00        50.00 1988-02-12                    DM   \n",
       "2                   425.00        15.00 1989-01-13                    DM   \n",
       "3                   715.00        15.00 1990-07-18                    DM   \n",
       "4                   560.00        20.00 1990-12-12                    DM   \n",
       "5                   239.00        20.00 1991-12-20                    DM   \n",
       "6                216520.00       120.00 1991-12-31                    DM   \n",
       "7                  1415.00        20.00 1991-12-31                    DM   \n",
       "8                 11800.00        20.00 1991-12-31                    DM   \n",
       "9                  1375.00        20.00 1992-08-07                    DM   \n",
       "11                 4145.00       120.00 1993-06-07                    DM   \n",
       "13             42756681.84      2433.87 1992-01-23  Unsolicited Donation   \n",
       "21                  585.00       100.00 1910-04-04                    DM   \n",
       "171                8580.00        50.00 1992-01-13                    DM   \n",
       "\n",
       "     avg giving circle month  lapsed time  length  PG donor  Convert  \n",
       "1                       14.0           59     366         0        1  \n",
       "2                       36.0           64     355         0        1  \n",
       "3                       14.0           56     337         0        1  \n",
       "4                       22.0           14     332         0        1  \n",
       "5                       30.0           17     320         0        1  \n",
       "6                        7.0           35     320         0        1  \n",
       "7                       13.0           44     320         0        1  \n",
       "8                       19.0            8     320         1        1  \n",
       "9                        9.0           19     312         0        1  \n",
       "11                      20.0           33     302         0        1  \n",
       "13                       4.0            8     319         0        1  \n",
       "21                     136.0           68    1300         0        1  \n",
       "171                     14.0           18     319         0        1  "
      ]
     },
     "execution_count": 88,
     "metadata": {},
     "output_type": "execute_result"
    }
   ],
   "source": [
    "LFJ_living[LFJ_living['length']>300]"
   ]
  },
  {
   "cell_type": "code",
   "execution_count": 89,
   "metadata": {},
   "outputs": [],
   "source": [
    "#remove the length =3000 donor\n",
    "LFJ_living=LFJ_living[LFJ_living['length']<500]"
   ]
  },
  {
   "cell_type": "code",
   "execution_count": 90,
   "metadata": {},
   "outputs": [
    {
     "data": {
      "text/html": [
       "<div>\n",
       "<style scoped>\n",
       "    .dataframe tbody tr th:only-of-type {\n",
       "        vertical-align: middle;\n",
       "    }\n",
       "\n",
       "    .dataframe tbody tr th {\n",
       "        vertical-align: top;\n",
       "    }\n",
       "\n",
       "    .dataframe thead th {\n",
       "        text-align: right;\n",
       "    }\n",
       "</style>\n",
       "<table border=\"1\" class=\"dataframe\">\n",
       "  <thead>\n",
       "    <tr style=\"text-align: right;\">\n",
       "      <th></th>\n",
       "      <th>Constituent ID</th>\n",
       "      <th>Age</th>\n",
       "      <th>Total Amount of Gifts</th>\n",
       "      <th>Gift Amount</th>\n",
       "      <th>avg giving circle month</th>\n",
       "      <th>lapsed time</th>\n",
       "      <th>length</th>\n",
       "      <th>PG donor</th>\n",
       "      <th>Convert</th>\n",
       "    </tr>\n",
       "  </thead>\n",
       "  <tbody>\n",
       "    <tr>\n",
       "      <th>count</th>\n",
       "      <td>2.530000e+02</td>\n",
       "      <td>245.000000</td>\n",
       "      <td>2.530000e+02</td>\n",
       "      <td>253.000000</td>\n",
       "      <td>239.000000</td>\n",
       "      <td>253.000000</td>\n",
       "      <td>253.000000</td>\n",
       "      <td>253.000000</td>\n",
       "      <td>253.0</td>\n",
       "    </tr>\n",
       "    <tr>\n",
       "      <th>mean</th>\n",
       "      <td>3.301465e+05</td>\n",
       "      <td>72.644898</td>\n",
       "      <td>7.213200e+06</td>\n",
       "      <td>3297.303241</td>\n",
       "      <td>10.359833</td>\n",
       "      <td>35.581028</td>\n",
       "      <td>137.569170</td>\n",
       "      <td>0.079051</td>\n",
       "      <td>1.0</td>\n",
       "    </tr>\n",
       "    <tr>\n",
       "      <th>std</th>\n",
       "      <td>4.384333e+05</td>\n",
       "      <td>12.446954</td>\n",
       "      <td>8.784037e+07</td>\n",
       "      <td>24557.003309</td>\n",
       "      <td>9.374795</td>\n",
       "      <td>23.614764</td>\n",
       "      <td>75.895972</td>\n",
       "      <td>0.270354</td>\n",
       "      <td>0.0</td>\n",
       "    </tr>\n",
       "    <tr>\n",
       "      <th>min</th>\n",
       "      <td>1.540000e+03</td>\n",
       "      <td>25.000000</td>\n",
       "      <td>0.000000e+00</td>\n",
       "      <td>0.000000</td>\n",
       "      <td>1.000000</td>\n",
       "      <td>1.000000</td>\n",
       "      <td>5.000000</td>\n",
       "      <td>0.000000</td>\n",
       "      <td>1.0</td>\n",
       "    </tr>\n",
       "    <tr>\n",
       "      <th>25%</th>\n",
       "      <td>5.806400e+04</td>\n",
       "      <td>67.000000</td>\n",
       "      <td>3.000000e+02</td>\n",
       "      <td>30.000000</td>\n",
       "      <td>4.000000</td>\n",
       "      <td>18.000000</td>\n",
       "      <td>82.000000</td>\n",
       "      <td>0.000000</td>\n",
       "      <td>1.0</td>\n",
       "    </tr>\n",
       "    <tr>\n",
       "      <th>50%</th>\n",
       "      <td>1.174040e+05</td>\n",
       "      <td>73.000000</td>\n",
       "      <td>8.900000e+02</td>\n",
       "      <td>50.000000</td>\n",
       "      <td>8.000000</td>\n",
       "      <td>32.000000</td>\n",
       "      <td>135.000000</td>\n",
       "      <td>0.000000</td>\n",
       "      <td>1.0</td>\n",
       "    </tr>\n",
       "    <tr>\n",
       "      <th>75%</th>\n",
       "      <td>1.971990e+05</td>\n",
       "      <td>81.000000</td>\n",
       "      <td>4.500000e+03</td>\n",
       "      <td>100.000000</td>\n",
       "      <td>13.000000</td>\n",
       "      <td>50.000000</td>\n",
       "      <td>183.000000</td>\n",
       "      <td>0.000000</td>\n",
       "      <td>1.0</td>\n",
       "    </tr>\n",
       "    <tr>\n",
       "      <th>max</th>\n",
       "      <td>1.349416e+06</td>\n",
       "      <td>98.000000</td>\n",
       "      <td>1.385764e+09</td>\n",
       "      <td>300000.000000</td>\n",
       "      <td>81.000000</td>\n",
       "      <td>133.000000</td>\n",
       "      <td>366.000000</td>\n",
       "      <td>1.000000</td>\n",
       "      <td>1.0</td>\n",
       "    </tr>\n",
       "  </tbody>\n",
       "</table>\n",
       "</div>"
      ],
      "text/plain": [
       "       Constituent ID         Age  Total Amount of Gifts    Gift Amount  \\\n",
       "count    2.530000e+02  245.000000           2.530000e+02     253.000000   \n",
       "mean     3.301465e+05   72.644898           7.213200e+06    3297.303241   \n",
       "std      4.384333e+05   12.446954           8.784037e+07   24557.003309   \n",
       "min      1.540000e+03   25.000000           0.000000e+00       0.000000   \n",
       "25%      5.806400e+04   67.000000           3.000000e+02      30.000000   \n",
       "50%      1.174040e+05   73.000000           8.900000e+02      50.000000   \n",
       "75%      1.971990e+05   81.000000           4.500000e+03     100.000000   \n",
       "max      1.349416e+06   98.000000           1.385764e+09  300000.000000   \n",
       "\n",
       "       avg giving circle month  lapsed time      length    PG donor  Convert  \n",
       "count               239.000000   253.000000  253.000000  253.000000    253.0  \n",
       "mean                 10.359833    35.581028  137.569170    0.079051      1.0  \n",
       "std                   9.374795    23.614764   75.895972    0.270354      0.0  \n",
       "min                   1.000000     1.000000    5.000000    0.000000      1.0  \n",
       "25%                   4.000000    18.000000   82.000000    0.000000      1.0  \n",
       "50%                   8.000000    32.000000  135.000000    0.000000      1.0  \n",
       "75%                  13.000000    50.000000  183.000000    0.000000      1.0  \n",
       "max                  81.000000   133.000000  366.000000    1.000000      1.0  "
      ]
     },
     "execution_count": 90,
     "metadata": {},
     "output_type": "execute_result"
    }
   ],
   "source": [
    "LFJ_living.describe()"
   ]
  },
  {
   "cell_type": "code",
   "execution_count": 91,
   "metadata": {},
   "outputs": [
    {
     "data": {
      "text/plain": [
       "Constituent ID             False\n",
       "Name                       False\n",
       "First Name                 False\n",
       "Last Name                  False\n",
       "Age                         True\n",
       "Total Amount of Gifts      False\n",
       "Gift Amount                False\n",
       "Gift Date                  False\n",
       "Appeal Description         False\n",
       "Deceased Date               True\n",
       "avg giving circle month     True\n",
       "length                      True\n",
       "lapsed time                 True\n",
       "PG donor                   False\n",
       "Convert                    False\n",
       "dtype: bool"
      ]
     },
     "execution_count": 91,
     "metadata": {},
     "output_type": "execute_result"
    }
   ],
   "source": [
    "LFJ_deceased.isnull().any()"
   ]
  },
  {
   "cell_type": "code",
   "execution_count": 92,
   "metadata": {},
   "outputs": [
    {
     "data": {
      "text/plain": [
       "Constituent ID             False\n",
       "Name                       False\n",
       "First Name                 False\n",
       "Last Name                  False\n",
       "Age                         True\n",
       "Total Amount of Gifts      False\n",
       "Gift Amount                False\n",
       "Gift Date                  False\n",
       "Appeal Description         False\n",
       "avg giving circle month     True\n",
       "lapsed time                False\n",
       "length                     False\n",
       "PG donor                   False\n",
       "Convert                    False\n",
       "dtype: bool"
      ]
     },
     "execution_count": 92,
     "metadata": {},
     "output_type": "execute_result"
    }
   ],
   "source": [
    "LFJ_living.isnull().any()"
   ]
  },
  {
   "cell_type": "markdown",
   "metadata": {},
   "source": [
    "## Inputing missing values"
   ]
  },
  {
   "cell_type": "markdown",
   "metadata": {},
   "source": [
    "There are many appoaches to handle missing values: \n",
    "* Simply remove missing values. \n",
    "* Replace with group means.\n",
    "* Build machine learning models to predict missing values. \n",
    "* Apply algorithems that rebust to outliers and missing values such as Random Forest and Logistic Regression.\n",
    "\n",
    "We use group means to replace the missing value here. "
   ]
  },
  {
   "cell_type": "code",
   "execution_count": 93,
   "metadata": {},
   "outputs": [],
   "source": [
    "imr_deceased_Age = Imputer(missing_values=np.nan,strategy='mean')\n",
    "imr_deceased_Age = imr_deceased_Age.fit(LFJ_deceased['Age'].values.reshape(-1,1))\n",
    "LFJ_deceased['Imr_Age']= imr_deceased_Age.transform(LFJ_deceased['Age'].values.reshape(-1,1))\n",
    "\n",
    "imr_deceased_length = Imputer(missing_values=np.nan,strategy='mean')\n",
    "imr_deceased_length = imr_deceased_length.fit(LFJ_deceased['length'].values.reshape(-1,1))\n",
    "LFJ_deceased['Imr_length']= imr_deceased_length.transform(LFJ_deceased['length'].values.reshape(-1,1))\n",
    "\n",
    "imr_deceased_AvgGiving = Imputer(missing_values=np.nan,strategy='mean')\n",
    "imr_deceased_AvgGiving = imr_deceased_AvgGiving.fit(LFJ_deceased['avg giving circle month'].values.reshape(-1,1))\n",
    "LFJ_deceased['Imr_AvgGiving']= imr_deceased_AvgGiving.transform(LFJ_deceased['avg giving circle month'].values.reshape(-1,1))\n",
    "\n",
    "imr_deceased_lapsed = Imputer(missing_values=np.nan,strategy='mean')\n",
    "imr_deceased_lapsed = imr_deceased_AvgGiving.fit(LFJ_deceased['lapsed time'].values.reshape(-1,1))\n",
    "LFJ_deceased['lapsed time']= imr_deceased_AvgGiving.transform(LFJ_deceased['lapsed time'].values.reshape(-1,1))"
   ]
  },
  {
   "cell_type": "code",
   "execution_count": 94,
   "metadata": {},
   "outputs": [],
   "source": [
    "imr_living = Imputer(missing_values=np.nan,strategy='mean')\n",
    "imr_living = imr_living.fit(LFJ_living['Age'].values.reshape(-1,1))\n",
    "LFJ_living['Imr_Age']= imr_living.transform(LFJ_living['Age'].values.reshape(-1,1))\n",
    "\n",
    "imr_living_AvgGiving = Imputer(missing_values=np.nan,strategy='mean')\n",
    "imr_living_AvgGiving = imr_living_AvgGiving.fit(LFJ_living['avg giving circle month'].values.reshape(-1,1))\n",
    "LFJ_living['Imr_AvgGiving']= imr_living_AvgGiving.transform(LFJ_living['avg giving circle month'].values.reshape(-1,1))"
   ]
  },
  {
   "cell_type": "code",
   "execution_count": 95,
   "metadata": {},
   "outputs": [],
   "source": [
    "imr_DM = Imputer(missing_values=np.nan,strategy='mean')\n",
    "imr_DM = imr_DM.fit(DM_gift['Age'].values.reshape(-1,1))\n",
    "DM_gift['Imr_Age']= imr_DM.transform(DM_gift['Age'].values.reshape(-1,1))"
   ]
  },
  {
   "cell_type": "code",
   "execution_count": 96,
   "metadata": {},
   "outputs": [],
   "source": [
    "###Remove records from Age less than 10\n",
    "DM_gift[DM_gift['Age']<10]\n",
    "DM_gift=DM_gift[DM_gift['Age']>10]"
   ]
  },
  {
   "cell_type": "markdown",
   "metadata": {},
   "source": [
    "## Combine Three Datasets"
   ]
  },
  {
   "cell_type": "code",
   "execution_count": 97,
   "metadata": {},
   "outputs": [],
   "source": [
    "DM_gift_v2=DM_gift[['Constituent ID','Imr_Age','Total Amount of Gifts','Appeal Description','avg giving circle month',\n",
    "                    'lapsed time','length','PG donor','Convert']]\n",
    "LFJ_deceased_v2=LFJ_deceased[['Constituent ID','Imr_Age','Total Amount of Gifts','Appeal Description','Imr_AvgGiving',\n",
    "                    'lapsed time','Imr_length','PG donor','Convert']]\n",
    "LFJ_living_v2=LFJ_living[['Constituent ID','Imr_Age','Total Amount of Gifts','Appeal Description','Imr_AvgGiving',\n",
    "                    'lapsed time','length','PG donor','Convert']]\n",
    "LFJ_deceased_v2=LFJ_deceased_v2.rename(columns={\"Imr_AvgGiving\":\"avg giving circle month\",\"Imr_length\":\"length\"})\n",
    "LFJ_living_v2=LFJ_living_v2.rename(columns={\"Imr_AvgGiving\":\"avg giving circle month\"})"
   ]
  },
  {
   "cell_type": "code",
   "execution_count": 98,
   "metadata": {},
   "outputs": [],
   "source": [
    "frame=[DM_gift_v2,LFJ_deceased_v2,LFJ_living_v2]\n",
    "df=pd.concat(frame)"
   ]
  },
  {
   "cell_type": "code",
   "execution_count": 99,
   "metadata": {},
   "outputs": [],
   "source": [
    "df['Imr_Age']=df['Imr_Age'].astype(float)\n",
    "df['avg giving circle month']=df['avg giving circle month'].astype(float)"
   ]
  },
  {
   "cell_type": "markdown",
   "metadata": {},
   "source": [
    "## Exploratory Data Analysis"
   ]
  },
  {
   "cell_type": "code",
   "execution_count": 100,
   "metadata": {
    "scrolled": false
   },
   "outputs": [
    {
     "data": {
      "text/plain": [
       "(60189, 9)"
      ]
     },
     "execution_count": 100,
     "metadata": {},
     "output_type": "execute_result"
    }
   ],
   "source": [
    "# How many donors are in the dataset? \n",
    "df.shape"
   ]
  },
  {
   "cell_type": "code",
   "execution_count": 101,
   "metadata": {
    "scrolled": true
   },
   "outputs": [
    {
     "data": {
      "text/plain": [
       "0    0.993819\n",
       "1    0.006181\n",
       "Name: Convert, dtype: float64"
      ]
     },
     "execution_count": 101,
     "metadata": {},
     "output_type": "execute_result"
    }
   ],
   "source": [
    "# Calculate the convert rate of HRW's dataset. What is the rate of convertion?\n",
    "df.Convert.value_counts(1)"
   ]
  },
  {
   "cell_type": "code",
   "execution_count": 102,
   "metadata": {
    "scrolled": false
   },
   "outputs": [
    {
     "data": {
      "text/html": [
       "<div>\n",
       "<style scoped>\n",
       "    .dataframe tbody tr th:only-of-type {\n",
       "        vertical-align: middle;\n",
       "    }\n",
       "\n",
       "    .dataframe tbody tr th {\n",
       "        vertical-align: top;\n",
       "    }\n",
       "\n",
       "    .dataframe thead th {\n",
       "        text-align: right;\n",
       "    }\n",
       "</style>\n",
       "<table border=\"1\" class=\"dataframe\">\n",
       "  <thead>\n",
       "    <tr style=\"text-align: right;\">\n",
       "      <th></th>\n",
       "      <th>Constituent ID</th>\n",
       "      <th>Imr_Age</th>\n",
       "      <th>Total Amount of Gifts</th>\n",
       "      <th>avg giving circle month</th>\n",
       "      <th>lapsed time</th>\n",
       "      <th>length</th>\n",
       "      <th>PG donor</th>\n",
       "      <th>Convert</th>\n",
       "    </tr>\n",
       "  </thead>\n",
       "  <tbody>\n",
       "    <tr>\n",
       "      <th>count</th>\n",
       "      <td>6.018900e+04</td>\n",
       "      <td>60189.000000</td>\n",
       "      <td>6.018900e+04</td>\n",
       "      <td>60189.000000</td>\n",
       "      <td>60189.000000</td>\n",
       "      <td>60189.000000</td>\n",
       "      <td>60189.000000</td>\n",
       "      <td>60189.000000</td>\n",
       "    </tr>\n",
       "    <tr>\n",
       "      <th>mean</th>\n",
       "      <td>2.514129e+05</td>\n",
       "      <td>71.943804</td>\n",
       "      <td>1.274008e+05</td>\n",
       "      <td>15.169968</td>\n",
       "      <td>32.500709</td>\n",
       "      <td>87.937732</td>\n",
       "      <td>0.028909</td>\n",
       "      <td>0.006181</td>\n",
       "    </tr>\n",
       "    <tr>\n",
       "      <th>std</th>\n",
       "      <td>1.042820e+06</td>\n",
       "      <td>14.642470</td>\n",
       "      <td>1.213661e+07</td>\n",
       "      <td>14.187141</td>\n",
       "      <td>32.535095</td>\n",
       "      <td>36.672219</td>\n",
       "      <td>0.167552</td>\n",
       "      <td>0.078374</td>\n",
       "    </tr>\n",
       "    <tr>\n",
       "      <th>min</th>\n",
       "      <td>1.700000e+01</td>\n",
       "      <td>20.000000</td>\n",
       "      <td>0.000000e+00</td>\n",
       "      <td>1.000000</td>\n",
       "      <td>0.000000</td>\n",
       "      <td>3.000000</td>\n",
       "      <td>0.000000</td>\n",
       "      <td>0.000000</td>\n",
       "    </tr>\n",
       "    <tr>\n",
       "      <th>25%</th>\n",
       "      <td>6.002700e+04</td>\n",
       "      <td>64.000000</td>\n",
       "      <td>9.500000e+01</td>\n",
       "      <td>8.000000</td>\n",
       "      <td>8.000000</td>\n",
       "      <td>56.000000</td>\n",
       "      <td>0.000000</td>\n",
       "      <td>0.000000</td>\n",
       "    </tr>\n",
       "    <tr>\n",
       "      <th>50%</th>\n",
       "      <td>1.102140e+05</td>\n",
       "      <td>73.000000</td>\n",
       "      <td>2.100000e+02</td>\n",
       "      <td>12.000000</td>\n",
       "      <td>20.000000</td>\n",
       "      <td>101.000000</td>\n",
       "      <td>0.000000</td>\n",
       "      <td>0.000000</td>\n",
       "    </tr>\n",
       "    <tr>\n",
       "      <th>75%</th>\n",
       "      <td>1.736460e+05</td>\n",
       "      <td>82.000000</td>\n",
       "      <td>5.500000e+02</td>\n",
       "      <td>17.000000</td>\n",
       "      <td>53.000000</td>\n",
       "      <td>119.000000</td>\n",
       "      <td>0.000000</td>\n",
       "      <td>0.000000</td>\n",
       "    </tr>\n",
       "    <tr>\n",
       "      <th>max</th>\n",
       "      <td>2.393136e+08</td>\n",
       "      <td>116.000000</td>\n",
       "      <td>2.371200e+09</td>\n",
       "      <td>126.000000</td>\n",
       "      <td>257.000000</td>\n",
       "      <td>366.000000</td>\n",
       "      <td>1.000000</td>\n",
       "      <td>1.000000</td>\n",
       "    </tr>\n",
       "  </tbody>\n",
       "</table>\n",
       "</div>"
      ],
      "text/plain": [
       "       Constituent ID       Imr_Age  Total Amount of Gifts  \\\n",
       "count    6.018900e+04  60189.000000           6.018900e+04   \n",
       "mean     2.514129e+05     71.943804           1.274008e+05   \n",
       "std      1.042820e+06     14.642470           1.213661e+07   \n",
       "min      1.700000e+01     20.000000           0.000000e+00   \n",
       "25%      6.002700e+04     64.000000           9.500000e+01   \n",
       "50%      1.102140e+05     73.000000           2.100000e+02   \n",
       "75%      1.736460e+05     82.000000           5.500000e+02   \n",
       "max      2.393136e+08    116.000000           2.371200e+09   \n",
       "\n",
       "       avg giving circle month   lapsed time        length      PG donor  \\\n",
       "count             60189.000000  60189.000000  60189.000000  60189.000000   \n",
       "mean                 15.169968     32.500709     87.937732      0.028909   \n",
       "std                  14.187141     32.535095     36.672219      0.167552   \n",
       "min                   1.000000      0.000000      3.000000      0.000000   \n",
       "25%                   8.000000      8.000000     56.000000      0.000000   \n",
       "50%                  12.000000     20.000000    101.000000      0.000000   \n",
       "75%                  17.000000     53.000000    119.000000      0.000000   \n",
       "max                 126.000000    257.000000    366.000000      1.000000   \n",
       "\n",
       "            Convert  \n",
       "count  60189.000000  \n",
       "mean       0.006181  \n",
       "std        0.078374  \n",
       "min        0.000000  \n",
       "25%        0.000000  \n",
       "50%        0.000000  \n",
       "75%        0.000000  \n",
       "max        1.000000  "
      ]
     },
     "execution_count": 102,
     "metadata": {},
     "output_type": "execute_result"
    }
   ],
   "source": [
    "# Display the statistical overview of the donors\n",
    "df.describe()"
   ]
  },
  {
   "cell_type": "code",
   "execution_count": 103,
   "metadata": {},
   "outputs": [
    {
     "data": {
      "text/html": [
       "<div>\n",
       "<style scoped>\n",
       "    .dataframe tbody tr th:only-of-type {\n",
       "        vertical-align: middle;\n",
       "    }\n",
       "\n",
       "    .dataframe tbody tr th {\n",
       "        vertical-align: top;\n",
       "    }\n",
       "\n",
       "    .dataframe thead th {\n",
       "        text-align: right;\n",
       "    }\n",
       "</style>\n",
       "<table border=\"1\" class=\"dataframe\">\n",
       "  <thead>\n",
       "    <tr style=\"text-align: right;\">\n",
       "      <th></th>\n",
       "      <th>Constituent ID</th>\n",
       "      <th>Imr_Age</th>\n",
       "      <th>Total Amount of Gifts</th>\n",
       "      <th>avg giving circle month</th>\n",
       "      <th>lapsed time</th>\n",
       "      <th>length</th>\n",
       "      <th>PG donor</th>\n",
       "    </tr>\n",
       "    <tr>\n",
       "      <th>Convert</th>\n",
       "      <th></th>\n",
       "      <th></th>\n",
       "      <th></th>\n",
       "      <th></th>\n",
       "      <th></th>\n",
       "      <th></th>\n",
       "      <th></th>\n",
       "    </tr>\n",
       "  </thead>\n",
       "  <tbody>\n",
       "    <tr>\n",
       "      <th>0</th>\n",
       "      <td>250296.073156</td>\n",
       "      <td>71.921561</td>\n",
       "      <td>9.728274e+04</td>\n",
       "      <td>15.191935</td>\n",
       "      <td>32.467509</td>\n",
       "      <td>87.604861</td>\n",
       "      <td>0.028721</td>\n",
       "    </tr>\n",
       "    <tr>\n",
       "      <th>1</th>\n",
       "      <td>431004.537634</td>\n",
       "      <td>75.520491</td>\n",
       "      <td>4.970341e+06</td>\n",
       "      <td>11.637711</td>\n",
       "      <td>37.839140</td>\n",
       "      <td>141.462764</td>\n",
       "      <td>0.059140</td>\n",
       "    </tr>\n",
       "  </tbody>\n",
       "</table>\n",
       "</div>"
      ],
      "text/plain": [
       "         Constituent ID    Imr_Age  Total Amount of Gifts  \\\n",
       "Convert                                                     \n",
       "0         250296.073156  71.921561           9.728274e+04   \n",
       "1         431004.537634  75.520491           4.970341e+06   \n",
       "\n",
       "         avg giving circle month  lapsed time      length  PG donor  \n",
       "Convert                                                              \n",
       "0                      15.191935    32.467509   87.604861  0.028721  \n",
       "1                      11.637711    37.839140  141.462764  0.059140  "
      ]
     },
     "execution_count": 103,
     "metadata": {},
     "output_type": "execute_result"
    }
   ],
   "source": [
    "###Display the mean summary of Donors (Converted vs Non-Converted)\n",
    "convert_summary=df.groupby('Convert')\n",
    "convert_summary.mean()"
   ]
  },
  {
   "cell_type": "markdown",
   "metadata": {},
   "source": [
    "Comparing with regular donor group, bequest group donors have higher lapsed time and Age, total gift amount, life time length and lapsed time. Also, the bequest group donors have less average giving circle which means bequest donors donated more frequently than regular donors. \n",
    "\n",
    "\n"
   ]
  },
  {
   "cell_type": "markdown",
   "metadata": {},
   "source": [
    "## Correlation Matrix"
   ]
  },
  {
   "cell_type": "code",
   "execution_count": 104,
   "metadata": {},
   "outputs": [
    {
     "data": {
      "text/html": [
       "<div>\n",
       "<style scoped>\n",
       "    .dataframe tbody tr th:only-of-type {\n",
       "        vertical-align: middle;\n",
       "    }\n",
       "\n",
       "    .dataframe tbody tr th {\n",
       "        vertical-align: top;\n",
       "    }\n",
       "\n",
       "    .dataframe thead th {\n",
       "        text-align: right;\n",
       "    }\n",
       "</style>\n",
       "<table border=\"1\" class=\"dataframe\">\n",
       "  <thead>\n",
       "    <tr style=\"text-align: right;\">\n",
       "      <th></th>\n",
       "      <th>Constituent ID</th>\n",
       "      <th>Imr_Age</th>\n",
       "      <th>Total Amount of Gifts</th>\n",
       "      <th>avg giving circle month</th>\n",
       "      <th>lapsed time</th>\n",
       "      <th>length</th>\n",
       "      <th>PG donor</th>\n",
       "      <th>Convert</th>\n",
       "    </tr>\n",
       "  </thead>\n",
       "  <tbody>\n",
       "    <tr>\n",
       "      <th>Constituent ID</th>\n",
       "      <td>1.000000</td>\n",
       "      <td>0.021894</td>\n",
       "      <td>0.003481</td>\n",
       "      <td>-0.004206</td>\n",
       "      <td>-0.005833</td>\n",
       "      <td>0.051987</td>\n",
       "      <td>0.016724</td>\n",
       "      <td>0.013581</td>\n",
       "    </tr>\n",
       "    <tr>\n",
       "      <th>Imr_Age</th>\n",
       "      <td>0.021894</td>\n",
       "      <td>1.000000</td>\n",
       "      <td>-0.003024</td>\n",
       "      <td>-0.000309</td>\n",
       "      <td>0.098975</td>\n",
       "      <td>0.171177</td>\n",
       "      <td>0.070654</td>\n",
       "      <td>0.019263</td>\n",
       "    </tr>\n",
       "    <tr>\n",
       "      <th>Total Amount of Gifts</th>\n",
       "      <td>0.003481</td>\n",
       "      <td>-0.003024</td>\n",
       "      <td>1.000000</td>\n",
       "      <td>-0.006062</td>\n",
       "      <td>-0.006500</td>\n",
       "      <td>0.012071</td>\n",
       "      <td>-0.001795</td>\n",
       "      <td>0.031468</td>\n",
       "    </tr>\n",
       "    <tr>\n",
       "      <th>avg giving circle month</th>\n",
       "      <td>-0.004206</td>\n",
       "      <td>-0.000309</td>\n",
       "      <td>-0.006062</td>\n",
       "      <td>1.000000</td>\n",
       "      <td>-0.029268</td>\n",
       "      <td>0.201073</td>\n",
       "      <td>-0.041586</td>\n",
       "      <td>-0.019635</td>\n",
       "    </tr>\n",
       "    <tr>\n",
       "      <th>lapsed time</th>\n",
       "      <td>-0.005833</td>\n",
       "      <td>0.098975</td>\n",
       "      <td>-0.006500</td>\n",
       "      <td>-0.029268</td>\n",
       "      <td>1.000000</td>\n",
       "      <td>0.398177</td>\n",
       "      <td>-0.041972</td>\n",
       "      <td>0.012940</td>\n",
       "    </tr>\n",
       "    <tr>\n",
       "      <th>length</th>\n",
       "      <td>0.051987</td>\n",
       "      <td>0.171177</td>\n",
       "      <td>0.012071</td>\n",
       "      <td>0.201073</td>\n",
       "      <td>0.398177</td>\n",
       "      <td>1.000000</td>\n",
       "      <td>0.109816</td>\n",
       "      <td>0.115102</td>\n",
       "    </tr>\n",
       "    <tr>\n",
       "      <th>PG donor</th>\n",
       "      <td>0.016724</td>\n",
       "      <td>0.070654</td>\n",
       "      <td>-0.001795</td>\n",
       "      <td>-0.041586</td>\n",
       "      <td>-0.041972</td>\n",
       "      <td>0.109816</td>\n",
       "      <td>1.000000</td>\n",
       "      <td>0.014229</td>\n",
       "    </tr>\n",
       "    <tr>\n",
       "      <th>Convert</th>\n",
       "      <td>0.013581</td>\n",
       "      <td>0.019263</td>\n",
       "      <td>0.031468</td>\n",
       "      <td>-0.019635</td>\n",
       "      <td>0.012940</td>\n",
       "      <td>0.115102</td>\n",
       "      <td>0.014229</td>\n",
       "      <td>1.000000</td>\n",
       "    </tr>\n",
       "  </tbody>\n",
       "</table>\n",
       "</div>"
      ],
      "text/plain": [
       "                         Constituent ID   Imr_Age  Total Amount of Gifts  \\\n",
       "Constituent ID                 1.000000  0.021894               0.003481   \n",
       "Imr_Age                        0.021894  1.000000              -0.003024   \n",
       "Total Amount of Gifts          0.003481 -0.003024               1.000000   \n",
       "avg giving circle month       -0.004206 -0.000309              -0.006062   \n",
       "lapsed time                   -0.005833  0.098975              -0.006500   \n",
       "length                         0.051987  0.171177               0.012071   \n",
       "PG donor                       0.016724  0.070654              -0.001795   \n",
       "Convert                        0.013581  0.019263               0.031468   \n",
       "\n",
       "                         avg giving circle month  lapsed time    length  \\\n",
       "Constituent ID                         -0.004206    -0.005833  0.051987   \n",
       "Imr_Age                                -0.000309     0.098975  0.171177   \n",
       "Total Amount of Gifts                  -0.006062    -0.006500  0.012071   \n",
       "avg giving circle month                 1.000000    -0.029268  0.201073   \n",
       "lapsed time                            -0.029268     1.000000  0.398177   \n",
       "length                                  0.201073     0.398177  1.000000   \n",
       "PG donor                               -0.041586    -0.041972  0.109816   \n",
       "Convert                                -0.019635     0.012940  0.115102   \n",
       "\n",
       "                         PG donor   Convert  \n",
       "Constituent ID           0.016724  0.013581  \n",
       "Imr_Age                  0.070654  0.019263  \n",
       "Total Amount of Gifts   -0.001795  0.031468  \n",
       "avg giving circle month -0.041586 -0.019635  \n",
       "lapsed time             -0.041972  0.012940  \n",
       "length                   0.109816  0.115102  \n",
       "PG donor                 1.000000  0.014229  \n",
       "Convert                  0.014229  1.000000  "
      ]
     },
     "execution_count": 104,
     "metadata": {},
     "output_type": "execute_result"
    },
    {
     "data": {
      "image/png": "[encoded data removed]",
      "text/plain": [
       "<Figure size 432x288 with 2 Axes>"
      ]
     },
     "metadata": {},
     "output_type": "display_data"
    }
   ],
   "source": [
    "corr = df.corr()\n",
    "sns.heatmap(corr, \n",
    "            xticklabels=corr.columns.values,\n",
    "            yticklabels=corr.columns.values)\n",
    "plt.title('Heatmap of Correlation Matrix')\n",
    "corr"
   ]
  },
  {
   "cell_type": "markdown",
   "metadata": {},
   "source": [
    "There is no significant correlation amoung all the numerical variables. "
   ]
  },
  {
   "cell_type": "markdown",
   "metadata": {},
   "source": [
    "## Pre-Processing"
   ]
  },
  {
   "cell_type": "code",
   "execution_count": 105,
   "metadata": {},
   "outputs": [],
   "source": [
    "df['Convert']=df['Convert'].astype(int)\n",
    "df['PG donor']=df['PG donor'].astype(object)"
   ]
  },
  {
   "cell_type": "code",
   "execution_count": 106,
   "metadata": {},
   "outputs": [
    {
     "data": {
      "text/plain": [
       "Constituent ID               int64\n",
       "Imr_Age                    float64\n",
       "Total Amount of Gifts      float64\n",
       "Appeal Description          object\n",
       "avg giving circle month    float64\n",
       "lapsed time                float64\n",
       "length                     float64\n",
       "PG donor                    object\n",
       "Convert                      int32\n",
       "dtype: object"
      ]
     },
     "execution_count": 106,
     "metadata": {},
     "output_type": "execute_result"
    }
   ],
   "source": [
    "df.dtypes"
   ]
  },
  {
   "cell_type": "markdown",
   "metadata": {},
   "source": [
    "## EDA One --Exploratory Data Analysis for All Donors"
   ]
  },
  {
   "cell_type": "code",
   "execution_count": 107,
   "metadata": {
    "scrolled": true
   },
   "outputs": [
    {
     "data": {
      "text/plain": [
       "Text(0,0.5,'Donor count')"
      ]
     },
     "execution_count": 107,
     "metadata": {},
     "output_type": "execute_result"
    },
    {
     "data": {
      "image/png": "[encoded data removed]",
      "text/plain": [
       "<Figure size 1800x504 with 4 Axes>"
      ]
     },
     "metadata": {},
     "output_type": "display_data"
    }
   ],
   "source": [
    "# Plot the distribution of donor lifetime, Age, and avg giving circle. What story can we tell?\n",
    "\n",
    "# Set up the matplotlib figure\n",
    "f, axes = plt.subplots(ncols=4,figsize=(25, 7))\n",
    "# Graph Donor liftime (in month) Distribution\n",
    "sns.distplot(df['length'], kde=False, color=\"g\", ax=axes[0]).set_title('Donor lifetime Distribution')\n",
    "axes[0].set_ylabel('Donor count')\n",
    "\n",
    "# Graph Donor Age Distribution\n",
    "sns.distplot(df['Imr_Age'], kde=False, color=\"r\", ax=axes[1]).set_title('Donor Age Distribution')\n",
    "axes[1].set_ylabel('Donor count')\n",
    "\n",
    "# Graph Donor Total Gift Amount Distribution\n",
    "sns.distplot(df['avg giving circle month'], kde=False, color=\"b\", ax=axes[2]).set_title('Donor average giving circle Distrition')\n",
    "axes[2].set_ylabel('Donor count')\n",
    "\n",
    "# Graph Donor Avg Lapsed time \n",
    "sns.distplot(df['lapsed time'], kde=False, color=\"y\", ax=axes[3]).set_title('Donor lapsed time Distribution')\n",
    "axes[0].set_ylabel('Donor count')"
   ]
  },
  {
   "cell_type": "markdown",
   "metadata": {},
   "source": [
    "* Donor Lifetime Distribution - Most of HRW donors fall into 110-140 month and a few donors donated more than 30 Yrs ago. \n",
    " \n",
    "* Donor Age Distribution - The majority of donors are older than 60 and most of them are within 60 - 80.\n",
    " \n",
    "* Donor Average giving circle Distribution - About 6000 donors donated to HRW in every 2 months, and 4000 donors donated to HRW every 4 months. Most of donors donated to HRW in every 16 months. \n",
    " \n",
    "* Donor Lapsed time  - We can see some really lapsed donors in the file, but most of donors are active. \n"
   ]
  },
  {
   "cell_type": "markdown",
   "metadata": {},
   "source": [
    "## EDA 2  - Comparison bettwen Converted and Non Converted Donors"
   ]
  },
  {
   "cell_type": "code",
   "execution_count": 136,
   "metadata": {},
   "outputs": [
    {
     "data": {
      "text/html": [
       "<div>\n",
       "<style scoped>\n",
       "    .dataframe tbody tr th:only-of-type {\n",
       "        vertical-align: middle;\n",
       "    }\n",
       "\n",
       "    .dataframe tbody tr th {\n",
       "        vertical-align: top;\n",
       "    }\n",
       "\n",
       "    .dataframe thead th {\n",
       "        text-align: right;\n",
       "    }\n",
       "</style>\n",
       "<table border=\"1\" class=\"dataframe\">\n",
       "  <thead>\n",
       "    <tr style=\"text-align: right;\">\n",
       "      <th></th>\n",
       "      <th>Appeal Description</th>\n",
       "      <th>Converted</th>\n",
       "      <th>Non_Converted</th>\n",
       "    </tr>\n",
       "  </thead>\n",
       "  <tbody>\n",
       "    <tr>\n",
       "      <th>0</th>\n",
       "      <td>DM</td>\n",
       "      <td>248</td>\n",
       "      <td>47556</td>\n",
       "    </tr>\n",
       "    <tr>\n",
       "      <th>1</th>\n",
       "      <td>event</td>\n",
       "      <td>39</td>\n",
       "      <td>2874</td>\n",
       "    </tr>\n",
       "    <tr>\n",
       "      <th>2</th>\n",
       "      <td>online</td>\n",
       "      <td>29</td>\n",
       "      <td>5351</td>\n",
       "    </tr>\n",
       "    <tr>\n",
       "      <th>3</th>\n",
       "      <td>Unsolicited Donation</td>\n",
       "      <td>25</td>\n",
       "      <td>3311</td>\n",
       "    </tr>\n",
       "    <tr>\n",
       "      <th>4</th>\n",
       "      <td>Staff Solicited</td>\n",
       "      <td>14</td>\n",
       "      <td>443</td>\n",
       "    </tr>\n",
       "    <tr>\n",
       "      <th>5</th>\n",
       "      <td>PG(Campaign)</td>\n",
       "      <td>1</td>\n",
       "      <td>269</td>\n",
       "    </tr>\n",
       "  </tbody>\n",
       "</table>\n",
       "</div>"
      ],
      "text/plain": [
       "     Appeal Description  Converted  Non_Converted\n",
       "0                    DM        248          47556\n",
       "1                 event         39           2874\n",
       "2                online         29           5351\n",
       "3  Unsolicited Donation         25           3311\n",
       "4       Staff Solicited         14            443\n",
       "5          PG(Campaign)          1            269"
      ]
     },
     "execution_count": 136,
     "metadata": {},
     "output_type": "execute_result"
    }
   ],
   "source": [
    "converted=df[df['Convert']==1]\n",
    "\n",
    "converted_appeal = pd.DataFrame(converted['Appeal Description'].value_counts()).reset_index()\n",
    "total_converted = pd.DataFrame(DM_gift_v2['Appeal Description'].value_counts()).reset_index()\n",
    "\n",
    "converted_merge = pd.merge(converted_appeal,total_converted,how='inner',on='index')\n",
    "converted_merge = converted_merge.rename(columns={\"Appeal Description_x\": \"Converted\",\n",
    "                                                  \"Appeal Description_y\": \"Non_Converted\",\n",
    "                                                 \"index\": \"Appeal Description\"})\n",
    "\n",
    "converted_merge"
   ]
  },
  {
   "cell_type": "markdown",
   "metadata": {},
   "source": [
    "Most of bequest donors were acquired by DM"
   ]
  },
  {
   "cell_type": "markdown",
   "metadata": {},
   "source": [
    " "
   ]
  },
  {
   "cell_type": "code",
   "execution_count": 137,
   "metadata": {},
   "outputs": [
    {
     "data": {
      "text/plain": [
       "Text(0.5,1,'Donor life time length Distribution - Converted V.S. Non Converted')"
      ]
     },
     "execution_count": 137,
     "metadata": {},
     "output_type": "execute_result"
    },
    {
     "data": {
      "image/png": "[encoded data removed]",
      "text/plain": [
       "<Figure size 1080x288 with 1 Axes>"
      ]
     },
     "metadata": {},
     "output_type": "display_data"
    }
   ],
   "source": [
    "#KDEPlot: Kernel Density Estimate Plot#KDEPlot \n",
    "fig = plt.figure(figsize=(15,4))\n",
    "ax=sns.kdeplot(df.loc[(df['Convert'] == 0),'length'] , color='b',shade=True, label='Non_Converted')\n",
    "ax=sns.kdeplot(df.loc[(df['Convert'] == 1),'length'] , color='r',shade=True, label='Converted')\n",
    "ax.set(xlabel='Donor life time length', ylabel='Frequency')\n",
    "plt.title('Donor life time length Distribution - Converted V.S. Non Converted')"
   ]
  },
  {
   "cell_type": "code",
   "execution_count": 138,
   "metadata": {},
   "outputs": [
    {
     "data": {
      "text/plain": [
       "Text(0.5,1,'Donor Avg Giving Circle Month Distribution - Converted V.S. Non Converted')"
      ]
     },
     "execution_count": 138,
     "metadata": {},
     "output_type": "execute_result"
    },
    {
     "data": {
      "image/png": "[encoded data removed]",
      "text/plain": [
       "<Figure size 1080x288 with 1 Axes>"
      ]
     },
     "metadata": {},
     "output_type": "display_data"
    }
   ],
   "source": [
    "#KDEPlot: Kernel Density Estimate Plot#KDEPlot \n",
    "fig = plt.figure(figsize=(15,4))\n",
    "ax=sns.kdeplot(df.loc[(df['Convert'] == 0),'avg giving circle month'] , color='b',shade=True, label='Non_Converted')\n",
    "ax=sns.kdeplot(df.loc[(df['Convert'] == 1),'avg giving circle month'] , color='r',shade=True, label='Converted')\n",
    "ax.set(xlabel='Donor Avg Giving Circle Month', ylabel='Frequency')\n",
    "plt.title('Donor Avg Giving Circle Month Distribution - Converted V.S. Non Converted')"
   ]
  },
  {
   "cell_type": "code",
   "execution_count": 139,
   "metadata": {},
   "outputs": [
    {
     "data": {
      "text/plain": [
       "Text(0.5,1,'Donor lapsed time Distribution - Converted V.S. Non Converted')"
      ]
     },
     "execution_count": 139,
     "metadata": {},
     "output_type": "execute_result"
    },
    {
     "data": {
      "image/png": "[encoded data removed]",
      "text/plain": [
       "<Figure size 1080x288 with 1 Axes>"
      ]
     },
     "metadata": {},
     "output_type": "display_data"
    }
   ],
   "source": [
    "#KDEPlot: Kernel Density Estimate Plot#KDEPlot \n",
    "fig = plt.figure(figsize=(15,4))\n",
    "ax=sns.kdeplot(df.loc[(df['Convert'] == 0),'lapsed time'] , color='b',shade=True, label='Non_Converted')\n",
    "ax=sns.kdeplot(df.loc[(df['Convert'] == 1),'lapsed time'] , color='r',shade=True, label='Converted')\n",
    "ax.set(xlabel='Donor lapsed time', ylabel='Frequency')\n",
    "plt.title('Donor lapsed time Distribution - Converted V.S. Non Converted')"
   ]
  },
  {
   "cell_type": "code",
   "execution_count": 140,
   "metadata": {
    "scrolled": true
   },
   "outputs": [
    {
     "data": {
      "text/plain": [
       "Text(0.5,1,'Donor Age Distribution - Converted V.S. Non Converted')"
      ]
     },
     "execution_count": 140,
     "metadata": {},
     "output_type": "execute_result"
    },
    {
     "data": {
      "image/png": "[encoded data removed]",
      "text/plain": [
       "<Figure size 1080x288 with 1 Axes>"
      ]
     },
     "metadata": {},
     "output_type": "display_data"
    }
   ],
   "source": [
    "#KDEPlot: Kernel Density Estimate Plot#KDEPlot \n",
    "fig = plt.figure(figsize=(15,4))\n",
    "ax=sns.kdeplot(df.loc[(df['Convert'] == 0),'Imr_Age'] , color='b',shade=True, label='Non_Converted')\n",
    "ax=sns.kdeplot(df.loc[(df['Convert'] == 1),'Imr_Age'] , color='r',shade=True, label='Converted')\n",
    "ax.set(xlabel='Donors Age',label='Frequency')\n",
    "plt.title('Donor Age Distribution - Converted V.S. Non Converted')"
   ]
  },
  {
   "cell_type": "markdown",
   "metadata": {},
   "source": [
    "## EDA Three - Three Group Comparison"
   ]
  },
  {
   "cell_type": "code",
   "execution_count": 141,
   "metadata": {},
   "outputs": [
    {
     "data": {
      "text/plain": [
       "Text(0.5,1,'Donor life time length Distribution - living VS Deceased VS Non_Converted')"
      ]
     },
     "execution_count": 141,
     "metadata": {},
     "output_type": "execute_result"
    },
    {
     "data": {
      "image/png": "[encoded data removed]",
      "text/plain": [
       "<Figure size 1080x288 with 1 Axes>"
      ]
     },
     "metadata": {},
     "output_type": "display_data"
    }
   ],
   "source": [
    "#KDEPlot: Kernel Density Estimate Plot#KDEPlot \n",
    "fig = plt.figure(figsize=(15,4))\n",
    "ax=sns.kdeplot(df.loc[(df['Convert'] == 0),'length'] , color='b',shade=True, label='Non_Converted')\n",
    "ax=sns.kdeplot(LFJ_living_v2.loc[(LFJ_living_v2['Convert'] == 1),'length'] , color='r',shade=True, label='Living_Converted')\n",
    "ax=sns.kdeplot(LFJ_deceased_v2.loc[(LFJ_deceased_v2['Convert'] == 1),'length'] , color='y',shade=True, label='Deceased_Converted')\n",
    "ax.set(xlabel='Donor life time length', ylabel='Frequency')\n",
    "plt.title('Donor life time length Distribution - living VS Deceased VS Non_Converted')"
   ]
  },
  {
   "cell_type": "code",
   "execution_count": 142,
   "metadata": {},
   "outputs": [
    {
     "data": {
      "text/plain": [
       "Text(0.5,1,'Donor Avg Giving Circle Month Distribution - living VS Deceased VS Non_Converted')"
      ]
     },
     "execution_count": 142,
     "metadata": {},
     "output_type": "execute_result"
    },
    {
     "data": {
      "image/png": "[encoded data removed]",
      "text/plain": [
       "<Figure size 1080x288 with 1 Axes>"
      ]
     },
     "metadata": {},
     "output_type": "display_data"
    }
   ],
   "source": [
    "#KDEPlot: Kernel Density Estimate Plot#KDEPlot \n",
    "fig = plt.figure(figsize=(15,4))\n",
    "ax=sns.kdeplot(df.loc[(df['Convert'] == 0),'avg giving circle month'] , color='b',shade=True, label='Non_Converted')\n",
    "ax=sns.kdeplot(LFJ_living_v2.loc[(LFJ_living_v2['Convert'] == 1),'avg giving circle month'] , color='r',shade=True, label='Living_Converted')\n",
    "ax=sns.kdeplot(LFJ_deceased_v2.loc[(LFJ_deceased_v2['Convert'] == 1),'avg giving circle month'] , color='y',shade=True, label='Deceased_Converted')\n",
    "ax.set(xlabel='Donor Avg Giving Circle Month', ylabel='Frequency')\n",
    "plt.title('Donor Avg Giving Circle Month Distribution - living VS Deceased VS Non_Converted')"
   ]
  },
  {
   "cell_type": "code",
   "execution_count": 143,
   "metadata": {},
   "outputs": [
    {
     "data": {
      "text/plain": [
       "Text(0.5,1,'Donor lapsed time Distribution - living VS Deceased VS Non_Converted')"
      ]
     },
     "execution_count": 143,
     "metadata": {},
     "output_type": "execute_result"
    },
    {
     "data": {
      "image/png": "[encoded data removed]",
      "text/plain": [
       "<Figure size 1080x288 with 1 Axes>"
      ]
     },
     "metadata": {},
     "output_type": "display_data"
    }
   ],
   "source": [
    "#KDEPlot: Kernel Density Estimate Plot#KDEPlot \n",
    "fig = plt.figure(figsize=(15,4))\n",
    "ax=sns.kdeplot(df.loc[(df['Convert'] == 0),'lapsed time'] , color='b',shade=True, label='Non_Converted')\n",
    "ax=sns.kdeplot(LFJ_living_v2.loc[(LFJ_living_v2['Convert'] == 1),'lapsed time'] , color='r',shade=True, label='Living_Converted')\n",
    "ax=sns.kdeplot(LFJ_deceased_v2.loc[(LFJ_deceased_v2['Convert'] == 1),'lapsed time'] , color='y',shade=True, label='Deceased_Converted')\n",
    "ax.set(xlabel='Donor lapsed time', ylabel='Frequency')\n",
    "plt.title('Donor lapsed time Distribution - living VS Deceased VS Non_Converted')"
   ]
  },
  {
   "cell_type": "code",
   "execution_count": 144,
   "metadata": {},
   "outputs": [
    {
     "data": {
      "text/plain": [
       "Text(0.5,1,'Donor Age Distribution - living VS Deceased VS Non_Converted')"
      ]
     },
     "execution_count": 144,
     "metadata": {},
     "output_type": "execute_result"
    },
    {
     "data": {
      "image/png": "[encoded data removed]",
      "text/plain": [
       "<Figure size 1080x288 with 1 Axes>"
      ]
     },
     "metadata": {},
     "output_type": "display_data"
    }
   ],
   "source": [
    "#KDEPlot: Kernel Density Estimate Plot#KDEPlot \n",
    "fig = plt.figure(figsize=(15,4))\n",
    "ax=sns.kdeplot(df.loc[(df['Convert'] == 0),'Imr_Age'] , color='b',shade=True, label='Non_Converted')\n",
    "ax=sns.kdeplot(LFJ_living_v2.loc[(LFJ_living_v2['Convert'] == 1),'Imr_Age'] , color='r',shade=True, label='Living_Converted')\n",
    "ax=sns.kdeplot(LFJ_deceased_v2.loc[(LFJ_deceased_v2['Convert'] == 1),'Imr_Age'] , color='y',shade=True, label='Deceased_Converted')\n",
    "ax.set(xlabel='Donors Age', ylabel='Frequency')\n",
    "plt.title('Donor Age Distribution - living VS Deceased VS Non_Converted')"
   ]
  },
  {
   "cell_type": "markdown",
   "metadata": {},
   "source": [
    "## Class Imbalance"
   ]
  },
  {
   "cell_type": "code",
   "execution_count": 145,
   "metadata": {},
   "outputs": [
    {
     "data": {
      "text/plain": [
       "0    0.994084\n",
       "1    0.005916\n",
       "Name: Convert, dtype: float64"
      ]
     },
     "execution_count": 145,
     "metadata": {},
     "output_type": "execute_result"
    }
   ],
   "source": [
    "df.Convert.value_counts(1)"
   ]
  },
  {
   "cell_type": "markdown",
   "metadata": {},
   "source": [
    "The converted group only contain 0.6% of donors. This dataset is super imbalanced. "
   ]
  },
  {
   "cell_type": "code",
   "execution_count": 146,
   "metadata": {},
   "outputs": [
    {
     "data": {
      "text/plain": [
       "Text(0,0.5,'Count')"
      ]
     },
     "execution_count": 146,
     "metadata": {},
     "output_type": "execute_result"
    },
    {
     "data": {
      "image/png": "[encoded data removed]",
      "text/plain": [
       "<Figure size 864x576 with 1 Axes>"
      ]
     },
     "metadata": {},
     "output_type": "display_data"
    }
   ],
   "source": [
    "plt.figure(figsize=(12,8))\n",
    "Converted_count = df['Convert'].value_counts()\n",
    "sns.barplot(y=Converted_count.values, x=Converted_count.index, alpha=0.6)\n",
    "plt.title('Distribution of Bequest Donors')\n",
    "plt.xlabel('Bequest Donors', fontsize=16)\n",
    "plt.ylabel('Count', fontsize=16)"
   ]
  },
  {
   "cell_type": "markdown",
   "metadata": {},
   "source": [
    "  "
   ]
  },
  {
   "cell_type": "markdown",
   "metadata": {},
   "source": [
    "## How to Treat Imbalanced Datasets"
   ]
  },
  {
   "cell_type": "markdown",
   "metadata": {},
   "source": [
    "There are many ways of dealing with imblanced dataset. We applied the following resampling approaches: \n",
    "1. Oversampling -- SMOTE\n",
    "2. Undersampling -- RandomUnderSampler\n",
    "3. Downsampling"
   ]
  },
  {
   "cell_type": "markdown",
   "metadata": {},
   "source": [
    "## Split Train/Test Set"
   ]
  },
  {
   "cell_type": "markdown",
   "metadata": {},
   "source": [
    "Split data into a train and test set. We will fit our model with the train set and leave our test set for our last evaluation. "
   ]
  },
  {
   "cell_type": "code",
   "execution_count": 147,
   "metadata": {},
   "outputs": [],
   "source": [
    "cat_var = ['Appeal Description','PG donor']\n",
    "num_var = ['Imr_Age','Total Amount of Gifts','avg giving circle month','lapsed time','length']\n",
    "df=df[['Convert','Appeal Description','PG donor','Imr_Age','Total Amount of Gifts','avg giving circle month','lapsed time','length']]\n",
    "df_new=pd.get_dummies(df,columns=['Appeal Description','PG donor'])"
   ]
  },
  {
   "cell_type": "code",
   "execution_count": 148,
   "metadata": {},
   "outputs": [],
   "source": [
    "from sklearn.model_selection import train_test_split\n",
    "from sklearn.metrics import accuracy_score, classification_report, precision_score,recall_score, confusion_matrix,precision_recall_curve\n",
    "from sklearn.preprocessing import StandardScaler\n",
    "#Create X and y set\n",
    "\n",
    "X=df_new.iloc[:,1:]\n",
    "y=df_new.iloc[:,0]\n",
    "\n",
    "#Define train and test\n",
    "X_train,X_test,y_train, y_test = train_test_split(X,y,test_size=0.23,stratify=y)\n",
    "\n",
    "stdsc = StandardScaler()\n",
    "X_train=stdsc.fit_transform(X_train)\n",
    "X_test=stdsc.transform(X_test)"
   ]
  },
  {
   "cell_type": "markdown",
   "metadata": {},
   "source": [
    "## Resample Methods"
   ]
  },
  {
   "cell_type": "markdown",
   "metadata": {},
   "source": [
    "Train a base logistic regression medel on the three types of samples to see which yields the best results:\n",
    "1. Orginal Sample \n",
    "2. Upsampling Data\n",
    "3. Downsampleing Data"
   ]
  },
  {
   "cell_type": "markdown",
   "metadata": {},
   "source": [
    "![Image of Resampling](https://api.ning.com/files/vvHEZw33BGqEUW8aBYm4epYJWOfSeUBPVQAsgz7aWaNe0pmDBsjgggBxsyq*8VU1FdBshuTDdL2-bp2ALs0E-0kpCV5kVdwu/imbdata.png)"
   ]
  },
  {
   "cell_type": "code",
   "execution_count": 149,
   "metadata": {},
   "outputs": [
    {
     "name": "stdout",
     "output_type": "stream",
     "text": [
      "Original shape: (46333, 15) (46333,)\n",
      "Upsampled shape: (92118, 15) (92118,)\n",
      "SMOTE sample shape: (92118, 15) (92118,)\n",
      "Downsampled shape: (548, 15) (548,)\n"
     ]
    }
   ],
   "source": [
    "from sklearn.utils import resample\n",
    "from imblearn.over_sampling import SMOTE\n",
    "\n",
    "# Upsample minority class\n",
    "X_train_u, y_train_u = resample(X_train[y_train == 1],\n",
    "                                y_train[y_train == 1],\n",
    "                                replace=True,\n",
    "                                n_samples=X_train[y_train == 0].shape[0],\n",
    "                                random_state=1)\n",
    "\n",
    "X_train_u = np.concatenate((X_train[y_train == 0], X_train_u))\n",
    "y_train_u = np.concatenate((y_train[y_train == 0], y_train_u))\n",
    "\n",
    "\n",
    "# Upsample using SMOTE\n",
    "sm = SMOTE(random_state=12, ratio ='minority')\n",
    "x_train_sm, y_train_sm = sm.fit_sample(X_train, y_train)\n",
    "\n",
    "\n",
    "# Downsample majority class\n",
    "X_train_d, y_train_d = resample(X_train[y_train == 0],\n",
    "                                y_train[y_train == 0],\n",
    "                                replace=True,\n",
    "                                n_samples=X_train[y_train == 1].shape[0],\n",
    "                                random_state=1)\n",
    "X_train_d = np.concatenate((X_train[y_train == 1], X_train_d))\n",
    "y_train_d = np.concatenate((y_train[y_train == 1], y_train_d))\n",
    "\n",
    "\n",
    "print(\"Original shape:\", X_train.shape, y_train.shape)\n",
    "print(\"Upsampled shape:\", X_train_u.shape, y_train_u.shape)\n",
    "print (\"SMOTE sample shape:\", x_train_sm.shape, y_train_sm.shape)\n",
    "print(\"Downsampled shape:\", X_train_d.shape, y_train_d.shape)"
   ]
  },
  {
   "cell_type": "markdown",
   "metadata": {},
   "source": [
    "## Choose Which Sampling Technique to Use For Model"
   ]
  },
  {
   "cell_type": "markdown",
   "metadata": {},
   "source": [
    "Train on Original, Upsampled, SMOTE, and Downsampled Data¶\n",
    "Objective:Train our Logistic Regression Model to our original, upsampled, and downsampled data to see which performs best.\n",
    "\n",
    "Results: \n",
    "1. Oiginal Sample: F1 Score: 32.3%\n",
    "2. Upsample: F1 Score: 73.7%\n",
    "3. SMOTE: F1 Score: 74.4%\n",
    "4. Downsample: F1 Scores: 73.5% \n",
    "\n",
    "SMOTE gives us the best performance"
   ]
  },
  {
   "cell_type": "markdown",
   "metadata": {},
   "source": [
    "## Upsample"
   ]
  },
  {
   "cell_type": "markdown",
   "metadata": {},
   "source": [
    "Randomly resmple the minority class to create new data"
   ]
  },
  {
   "cell_type": "markdown",
   "metadata": {},
   "source": [
    "## SMOTE"
   ]
  },
  {
   "cell_type": "markdown",
   "metadata": {},
   "source": [
    "Use the nearest neighbors of the minority observations to create new synthetic data"
   ]
  },
  {
   "cell_type": "markdown",
   "metadata": {},
   "source": [
    "## Downgrade"
   ]
  },
  {
   "cell_type": "markdown",
   "metadata": {},
   "source": [
    "Remove some samples of the majority class"
   ]
  },
  {
   "cell_type": "markdown",
   "metadata": {},
   "source": [
    " "
   ]
  },
  {
   "cell_type": "markdown",
   "metadata": {},
   "source": [
    "## Test Logistic Regression Performace"
   ]
  },
  {
   "cell_type": "code",
   "execution_count": 150,
   "metadata": {},
   "outputs": [
    {
     "name": "stdout",
     "output_type": "stream",
     "text": [
      "The best F1 Score for Original data:\n",
      "0.2403045892742778\n",
      "The best F1 Score for Upsampled data:\n",
      "0.7290815972694967\n",
      "The best F1 Score for SMOTE data:\n",
      "0.7297951804749518\n",
      "The best F1 Score for Downsampled data:\n",
      "0.7210625810038491\n"
     ]
    },
    {
     "data": {
      "text/plain": [
       "0.030861409725151206"
      ]
     },
     "execution_count": 150,
     "metadata": {},
     "output_type": "execute_result"
    }
   ],
   "source": [
    "# Create the Original, Upsampled, and Downsampled training sets\n",
    "methods_data = {\"Original\": (X_train, y_train),\n",
    "                \"Upsampled\": (X_train_u, y_train_u),\n",
    "                \"SMOTE\":(x_train_sm, y_train_sm),\n",
    "                \"Downsampled\": (X_train_d, y_train_d)}\n",
    "\n",
    "# Loop through each type of training sets and apply 10-Fold CV using Logistic Regression\n",
    "# By default in cross_val_score StratifiedCV is used\n",
    "for method in methods_data.keys():\n",
    "    lr_results = cross_val_score(LogisticRegression(), methods_data[method][0], methods_data[method][1], cv=10, scoring='f1')\n",
    "    print(f\"The best F1 Score for {method} data:\")\n",
    "    print (lr_results.mean())\n",
    " \n",
    "cross_val_score(LogisticRegression(class_weight='balanced'), X_train, y_train, cv=10, scoring='f1').mean()"
   ]
  },
  {
   "cell_type": "markdown",
   "metadata": {},
   "source": [
    "## Machine Learning Model"
   ]
  },
  {
   "cell_type": "code",
   "execution_count": 151,
   "metadata": {},
   "outputs": [
    {
     "name": "stdout",
     "output_type": "stream",
     "text": [
      "Checking whether there is an H2O instance running at http://localhost:54321. connected.\n"
     ]
    },
    {
     "data": {
      "text/html": [
       "<div style=\"overflow:auto\"><table style=\"width:50%\"><tr><td>H2O cluster uptime:</td>\n",
       "<td>7 mins 30 secs</td></tr>\n",
       "<tr><td>H2O cluster timezone:</td>\n",
       "<td>America/New_York</td></tr>\n",
       "<tr><td>H2O data parsing timezone:</td>\n",
       "<td>UTC</td></tr>\n",
       "<tr><td>H2O cluster version:</td>\n",
       "<td>3.20.0.5</td></tr>\n",
       "<tr><td>H2O cluster version age:</td>\n",
       "<td>1 month </td></tr>\n",
       "<tr><td>H2O cluster name:</td>\n",
       "<td>H2O_from_python_Sen_Huo_lvexnu</td></tr>\n",
       "<tr><td>H2O cluster total nodes:</td>\n",
       "<td>1</td></tr>\n",
       "<tr><td>H2O cluster free memory:</td>\n",
       "<td>3.317 Gb</td></tr>\n",
       "<tr><td>H2O cluster total cores:</td>\n",
       "<td>8</td></tr>\n",
       "<tr><td>H2O cluster allowed cores:</td>\n",
       "<td>8</td></tr>\n",
       "<tr><td>H2O cluster status:</td>\n",
       "<td>locked, healthy</td></tr>\n",
       "<tr><td>H2O connection url:</td>\n",
       "<td>http://localhost:54321</td></tr>\n",
       "<tr><td>H2O connection proxy:</td>\n",
       "<td>None</td></tr>\n",
       "<tr><td>H2O internal security:</td>\n",
       "<td>False</td></tr>\n",
       "<tr><td>H2O API Extensions:</td>\n",
       "<td>Algos, AutoML, Core V3, Core V4</td></tr>\n",
       "<tr><td>Python version:</td>\n",
       "<td>3.6.5 final</td></tr></table></div>"
      ],
      "text/plain": [
       "--------------------------  -------------------------------\n",
       "H2O cluster uptime:         7 mins 30 secs\n",
       "H2O cluster timezone:       America/New_York\n",
       "H2O data parsing timezone:  UTC\n",
       "H2O cluster version:        3.20.0.5\n",
       "H2O cluster version age:    1 month\n",
       "H2O cluster name:           H2O_from_python_Sen_Huo_lvexnu\n",
       "H2O cluster total nodes:    1\n",
       "H2O cluster free memory:    3.317 Gb\n",
       "H2O cluster total cores:    8\n",
       "H2O cluster allowed cores:  8\n",
       "H2O cluster status:         locked, healthy\n",
       "H2O connection url:         http://localhost:54321\n",
       "H2O connection proxy:\n",
       "H2O internal security:      False\n",
       "H2O API Extensions:         Algos, AutoML, Core V3, Core V4\n",
       "Python version:             3.6.5 final\n",
       "--------------------------  -------------------------------"
      ]
     },
     "metadata": {},
     "output_type": "display_data"
    }
   ],
   "source": [
    "# Initialize H2O cluster\n",
    "h2o.init()\n",
    "h2o.remove_all()"
   ]
  },
  {
   "cell_type": "code",
   "execution_count": 152,
   "metadata": {},
   "outputs": [],
   "source": [
    "df=df[df['length']<300]"
   ]
  },
  {
   "cell_type": "code",
   "execution_count": 153,
   "metadata": {},
   "outputs": [
    {
     "name": "stdout",
     "output_type": "stream",
     "text": [
      "Parse progress: |█████████████████████████████████████████████████████████| 100%\n"
     ]
    },
    {
     "data": {
      "text/html": [
       "<table>\n",
       "<thead>\n",
       "<tr><th>       </th><th>Convert  </th><th>Appeal Description  </th><th>PG donor  </th><th>Imr_Age          </th><th>Total Amount of Gifts  </th><th>avg giving circle month  </th><th>lapsed time      </th><th>length           </th></tr>\n",
       "</thead>\n",
       "<tbody>\n",
       "<tr><td>type   </td><td>enum     </td><td>enum                </td><td>enum      </td><td>real             </td><td>real                   </td><td>real                     </td><td>real             </td><td>real             </td></tr>\n",
       "<tr><td>mins   </td><td>         </td><td>                    </td><td>          </td><td>20.0             </td><td>0.0                    </td><td>1.0                      </td><td>0.0              </td><td>3.0              </td></tr>\n",
       "<tr><td>mean   </td><td>         </td><td>                    </td><td>          </td><td>71.9430805918274 </td><td>126708.05883436163     </td><td>15.170046841041627       </td><td>32.49953500739501</td><td>87.87496299250665</td></tr>\n",
       "<tr><td>maxs   </td><td>         </td><td>                    </td><td>          </td><td>116.0            </td><td>2371200000.0           </td><td>126.0                    </td><td>257.0            </td><td>298.0            </td></tr>\n",
       "<tr><td>sigma  </td><td>         </td><td>                    </td><td>          </td><td>14.64343951743865</td><td>12136975.031524137     </td><td>14.188347943598316       </td><td>32.53664308364953</td><td>36.473445882283  </td></tr>\n",
       "<tr><td>zeros  </td><td>         </td><td>                    </td><td>          </td><td>0                </td><td>3                      </td><td>0                        </td><td>869              </td><td>0                </td></tr>\n",
       "<tr><td>missing</td><td>0        </td><td>0                   </td><td>0         </td><td>0                </td><td>0                      </td><td>0                        </td><td>0                </td><td>0                </td></tr>\n",
       "<tr><td>0      </td><td>0        </td><td>event               </td><td>0         </td><td>68.0             </td><td>8500.0                 </td><td>11.0                     </td><td>36.0             </td><td>58.0             </td></tr>\n",
       "<tr><td>1      </td><td>0        </td><td>DM                  </td><td>0         </td><td>90.0             </td><td>360.0                  </td><td>7.0                      </td><td>16.0             </td><td>63.0             </td></tr>\n",
       "<tr><td>2      </td><td>0        </td><td>event               </td><td>0         </td><td>69.0             </td><td>200.0                  </td><td>114.0                    </td><td>2.0              </td><td>116.0            </td></tr>\n",
       "<tr><td>3      </td><td>0        </td><td>DM                  </td><td>0         </td><td>89.0             </td><td>2250.0                 </td><td>11.0                     </td><td>8.0              </td><td>115.0            </td></tr>\n",
       "<tr><td>4      </td><td>0        </td><td>DM                  </td><td>0         </td><td>102.0            </td><td>1654000.0              </td><td>17.0                     </td><td>26.0             </td><td>111.0            </td></tr>\n",
       "<tr><td>5      </td><td>0        </td><td>DM                  </td><td>0         </td><td>52.0             </td><td>95.0                   </td><td>66.0                     </td><td>49.0             </td><td>115.0            </td></tr>\n",
       "<tr><td>6      </td><td>0        </td><td>online              </td><td>0         </td><td>74.0             </td><td>900.0                  </td><td>48.0                     </td><td>68.0             </td><td>116.0            </td></tr>\n",
       "<tr><td>7      </td><td>0        </td><td>DM                  </td><td>0         </td><td>75.0             </td><td>300.0                  </td><td>12.0                     </td><td>103.0            </td><td>115.0            </td></tr>\n",
       "<tr><td>8      </td><td>0        </td><td>DM                  </td><td>0         </td><td>51.0             </td><td>7.0                    </td><td>38.0                     </td><td>21.0             </td><td>97.0             </td></tr>\n",
       "<tr><td>9      </td><td>0        </td><td>DM                  </td><td>0         </td><td>87.0             </td><td>275.0                  </td><td>26.0                     </td><td>20.0             </td><td>127.0            </td></tr>\n",
       "</tbody>\n",
       "</table>"
      ]
     },
     "metadata": {},
     "output_type": "display_data"
    }
   ],
   "source": [
    "# Transform to H2O Frame, and make sure the target variable is categorical\n",
    "h2o_df = H2OFrame(df)\n",
    "h2o_df['Convert'] = h2o_df['Convert'].asfactor()\n",
    "h2o_df['PG donor'] = h2o_df['PG donor'].asfactor()\n",
    "\n",
    "h2o_df.summary()"
   ]
  },
  {
   "cell_type": "code",
   "execution_count": 154,
   "metadata": {},
   "outputs": [],
   "source": [
    "# Split into 75% training and 25% test dataset# Split  \n",
    "strat_split = h2o_df['Convert'].stratified_split(test_frac=0.25, seed=42)\n",
    "\n",
    "train = h2o_df[strat_split == 'train']\n",
    "test = h2o_df[strat_split == 'test']\n",
    "\n",
    "feature = ['Appeal Description', 'PG donor', 'Imr_Age', 'Total Amount of Gifts', 'avg giving circle month', 'lapsed time','length']\n",
    "target = 'Convert'"
   ]
  },
  {
   "cell_type": "code",
   "execution_count": 155,
   "metadata": {},
   "outputs": [
    {
     "name": "stdout",
     "output_type": "stream",
     "text": [
      "drf Model Build progress: |███████████████████████████████████████████████| 100%\n"
     ]
    }
   ],
   "source": [
    "# Build random forest model\n",
    "model = H2ORandomForestEstimator(balance_classes=True, ntrees=300, max_depth=10, categorical_encoding='auto',\n",
    "                                 mtries=-1, seed=42, score_each_iteration=True)\n",
    "model.train(x=feature, y=target, training_frame=train)"
   ]
  },
  {
   "cell_type": "code",
   "execution_count": 156,
   "metadata": {},
   "outputs": [
    {
     "data": {
      "image/png": "[encoded data removed]",
      "text/plain": [
       "<Figure size 576x360 with 1 Axes>"
      ]
     },
     "metadata": {},
     "output_type": "display_data"
    }
   ],
   "source": [
    "# Feature importance\n",
    "importance = model.varimp(use_pandas=True)\n",
    "\n",
    "fig, ax = plt.subplots(figsize=(8, 5))\n",
    "sns.barplot(x='scaled_importance', y='variable', data=importance)\n",
    "plt.tight_layout()\n",
    "plt.show()"
   ]
  },
  {
   "cell_type": "code",
   "execution_count": null,
   "metadata": {},
   "outputs": [],
   "source": []
  },
  {
   "cell_type": "code",
   "execution_count": 157,
   "metadata": {},
   "outputs": [
    {
     "name": "stdout",
     "output_type": "stream",
     "text": [
      "drf prediction progress: |████████████████████████████████████████████████| 100%\n",
      "drf prediction progress: |████████████████████████████████████████████████| 100%\n"
     ]
    }
   ],
   "source": [
    "# Make predictions\n",
    "train_true = train.as_data_frame()['Convert'].values\n",
    "test_true = test.as_data_frame()['Convert'].values\n",
    "train_pred = model.predict(train).as_data_frame()['p1'].values\n",
    "test_pred = model.predict(test).as_data_frame()['p1'].values\n",
    "\n",
    "train_fpr, train_tpr, _ = roc_curve(train_true, train_pred)\n",
    "test_fpr, test_tpr, _ = roc_curve(test_true, test_pred)\n",
    "train_auc = np.round(auc(train_fpr, train_tpr), 3)\n",
    "test_auc = np.round(auc(test_fpr, test_tpr), 3)"
   ]
  },
  {
   "cell_type": "code",
   "execution_count": 158,
   "metadata": {},
   "outputs": [
    {
     "name": "stdout",
     "output_type": "stream",
     "text": [
      "Confusion Matrix (Act/Pred) for max f1 @ threshold = 0.005080881178702555: \n"
     ]
    },
    {
     "data": {
      "text/html": [
       "<div style=\"overflow:auto\"><table style=\"width:50%\"><tr><td><b></b></td>\n",
       "<td><b>0</b></td>\n",
       "<td><b>1</b></td>\n",
       "<td><b>Error</b></td>\n",
       "<td><b>Rate</b></td></tr>\n",
       "<tr><td>0</td>\n",
       "<td>43752.0</td>\n",
       "<td>1111.0</td>\n",
       "<td>0.0248</td>\n",
       "<td> (1111.0/44863.0)</td></tr>\n",
       "<tr><td>1</td>\n",
       "<td>404.0</td>\n",
       "<td>44458.0</td>\n",
       "<td>0.009</td>\n",
       "<td> (404.0/44862.0)</td></tr>\n",
       "<tr><td>Total</td>\n",
       "<td>44156.0</td>\n",
       "<td>45569.0</td>\n",
       "<td>0.0169</td>\n",
       "<td> (1515.0/89725.0)</td></tr></table></div>"
      ],
      "text/plain": [
       "       0      1      Error    Rate\n",
       "-----  -----  -----  -------  ----------------\n",
       "0      43752  1111   0.0248   (1111.0/44863.0)\n",
       "1      404    44458  0.009    (404.0/44862.0)\n",
       "Total  44156  45569  0.0169   (1515.0/89725.0)"
      ]
     },
     "metadata": {},
     "output_type": "display_data"
    },
    {
     "data": {
      "text/plain": []
     },
     "execution_count": 158,
     "metadata": {},
     "output_type": "execute_result"
    }
   ],
   "source": [
    "#Confusion Matrix\n",
    "model.confusion_matrix()"
   ]
  },
  {
   "cell_type": "code",
   "execution_count": 159,
   "metadata": {},
   "outputs": [
    {
     "name": "stdout",
     "output_type": "stream",
     "text": [
      "             precision    recall  f1-score   support\n",
      "\n",
      "          0       1.00      1.00      1.00     14954\n",
      "          1       0.98      0.58      0.73        89\n",
      "\n",
      "avg / total       1.00      1.00      1.00     15043\n",
      "\n"
     ]
    }
   ],
   "source": [
    "# Classification report\n",
    "print(classification_report(y_true=test_true, y_pred=(test_pred > 0.01489).astype(int)))"
   ]
  },
  {
   "cell_type": "code",
   "execution_count": 160,
   "metadata": {},
   "outputs": [
    {
     "data": {
      "image/png": "[encoded data removed]",
      "text/plain": [
       "<Figure size 576x432 with 1 Axes>"
      ]
     },
     "metadata": {},
     "output_type": "display_data"
    }
   ],
   "source": [
    "# ROC curves\n",
    "fig, ax = plt.subplots(figsize=(8, 6))\n",
    "ax.plot(train_fpr, train_tpr, label='Train AUC: ' + str(train_auc))\n",
    "ax.plot(test_fpr, test_tpr, label='Test AUC: ' + str(test_auc))\n",
    "ax.set_xlabel('False Positive Rate', fontsize=12)\n",
    "ax.set_ylabel('True Positive Rate', fontsize=12)\n",
    "ax.legend(fontsize=12)\n",
    "plt.show()"
   ]
  },
  {
   "cell_type": "code",
   "execution_count": 161,
   "metadata": {},
   "outputs": [
    {
     "name": "stdout",
     "output_type": "stream",
     "text": [
      "PartialDependencePlot progress: |█████████████████████████████████████████| 100%\n"
     ]
    },
    {
     "data": {
      "image/png": "[encoded data removed]",
      "text/plain": [
       "<Figure size 1080x720 with 7 Axes>"
      ]
     },
     "metadata": {},
     "output_type": "display_data"
    }
   ],
   "source": [
    "# Partial dependence plot\n",
    "_ = model.partial_plot(train, cols=feature, figsize=(15, 10))"
   ]
  },
  {
   "cell_type": "markdown",
   "metadata": {},
   "source": [
    "## What to Optimize\n",
    "We want our mailing learn model to capture as much of the minority class as possible (converted group). Our objective is to catch all of the highly probable converted donors. "
   ]
  },
  {
   "cell_type": "markdown",
   "metadata": {},
   "source": [
    "## Conclusion\n",
    "\n",
    "\n",
    "\n",
    "\n",
    "\n",
    "\n",
    "\n",
    "\n"
   ]
  },
  {
   "cell_type": "markdown",
   "metadata": {},
   "source": [
    "#### Binary Classification: converted vs non converted"
   ]
  },
  {
   "cell_type": "markdown",
   "metadata": {},
   "source": [
    "#### Need for Application: \n",
    "In converted vs non converted project, rather than simply predicting whether an donor will leave a bequest within a certain time frame, we would much rather have an estimate of the probability that he/she will leave a bequest. We would rank donors by their probability of convert, then allocate resource/budget to the highest probability donors.\n",
    "\n",
    "Consider a donor is given a PG package because HRW think the donor will leave a bequest in the future, but the donor actually will not. This is a false posive error. This mistake could be expensive, but is a good investment for relational growth. \n",
    "\n",
    "Compare this with the oppsite error, where HRW doesn't send the donor PG package and they do want to leave a bequest to non-profit organization. This is a False negative. This type of error is more detrimental because HWR may lose a huge amount of donation. \n",
    "\n",
    "Solution 1: \n",
    "* We can rank donors by their probability of convert, then allocate a limited budget to those highest probability donors. \n",
    "\n",
    "Solution 2: \n",
    "* Based on the modeling results, the most important features are length (donor lifetime) and lapsed time. We can share the feature importance and parital dependence results to HWR and they should follow the following critera to select donors. \n",
    "\n",
    "Top tier - select top tier donors based on following rules:\n",
    "* donors with first gift date before 2008. \n",
    "* donors with lapsed time less than 50 OR donors with lapsed time greater than 130.\n",
    "* donors average giving circle less than 20 month. \n",
    "* donors with age greater than 70.\n",
    "* donors either came from DM. \n",
    "\n",
    "\n",
    "\n",
    "\n",
    "\n",
    "\n",
    "\n"
   ]
  },
  {
   "cell_type": "markdown",
   "metadata": {},
   "source": [
    "## Selection Bias"
   ]
  },
  {
   "cell_type": "markdown",
   "metadata": {},
   "source": [
    " "
   ]
  },
  {
   "cell_type": "markdown",
   "metadata": {},
   "source": [
    "* One thing to note about this dateset is the super imbalenced class. A more healthy dataset should contain at least 2% converted donors. Although we applied resampling strategy and powerful machine learning algorithm, the selection bias might be large. \n",
    "\n",
    "* Another thing to note down is the missing values. Some records with missing age and deceased date in converted group, we have to impute a lot of missing values and we use those estimated value to build model. This will increase the selection bias as well. "
   ]
  },
  {
   "cell_type": "code",
   "execution_count": null,
   "metadata": {},
   "outputs": [],
   "source": []
  },
  {
   "cell_type": "code",
   "execution_count": null,
   "metadata": {},
   "outputs": [],
   "source": []
  },
  {
   "cell_type": "code",
   "execution_count": null,
   "metadata": {},
   "outputs": [],
   "source": []
  }
 ],
 "metadata": {
  "kernelspec": {
   "display_name": "Python 3",
   "language": "python",
   "name": "python3"
  },
  "language_info": {
   "codemirror_mode": {
    "name": "ipython",
    "version": 3
   },
   "file_extension": ".py",
   "mimetype": "text/x-python",
   "name": "python",
   "nbconvert_exporter": "python",
   "pygments_lexer": "ipython3",
   "version": "3.6.5"
  }
 },
 "nbformat": 4,
 "nbformat_minor": 2
}
