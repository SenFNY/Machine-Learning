{
 "cells": [
  {
   "cell_type": "markdown",
   "metadata": {},
   "source": [
    "# Understand and Optimizing Plan Giving Mailing Strategy"
   ]
  },
  {
   "cell_type": "markdown",
   "metadata": {},
   "source": [
    " "
   ]
  },
  {
   "cell_type": "markdown",
   "metadata": {},
   "source": [
    "## Objective: \n",
    "* To understand what factors contributed most to convert regular donors to plan giving donors.\n",
    "* To perform EDA to find any meaningful patterns of convertion.\n",
    "* To create a model that predicts the likelihood if a certain donor will leave bequest.\n",
    "* To create or improve different mailing strategies on targeted donors. \n",
    "\n",
    "The implementation of this model will allow non-profit to create better decision-making actions."
   ]
  },
  {
   "cell_type": "markdown",
   "metadata": {},
   "source": [
    "## We'll be covering:\n",
    " * Descriptive Analytics - what happened? \n",
    " * Predictive Analytics - What might happen?\n",
    " * Prescriptive Analytics  - What should we do?  "
   ]
  },
  {
   "cell_type": "markdown",
   "metadata": {},
   "source": [
    "## Dataset Variables:  \n",
    "\n",
    "* Length - Donor's lifetime = (Deceased date/To date - First gift date)\n",
    "* Age - Donor's Age\n",
    "* Lapsed Time (in month) - Calculate the date difference between last gift date and current date.\n",
    "* PG donors - Search all transactions and label the donor as PG donor if he/she donated to any plan giving campaigns (newsletter, PG card and etc..)\n",
    "* Avg Giving Cycle (in month )- Donation frequency. \n",
    "* Appeal Desciption - Appeal description for donor's first gift\n",
    "* Total Amount of Gift - Total gift amount before donors become plan giving donors."
   ]
  },
  {
   "cell_type": "markdown",
   "metadata": {},
   "source": [
    "## Imports Packages and Load Datasets"
   ]
  },
  {
   "cell_type": "markdown",
   "metadata": {},
   "source": [
    "## Data Quality Check"
   ]
  },
  {
   "cell_type": "markdown",
   "metadata": {},
   "source": [
    "#Remove 1 time DM donor.\n"
   ]
  },
  {
   "cell_type": "code",
   "execution_count": 13,
   "metadata": {},
   "outputs": [
    {
     "data": {
      "text/html": [
       "<div>\n",
       "<style scoped>\n",
       "    .dataframe tbody tr th:only-of-type {\n",
       "        vertical-align: middle;\n",
       "    }\n",
       "\n",
       "    .dataframe tbody tr th {\n",
       "        vertical-align: top;\n",
       "    }\n",
       "\n",
       "    .dataframe thead th {\n",
       "        text-align: right;\n",
       "    }\n",
       "</style>\n",
       "<table border=\"1\" class=\"dataframe\">\n",
       "  <thead>\n",
       "    <tr style=\"text-align: right;\">\n",
       "      <th></th>\n",
       "      <th>Constituent ID</th>\n",
       "      <th>Age</th>\n",
       "      <th>Total Amount of Gifts</th>\n",
       "      <th>Gift Amount</th>\n",
       "      <th>avg giving circle month</th>\n",
       "      <th>lapsed time</th>\n",
       "      <th>length</th>\n",
       "      <th>PG donor</th>\n",
       "      <th>Convert</th>\n",
       "    </tr>\n",
       "  </thead>\n",
       "  <tbody>\n",
       "    <tr>\n",
       "      <th>count</th>\n",
       "      <td>2.540000e+02</td>\n",
       "      <td>246.000000</td>\n",
       "      <td>2.540000e+02</td>\n",
       "      <td>254.000000</td>\n",
       "      <td>240.000000</td>\n",
       "      <td>254.000000</td>\n",
       "      <td>254.000000</td>\n",
       "      <td>254.000000</td>\n",
       "      <td>254.0</td>\n",
       "    </tr>\n",
       "    <tr>\n",
       "      <th>mean</th>\n",
       "      <td>3.328792e+05</td>\n",
       "      <td>72.626016</td>\n",
       "      <td>7.184804e+06</td>\n",
       "      <td>3284.715433</td>\n",
       "      <td>10.883333</td>\n",
       "      <td>35.708661</td>\n",
       "      <td>142.145669</td>\n",
       "      <td>0.078740</td>\n",
       "      <td>1.0</td>\n",
       "    </tr>\n",
       "    <tr>\n",
       "      <th>std</th>\n",
       "      <td>4.397280e+05</td>\n",
       "      <td>12.425056</td>\n",
       "      <td>8.766777e+07</td>\n",
       "      <td>24509.244703</td>\n",
       "      <td>12.381105</td>\n",
       "      <td>23.655669</td>\n",
       "      <td>105.153673</td>\n",
       "      <td>0.269865</td>\n",
       "      <td>0.0</td>\n",
       "    </tr>\n",
       "    <tr>\n",
       "      <th>min</th>\n",
       "      <td>1.540000e+03</td>\n",
       "      <td>25.000000</td>\n",
       "      <td>0.000000e+00</td>\n",
       "      <td>0.000000</td>\n",
       "      <td>1.000000</td>\n",
       "      <td>1.000000</td>\n",
       "      <td>5.000000</td>\n",
       "      <td>0.000000</td>\n",
       "      <td>1.0</td>\n",
       "    </tr>\n",
       "    <tr>\n",
       "      <th>25%</th>\n",
       "      <td>5.815450e+04</td>\n",
       "      <td>67.000000</td>\n",
       "      <td>3.012500e+02</td>\n",
       "      <td>30.000000</td>\n",
       "      <td>4.000000</td>\n",
       "      <td>18.000000</td>\n",
       "      <td>82.250000</td>\n",
       "      <td>0.000000</td>\n",
       "      <td>1.0</td>\n",
       "    </tr>\n",
       "    <tr>\n",
       "      <th>50%</th>\n",
       "      <td>1.178525e+05</td>\n",
       "      <td>73.000000</td>\n",
       "      <td>8.900000e+02</td>\n",
       "      <td>50.000000</td>\n",
       "      <td>8.500000</td>\n",
       "      <td>32.000000</td>\n",
       "      <td>137.500000</td>\n",
       "      <td>0.000000</td>\n",
       "      <td>1.0</td>\n",
       "    </tr>\n",
       "    <tr>\n",
       "      <th>75%</th>\n",
       "      <td>1.989210e+05</td>\n",
       "      <td>81.000000</td>\n",
       "      <td>4.476250e+03</td>\n",
       "      <td>100.000000</td>\n",
       "      <td>13.000000</td>\n",
       "      <td>50.000000</td>\n",
       "      <td>183.750000</td>\n",
       "      <td>0.000000</td>\n",
       "      <td>1.0</td>\n",
       "    </tr>\n",
       "    <tr>\n",
       "      <th>max</th>\n",
       "      <td>1.349416e+06</td>\n",
       "      <td>98.000000</td>\n",
       "      <td>1.385764e+09</td>\n",
       "      <td>300000.000000</td>\n",
       "      <td>136.000000</td>\n",
       "      <td>133.000000</td>\n",
       "      <td>1300.000000</td>\n",
       "      <td>1.000000</td>\n",
       "      <td>1.0</td>\n",
       "    </tr>\n",
       "  </tbody>\n",
       "</table>\n",
       "</div>"
      ],
      "text/plain": [
       "       Constituent ID         Age  Total Amount of Gifts    Gift Amount  \\\n",
       "count    2.540000e+02  246.000000           2.540000e+02     254.000000   \n",
       "mean     3.328792e+05   72.626016           7.184804e+06    3284.715433   \n",
       "std      4.397280e+05   12.425056           8.766777e+07   24509.244703   \n",
       "min      1.540000e+03   25.000000           0.000000e+00       0.000000   \n",
       "25%      5.815450e+04   67.000000           3.012500e+02      30.000000   \n",
       "50%      1.178525e+05   73.000000           8.900000e+02      50.000000   \n",
       "75%      1.989210e+05   81.000000           4.476250e+03     100.000000   \n",
       "max      1.349416e+06   98.000000           1.385764e+09  300000.000000   \n",
       "\n",
       "       avg giving circle month  lapsed time       length    PG donor  Convert  \n",
       "count               240.000000   254.000000   254.000000  254.000000    254.0  \n",
       "mean                 10.883333    35.708661   142.145669    0.078740      1.0  \n",
       "std                  12.381105    23.655669   105.153673    0.269865      0.0  \n",
       "min                   1.000000     1.000000     5.000000    0.000000      1.0  \n",
       "25%                   4.000000    18.000000    82.250000    0.000000      1.0  \n",
       "50%                   8.500000    32.000000   137.500000    0.000000      1.0  \n",
       "75%                  13.000000    50.000000   183.750000    0.000000      1.0  \n",
       "max                 136.000000   133.000000  1300.000000    1.000000      1.0  "
      ]
     },
     "execution_count": 13,
     "metadata": {},
     "output_type": "execute_result"
    }
   ],
   "source": [
    "#Display the statistical overview of living bequest donors"
   ]
  },
  {
   "cell_type": "code",
   "execution_count": 14,
   "metadata": {},
   "outputs": [
    {
     "data": {
      "text/html": [
       "<div>\n",
       "<style scoped>\n",
       "    .dataframe tbody tr th:only-of-type {\n",
       "        vertical-align: middle;\n",
       "    }\n",
       "\n",
       "    .dataframe tbody tr th {\n",
       "        vertical-align: top;\n",
       "    }\n",
       "\n",
       "    .dataframe thead th {\n",
       "        text-align: right;\n",
       "    }\n",
       "</style>\n",
       "<table border=\"1\" class=\"dataframe\">\n",
       "  <thead>\n",
       "    <tr style=\"text-align: right;\">\n",
       "      <th></th>\n",
       "      <th>Constituent ID</th>\n",
       "      <th>Age</th>\n",
       "      <th>Total Amount of Gifts</th>\n",
       "      <th>Gift Amount</th>\n",
       "      <th>avg giving circle month</th>\n",
       "      <th>length</th>\n",
       "      <th>lapsed time</th>\n",
       "      <th>PG donor</th>\n",
       "      <th>Convert</th>\n",
       "    </tr>\n",
       "  </thead>\n",
       "  <tbody>\n",
       "    <tr>\n",
       "      <th>count</th>\n",
       "      <td>1.190000e+02</td>\n",
       "      <td>41.000000</td>\n",
       "      <td>1.190000e+02</td>\n",
       "      <td>119.000000</td>\n",
       "      <td>110.000000</td>\n",
       "      <td>54.000000</td>\n",
       "      <td>100.000000</td>\n",
       "      <td>119.000000</td>\n",
       "      <td>119.0</td>\n",
       "    </tr>\n",
       "    <tr>\n",
       "      <th>mean</th>\n",
       "      <td>6.454338e+05</td>\n",
       "      <td>81.634146</td>\n",
       "      <td>2.019089e+05</td>\n",
       "      <td>634.493445</td>\n",
       "      <td>14.354545</td>\n",
       "      <td>149.740741</td>\n",
       "      <td>42.640000</td>\n",
       "      <td>0.016807</td>\n",
       "      <td>1.0</td>\n",
       "    </tr>\n",
       "    <tr>\n",
       "      <th>std</th>\n",
       "      <td>5.199095e+05</td>\n",
       "      <td>9.205314</td>\n",
       "      <td>1.965858e+06</td>\n",
       "      <td>2843.140811</td>\n",
       "      <td>14.337726</td>\n",
       "      <td>75.999301</td>\n",
       "      <td>40.731821</td>\n",
       "      <td>0.129090</td>\n",
       "      <td>0.0</td>\n",
       "    </tr>\n",
       "    <tr>\n",
       "      <th>min</th>\n",
       "      <td>3.247000e+03</td>\n",
       "      <td>59.000000</td>\n",
       "      <td>1.000000e+01</td>\n",
       "      <td>5.000000</td>\n",
       "      <td>1.000000</td>\n",
       "      <td>13.000000</td>\n",
       "      <td>2.000000</td>\n",
       "      <td>0.000000</td>\n",
       "      <td>1.0</td>\n",
       "    </tr>\n",
       "    <tr>\n",
       "      <th>25%</th>\n",
       "      <td>5.864050e+04</td>\n",
       "      <td>76.000000</td>\n",
       "      <td>2.600000e+02</td>\n",
       "      <td>25.000000</td>\n",
       "      <td>8.000000</td>\n",
       "      <td>96.500000</td>\n",
       "      <td>15.000000</td>\n",
       "      <td>0.000000</td>\n",
       "      <td>1.0</td>\n",
       "    </tr>\n",
       "    <tr>\n",
       "      <th>50%</th>\n",
       "      <td>1.001999e+06</td>\n",
       "      <td>82.000000</td>\n",
       "      <td>5.800000e+02</td>\n",
       "      <td>50.000000</td>\n",
       "      <td>11.000000</td>\n",
       "      <td>147.000000</td>\n",
       "      <td>31.500000</td>\n",
       "      <td>0.000000</td>\n",
       "      <td>1.0</td>\n",
       "    </tr>\n",
       "    <tr>\n",
       "      <th>75%</th>\n",
       "      <td>1.024868e+06</td>\n",
       "      <td>88.000000</td>\n",
       "      <td>2.624530e+03</td>\n",
       "      <td>100.000000</td>\n",
       "      <td>15.750000</td>\n",
       "      <td>190.750000</td>\n",
       "      <td>50.000000</td>\n",
       "      <td>0.000000</td>\n",
       "      <td>1.0</td>\n",
       "    </tr>\n",
       "    <tr>\n",
       "      <th>max</th>\n",
       "      <td>1.361742e+06</td>\n",
       "      <td>98.000000</td>\n",
       "      <td>2.141742e+07</td>\n",
       "      <td>25000.000000</td>\n",
       "      <td>108.000000</td>\n",
       "      <td>333.000000</td>\n",
       "      <td>257.000000</td>\n",
       "      <td>1.000000</td>\n",
       "      <td>1.0</td>\n",
       "    </tr>\n",
       "  </tbody>\n",
       "</table>\n",
       "</div>"
      ],
      "text/plain": [
       "       Constituent ID        Age  Total Amount of Gifts   Gift Amount  \\\n",
       "count    1.190000e+02  41.000000           1.190000e+02    119.000000   \n",
       "mean     6.454338e+05  81.634146           2.019089e+05    634.493445   \n",
       "std      5.199095e+05   9.205314           1.965858e+06   2843.140811   \n",
       "min      3.247000e+03  59.000000           1.000000e+01      5.000000   \n",
       "25%      5.864050e+04  76.000000           2.600000e+02     25.000000   \n",
       "50%      1.001999e+06  82.000000           5.800000e+02     50.000000   \n",
       "75%      1.024868e+06  88.000000           2.624530e+03    100.000000   \n",
       "max      1.361742e+06  98.000000           2.141742e+07  25000.000000   \n",
       "\n",
       "       avg giving circle month      length  lapsed time    PG donor  Convert  \n",
       "count               110.000000   54.000000   100.000000  119.000000    119.0  \n",
       "mean                 14.354545  149.740741    42.640000    0.016807      1.0  \n",
       "std                  14.337726   75.999301    40.731821    0.129090      0.0  \n",
       "min                   1.000000   13.000000     2.000000    0.000000      1.0  \n",
       "25%                   8.000000   96.500000    15.000000    0.000000      1.0  \n",
       "50%                  11.000000  147.000000    31.500000    0.000000      1.0  \n",
       "75%                  15.750000  190.750000    50.000000    0.000000      1.0  \n",
       "max                 108.000000  333.000000   257.000000    1.000000      1.0  "
      ]
     },
     "execution_count": 14,
     "metadata": {},
     "output_type": "execute_result"
    }
   ],
   "source": [
    "#Display the statistical overview of deceased bequest donors"
   ]
  },
  {
   "cell_type": "code",
   "execution_count": 15,
   "metadata": {},
   "outputs": [
    {
     "data": {
      "text/html": [
       "<div>\n",
       "<style scoped>\n",
       "    .dataframe tbody tr th:only-of-type {\n",
       "        vertical-align: middle;\n",
       "    }\n",
       "\n",
       "    .dataframe tbody tr th {\n",
       "        vertical-align: top;\n",
       "    }\n",
       "\n",
       "    .dataframe thead th {\n",
       "        text-align: right;\n",
       "    }\n",
       "</style>\n",
       "<table border=\"1\" class=\"dataframe\">\n",
       "  <thead>\n",
       "    <tr style=\"text-align: right;\">\n",
       "      <th></th>\n",
       "      <th>Constituent ID</th>\n",
       "      <th>Age</th>\n",
       "      <th>Total Amount of Gifts</th>\n",
       "      <th>Gift Amount</th>\n",
       "      <th>avg giving circle month</th>\n",
       "      <th>lapsed time</th>\n",
       "      <th>length</th>\n",
       "      <th>PG donor</th>\n",
       "      <th>Convert</th>\n",
       "    </tr>\n",
       "  </thead>\n",
       "  <tbody>\n",
       "    <tr>\n",
       "      <th>count</th>\n",
       "      <td>7.505200e+04</td>\n",
       "      <td>59818.000000</td>\n",
       "      <td>7.505200e+04</td>\n",
       "      <td>7.505200e+04</td>\n",
       "      <td>75052.000000</td>\n",
       "      <td>75052.000000</td>\n",
       "      <td>75052.000000</td>\n",
       "      <td>75052.000000</td>\n",
       "      <td>75052.0</td>\n",
       "    </tr>\n",
       "    <tr>\n",
       "      <th>mean</th>\n",
       "      <td>2.384349e+05</td>\n",
       "      <td>71.920375</td>\n",
       "      <td>1.646320e+05</td>\n",
       "      <td>1.510849e+03</td>\n",
       "      <td>14.613122</td>\n",
       "      <td>33.879524</td>\n",
       "      <td>84.308386</td>\n",
       "      <td>0.024050</td>\n",
       "      <td>0.0</td>\n",
       "    </tr>\n",
       "    <tr>\n",
       "      <th>std</th>\n",
       "      <td>9.409478e+05</td>\n",
       "      <td>14.660757</td>\n",
       "      <td>1.201533e+07</td>\n",
       "      <td>6.251447e+04</td>\n",
       "      <td>14.063458</td>\n",
       "      <td>33.448722</td>\n",
       "      <td>37.496101</td>\n",
       "      <td>0.153205</td>\n",
       "      <td>0.0</td>\n",
       "    </tr>\n",
       "    <tr>\n",
       "      <th>min</th>\n",
       "      <td>2.000000e+00</td>\n",
       "      <td>1.000000</td>\n",
       "      <td>0.000000e+00</td>\n",
       "      <td>0.000000e+00</td>\n",
       "      <td>1.000000</td>\n",
       "      <td>0.000000</td>\n",
       "      <td>1.000000</td>\n",
       "      <td>0.000000</td>\n",
       "      <td>0.0</td>\n",
       "    </tr>\n",
       "    <tr>\n",
       "      <th>25%</th>\n",
       "      <td>6.635600e+04</td>\n",
       "      <td>64.000000</td>\n",
       "      <td>1.000000e+02</td>\n",
       "      <td>2.500000e+01</td>\n",
       "      <td>7.000000</td>\n",
       "      <td>8.000000</td>\n",
       "      <td>51.000000</td>\n",
       "      <td>0.000000</td>\n",
       "      <td>0.0</td>\n",
       "    </tr>\n",
       "    <tr>\n",
       "      <th>50%</th>\n",
       "      <td>1.160175e+05</td>\n",
       "      <td>73.000000</td>\n",
       "      <td>2.350000e+02</td>\n",
       "      <td>5.000000e+01</td>\n",
       "      <td>12.000000</td>\n",
       "      <td>20.000000</td>\n",
       "      <td>94.000000</td>\n",
       "      <td>0.000000</td>\n",
       "      <td>0.0</td>\n",
       "    </tr>\n",
       "    <tr>\n",
       "      <th>75%</th>\n",
       "      <td>1.743235e+05</td>\n",
       "      <td>82.000000</td>\n",
       "      <td>6.750000e+02</td>\n",
       "      <td>1.000000e+02</td>\n",
       "      <td>17.000000</td>\n",
       "      <td>56.000000</td>\n",
       "      <td>118.000000</td>\n",
       "      <td>0.000000</td>\n",
       "      <td>0.0</td>\n",
       "    </tr>\n",
       "    <tr>\n",
       "      <th>max</th>\n",
       "      <td>2.393136e+08</td>\n",
       "      <td>116.000000</td>\n",
       "      <td>2.371200e+09</td>\n",
       "      <td>1.000000e+07</td>\n",
       "      <td>126.000000</td>\n",
       "      <td>126.000000</td>\n",
       "      <td>127.000000</td>\n",
       "      <td>1.000000</td>\n",
       "      <td>0.0</td>\n",
       "    </tr>\n",
       "  </tbody>\n",
       "</table>\n",
       "</div>"
      ],
      "text/plain": [
       "       Constituent ID           Age  Total Amount of Gifts   Gift Amount  \\\n",
       "count    7.505200e+04  59818.000000           7.505200e+04  7.505200e+04   \n",
       "mean     2.384349e+05     71.920375           1.646320e+05  1.510849e+03   \n",
       "std      9.409478e+05     14.660757           1.201533e+07  6.251447e+04   \n",
       "min      2.000000e+00      1.000000           0.000000e+00  0.000000e+00   \n",
       "25%      6.635600e+04     64.000000           1.000000e+02  2.500000e+01   \n",
       "50%      1.160175e+05     73.000000           2.350000e+02  5.000000e+01   \n",
       "75%      1.743235e+05     82.000000           6.750000e+02  1.000000e+02   \n",
       "max      2.393136e+08    116.000000           2.371200e+09  1.000000e+07   \n",
       "\n",
       "       avg giving circle month   lapsed time        length      PG donor  \\\n",
       "count             75052.000000  75052.000000  75052.000000  75052.000000   \n",
       "mean                 14.613122     33.879524     84.308386      0.024050   \n",
       "std                  14.063458     33.448722     37.496101      0.153205   \n",
       "min                   1.000000      0.000000      1.000000      0.000000   \n",
       "25%                   7.000000      8.000000     51.000000      0.000000   \n",
       "50%                  12.000000     20.000000     94.000000      0.000000   \n",
       "75%                  17.000000     56.000000    118.000000      0.000000   \n",
       "max                 126.000000    126.000000    127.000000      1.000000   \n",
       "\n",
       "       Convert  \n",
       "count  75052.0  \n",
       "mean       0.0  \n",
       "std        0.0  \n",
       "min        0.0  \n",
       "25%        0.0  \n",
       "50%        0.0  \n",
       "75%        0.0  \n",
       "max        0.0  "
      ]
     },
     "execution_count": 15,
     "metadata": {},
     "output_type": "execute_result"
    }
   ],
   "source": [
    "#Display the statistical overview of regular DM donors"
   ]
  },
  {
   "cell_type": "code",
   "execution_count": 16,
   "metadata": {},
   "outputs": [
    {
     "data": {
      "text/html": [
       "<div>\n",
       "<style scoped>\n",
       "    .dataframe tbody tr th:only-of-type {\n",
       "        vertical-align: middle;\n",
       "    }\n",
       "\n",
       "    .dataframe tbody tr th {\n",
       "        vertical-align: top;\n",
       "    }\n",
       "\n",
       "    .dataframe thead th {\n",
       "        text-align: right;\n",
       "    }\n",
       "</style>\n",
       "<table border=\"1\" class=\"dataframe\">\n",
       "  <thead>\n",
       "    <tr style=\"text-align: right;\">\n",
       "      <th></th>\n",
       "      <th>Constituent ID</th>\n",
       "      <th>Name</th>\n",
       "      <th>First Name</th>\n",
       "      <th>Last Name</th>\n",
       "      <th>Age</th>\n",
       "      <th>Total Amount of Gifts</th>\n",
       "      <th>Gift Amount</th>\n",
       "      <th>Gift Date</th>\n",
       "      <th>Appeal Description</th>\n",
       "      <th>avg giving circle month</th>\n",
       "      <th>lapsed time</th>\n",
       "      <th>length</th>\n",
       "      <th>PG donor</th>\n",
       "      <th>Convert</th>\n",
       "    </tr>\n",
       "  </thead>\n",
       "  <tbody>\n",
       "    <tr>\n",
       "      <th>1</th>\n",
       "      <td>1002302</td>\n",
       "      <td>Michael A. Replogle</td>\n",
       "      <td>Michael</td>\n",
       "      <td>Replogle</td>\n",
       "      <td>64.0</td>\n",
       "      <td>1510.00</td>\n",
       "      <td>50.00</td>\n",
       "      <td>1988-02-12</td>\n",
       "      <td>DM</td>\n",
       "      <td>14.0</td>\n",
       "      <td>59</td>\n",
       "      <td>366</td>\n",
       "      <td>0</td>\n",
       "      <td>1</td>\n",
       "    </tr>\n",
       "    <tr>\n",
       "      <th>2</th>\n",
       "      <td>1004065</td>\n",
       "      <td>Kathleen Hanold</td>\n",
       "      <td>Kathleen</td>\n",
       "      <td>Hanold</td>\n",
       "      <td>89.0</td>\n",
       "      <td>425.00</td>\n",
       "      <td>15.00</td>\n",
       "      <td>1989-01-13</td>\n",
       "      <td>DM</td>\n",
       "      <td>36.0</td>\n",
       "      <td>64</td>\n",
       "      <td>355</td>\n",
       "      <td>0</td>\n",
       "      <td>1</td>\n",
       "    </tr>\n",
       "    <tr>\n",
       "      <th>3</th>\n",
       "      <td>1004379</td>\n",
       "      <td>Maile N. Johnson</td>\n",
       "      <td>Maile</td>\n",
       "      <td>Johnson</td>\n",
       "      <td>68.0</td>\n",
       "      <td>715.00</td>\n",
       "      <td>15.00</td>\n",
       "      <td>1990-07-18</td>\n",
       "      <td>DM</td>\n",
       "      <td>14.0</td>\n",
       "      <td>56</td>\n",
       "      <td>337</td>\n",
       "      <td>0</td>\n",
       "      <td>1</td>\n",
       "    </tr>\n",
       "    <tr>\n",
       "      <th>4</th>\n",
       "      <td>1005044</td>\n",
       "      <td>Miriam Berkley</td>\n",
       "      <td>Miriam</td>\n",
       "      <td>Berkley</td>\n",
       "      <td>74.0</td>\n",
       "      <td>560.00</td>\n",
       "      <td>20.00</td>\n",
       "      <td>1990-12-12</td>\n",
       "      <td>DM</td>\n",
       "      <td>22.0</td>\n",
       "      <td>14</td>\n",
       "      <td>332</td>\n",
       "      <td>0</td>\n",
       "      <td>1</td>\n",
       "    </tr>\n",
       "    <tr>\n",
       "      <th>5</th>\n",
       "      <td>1006922</td>\n",
       "      <td>Edward Eitches</td>\n",
       "      <td>Edward</td>\n",
       "      <td>Eitches</td>\n",
       "      <td>69.0</td>\n",
       "      <td>239.00</td>\n",
       "      <td>20.00</td>\n",
       "      <td>1991-12-20</td>\n",
       "      <td>DM</td>\n",
       "      <td>30.0</td>\n",
       "      <td>17</td>\n",
       "      <td>320</td>\n",
       "      <td>0</td>\n",
       "      <td>1</td>\n",
       "    </tr>\n",
       "    <tr>\n",
       "      <th>6</th>\n",
       "      <td>1007116</td>\n",
       "      <td>Fay Clayton</td>\n",
       "      <td>Fay</td>\n",
       "      <td>Clayton</td>\n",
       "      <td>71.0</td>\n",
       "      <td>216520.00</td>\n",
       "      <td>120.00</td>\n",
       "      <td>1991-12-31</td>\n",
       "      <td>DM</td>\n",
       "      <td>7.0</td>\n",
       "      <td>35</td>\n",
       "      <td>320</td>\n",
       "      <td>0</td>\n",
       "      <td>1</td>\n",
       "    </tr>\n",
       "    <tr>\n",
       "      <th>7</th>\n",
       "      <td>1007154</td>\n",
       "      <td>Cheryl Greenberg</td>\n",
       "      <td>Cheryl</td>\n",
       "      <td>Greenberg</td>\n",
       "      <td>60.0</td>\n",
       "      <td>1415.00</td>\n",
       "      <td>20.00</td>\n",
       "      <td>1991-12-31</td>\n",
       "      <td>DM</td>\n",
       "      <td>13.0</td>\n",
       "      <td>44</td>\n",
       "      <td>320</td>\n",
       "      <td>0</td>\n",
       "      <td>1</td>\n",
       "    </tr>\n",
       "    <tr>\n",
       "      <th>8</th>\n",
       "      <td>1007226</td>\n",
       "      <td>Shoshana Rihn</td>\n",
       "      <td>Shoshana</td>\n",
       "      <td>Rihn</td>\n",
       "      <td>87.0</td>\n",
       "      <td>11800.00</td>\n",
       "      <td>20.00</td>\n",
       "      <td>1991-12-31</td>\n",
       "      <td>DM</td>\n",
       "      <td>19.0</td>\n",
       "      <td>8</td>\n",
       "      <td>320</td>\n",
       "      <td>1</td>\n",
       "      <td>1</td>\n",
       "    </tr>\n",
       "    <tr>\n",
       "      <th>9</th>\n",
       "      <td>1008401</td>\n",
       "      <td>Judith Wechsler</td>\n",
       "      <td>Judith</td>\n",
       "      <td>Wechsler</td>\n",
       "      <td>77.0</td>\n",
       "      <td>1375.00</td>\n",
       "      <td>20.00</td>\n",
       "      <td>1992-08-07</td>\n",
       "      <td>DM</td>\n",
       "      <td>9.0</td>\n",
       "      <td>19</td>\n",
       "      <td>312</td>\n",
       "      <td>0</td>\n",
       "      <td>1</td>\n",
       "    </tr>\n",
       "    <tr>\n",
       "      <th>11</th>\n",
       "      <td>1009475</td>\n",
       "      <td>Leonard Sussman</td>\n",
       "      <td>Leonard</td>\n",
       "      <td>Sussman</td>\n",
       "      <td>71.0</td>\n",
       "      <td>4145.00</td>\n",
       "      <td>120.00</td>\n",
       "      <td>1993-06-07</td>\n",
       "      <td>DM</td>\n",
       "      <td>20.0</td>\n",
       "      <td>33</td>\n",
       "      <td>302</td>\n",
       "      <td>0</td>\n",
       "      <td>1</td>\n",
       "    </tr>\n",
       "    <tr>\n",
       "      <th>13</th>\n",
       "      <td>1014195</td>\n",
       "      <td>Jane T. Olson</td>\n",
       "      <td>Jane</td>\n",
       "      <td>Olson</td>\n",
       "      <td>76.0</td>\n",
       "      <td>42756681.84</td>\n",
       "      <td>2433.87</td>\n",
       "      <td>1992-01-23</td>\n",
       "      <td>Unsolicited Donation</td>\n",
       "      <td>4.0</td>\n",
       "      <td>8</td>\n",
       "      <td>319</td>\n",
       "      <td>0</td>\n",
       "      <td>1</td>\n",
       "    </tr>\n",
       "    <tr>\n",
       "      <th>21</th>\n",
       "      <td>1024245</td>\n",
       "      <td>Iliani Matisse</td>\n",
       "      <td>Iliani</td>\n",
       "      <td>Matisse</td>\n",
       "      <td>68.0</td>\n",
       "      <td>585.00</td>\n",
       "      <td>100.00</td>\n",
       "      <td>1910-04-04</td>\n",
       "      <td>DM</td>\n",
       "      <td>136.0</td>\n",
       "      <td>68</td>\n",
       "      <td>1300</td>\n",
       "      <td>0</td>\n",
       "      <td>1</td>\n",
       "    </tr>\n",
       "    <tr>\n",
       "      <th>171</th>\n",
       "      <td>35956</td>\n",
       "      <td>Robert S. Gaines</td>\n",
       "      <td>Robert</td>\n",
       "      <td>Gaines</td>\n",
       "      <td>78.0</td>\n",
       "      <td>8580.00</td>\n",
       "      <td>50.00</td>\n",
       "      <td>1992-01-13</td>\n",
       "      <td>DM</td>\n",
       "      <td>14.0</td>\n",
       "      <td>18</td>\n",
       "      <td>319</td>\n",
       "      <td>0</td>\n",
       "      <td>1</td>\n",
       "    </tr>\n",
       "  </tbody>\n",
       "</table>\n",
       "</div>"
      ],
      "text/plain": [
       "     Constituent ID                 Name First Name  Last Name   Age  \\\n",
       "1           1002302  Michael A. Replogle    Michael   Replogle  64.0   \n",
       "2           1004065      Kathleen Hanold   Kathleen     Hanold  89.0   \n",
       "3           1004379     Maile N. Johnson      Maile    Johnson  68.0   \n",
       "4           1005044       Miriam Berkley     Miriam    Berkley  74.0   \n",
       "5           1006922       Edward Eitches     Edward    Eitches  69.0   \n",
       "6           1007116          Fay Clayton        Fay    Clayton  71.0   \n",
       "7           1007154     Cheryl Greenberg     Cheryl  Greenberg  60.0   \n",
       "8           1007226        Shoshana Rihn   Shoshana       Rihn  87.0   \n",
       "9           1008401      Judith Wechsler     Judith   Wechsler  77.0   \n",
       "11          1009475      Leonard Sussman    Leonard    Sussman  71.0   \n",
       "13          1014195        Jane T. Olson       Jane      Olson  76.0   \n",
       "21          1024245       Iliani Matisse     Iliani    Matisse  68.0   \n",
       "171           35956     Robert S. Gaines     Robert     Gaines  78.0   \n",
       "\n",
       "     Total Amount of Gifts  Gift Amount  Gift Date    Appeal Description  \\\n",
       "1                  1510.00        50.00 1988-02-12                    DM   \n",
       "2                   425.00        15.00 1989-01-13                    DM   \n",
       "3                   715.00        15.00 1990-07-18                    DM   \n",
       "4                   560.00        20.00 1990-12-12                    DM   \n",
       "5                   239.00        20.00 1991-12-20                    DM   \n",
       "6                216520.00       120.00 1991-12-31                    DM   \n",
       "7                  1415.00        20.00 1991-12-31                    DM   \n",
       "8                 11800.00        20.00 1991-12-31                    DM   \n",
       "9                  1375.00        20.00 1992-08-07                    DM   \n",
       "11                 4145.00       120.00 1993-06-07                    DM   \n",
       "13             42756681.84      2433.87 1992-01-23  Unsolicited Donation   \n",
       "21                  585.00       100.00 1910-04-04                    DM   \n",
       "171                8580.00        50.00 1992-01-13                    DM   \n",
       "\n",
       "     avg giving circle month  lapsed time  length  PG donor  Convert  \n",
       "1                       14.0           59     366         0        1  \n",
       "2                       36.0           64     355         0        1  \n",
       "3                       14.0           56     337         0        1  \n",
       "4                       22.0           14     332         0        1  \n",
       "5                       30.0           17     320         0        1  \n",
       "6                        7.0           35     320         0        1  \n",
       "7                       13.0           44     320         0        1  \n",
       "8                       19.0            8     320         1        1  \n",
       "9                        9.0           19     312         0        1  \n",
       "11                      20.0           33     302         0        1  \n",
       "13                       4.0            8     319         0        1  \n",
       "21                     136.0           68    1300         0        1  \n",
       "171                     14.0           18     319         0        1  "
      ]
     },
     "execution_count": 16,
     "metadata": {},
     "output_type": "execute_result"
    }
   ],
   "source": [
    "#Display the records with file length greater than 300"
   ]
  },
  {
   "cell_type": "code",
   "execution_count": 17,
   "metadata": {},
   "outputs": [],
   "source": [
    "#remove the records with length =1300 donor"
   ]
  },
  {
   "cell_type": "code",
   "execution_count": 18,
   "metadata": {},
   "outputs": [
    {
     "data": {
      "text/html": [
       "<div>\n",
       "<style scoped>\n",
       "    .dataframe tbody tr th:only-of-type {\n",
       "        vertical-align: middle;\n",
       "    }\n",
       "\n",
       "    .dataframe tbody tr th {\n",
       "        vertical-align: top;\n",
       "    }\n",
       "\n",
       "    .dataframe thead th {\n",
       "        text-align: right;\n",
       "    }\n",
       "</style>\n",
       "<table border=\"1\" class=\"dataframe\">\n",
       "  <thead>\n",
       "    <tr style=\"text-align: right;\">\n",
       "      <th></th>\n",
       "      <th>Constituent ID</th>\n",
       "      <th>Age</th>\n",
       "      <th>Total Amount of Gifts</th>\n",
       "      <th>Gift Amount</th>\n",
       "      <th>avg giving circle month</th>\n",
       "      <th>lapsed time</th>\n",
       "      <th>length</th>\n",
       "      <th>PG donor</th>\n",
       "      <th>Convert</th>\n",
       "    </tr>\n",
       "  </thead>\n",
       "  <tbody>\n",
       "    <tr>\n",
       "      <th>count</th>\n",
       "      <td>2.530000e+02</td>\n",
       "      <td>245.000000</td>\n",
       "      <td>2.530000e+02</td>\n",
       "      <td>253.000000</td>\n",
       "      <td>239.000000</td>\n",
       "      <td>253.000000</td>\n",
       "      <td>253.000000</td>\n",
       "      <td>253.000000</td>\n",
       "      <td>253.0</td>\n",
       "    </tr>\n",
       "    <tr>\n",
       "      <th>mean</th>\n",
       "      <td>3.301465e+05</td>\n",
       "      <td>72.644898</td>\n",
       "      <td>7.213200e+06</td>\n",
       "      <td>3297.303241</td>\n",
       "      <td>10.359833</td>\n",
       "      <td>35.581028</td>\n",
       "      <td>137.569170</td>\n",
       "      <td>0.079051</td>\n",
       "      <td>1.0</td>\n",
       "    </tr>\n",
       "    <tr>\n",
       "      <th>std</th>\n",
       "      <td>4.384333e+05</td>\n",
       "      <td>12.446954</td>\n",
       "      <td>8.784037e+07</td>\n",
       "      <td>24557.003309</td>\n",
       "      <td>9.374795</td>\n",
       "      <td>23.614764</td>\n",
       "      <td>75.895972</td>\n",
       "      <td>0.270354</td>\n",
       "      <td>0.0</td>\n",
       "    </tr>\n",
       "    <tr>\n",
       "      <th>min</th>\n",
       "      <td>1.540000e+03</td>\n",
       "      <td>25.000000</td>\n",
       "      <td>0.000000e+00</td>\n",
       "      <td>0.000000</td>\n",
       "      <td>1.000000</td>\n",
       "      <td>1.000000</td>\n",
       "      <td>5.000000</td>\n",
       "      <td>0.000000</td>\n",
       "      <td>1.0</td>\n",
       "    </tr>\n",
       "    <tr>\n",
       "      <th>25%</th>\n",
       "      <td>5.806400e+04</td>\n",
       "      <td>67.000000</td>\n",
       "      <td>3.000000e+02</td>\n",
       "      <td>30.000000</td>\n",
       "      <td>4.000000</td>\n",
       "      <td>18.000000</td>\n",
       "      <td>82.000000</td>\n",
       "      <td>0.000000</td>\n",
       "      <td>1.0</td>\n",
       "    </tr>\n",
       "    <tr>\n",
       "      <th>50%</th>\n",
       "      <td>1.174040e+05</td>\n",
       "      <td>73.000000</td>\n",
       "      <td>8.900000e+02</td>\n",
       "      <td>50.000000</td>\n",
       "      <td>8.000000</td>\n",
       "      <td>32.000000</td>\n",
       "      <td>135.000000</td>\n",
       "      <td>0.000000</td>\n",
       "      <td>1.0</td>\n",
       "    </tr>\n",
       "    <tr>\n",
       "      <th>75%</th>\n",
       "      <td>1.971990e+05</td>\n",
       "      <td>81.000000</td>\n",
       "      <td>4.500000e+03</td>\n",
       "      <td>100.000000</td>\n",
       "      <td>13.000000</td>\n",
       "      <td>50.000000</td>\n",
       "      <td>183.000000</td>\n",
       "      <td>0.000000</td>\n",
       "      <td>1.0</td>\n",
       "    </tr>\n",
       "    <tr>\n",
       "      <th>max</th>\n",
       "      <td>1.349416e+06</td>\n",
       "      <td>98.000000</td>\n",
       "      <td>1.385764e+09</td>\n",
       "      <td>300000.000000</td>\n",
       "      <td>81.000000</td>\n",
       "      <td>133.000000</td>\n",
       "      <td>366.000000</td>\n",
       "      <td>1.000000</td>\n",
       "      <td>1.0</td>\n",
       "    </tr>\n",
       "  </tbody>\n",
       "</table>\n",
       "</div>"
      ],
      "text/plain": [
       "       Constituent ID         Age  Total Amount of Gifts    Gift Amount  \\\n",
       "count    2.530000e+02  245.000000           2.530000e+02     253.000000   \n",
       "mean     3.301465e+05   72.644898           7.213200e+06    3297.303241   \n",
       "std      4.384333e+05   12.446954           8.784037e+07   24557.003309   \n",
       "min      1.540000e+03   25.000000           0.000000e+00       0.000000   \n",
       "25%      5.806400e+04   67.000000           3.000000e+02      30.000000   \n",
       "50%      1.174040e+05   73.000000           8.900000e+02      50.000000   \n",
       "75%      1.971990e+05   81.000000           4.500000e+03     100.000000   \n",
       "max      1.349416e+06   98.000000           1.385764e+09  300000.000000   \n",
       "\n",
       "       avg giving circle month  lapsed time      length    PG donor  Convert  \n",
       "count               239.000000   253.000000  253.000000  253.000000    253.0  \n",
       "mean                 10.359833    35.581028  137.569170    0.079051      1.0  \n",
       "std                   9.374795    23.614764   75.895972    0.270354      0.0  \n",
       "min                   1.000000     1.000000    5.000000    0.000000      1.0  \n",
       "25%                   4.000000    18.000000   82.000000    0.000000      1.0  \n",
       "50%                   8.000000    32.000000  135.000000    0.000000      1.0  \n",
       "75%                  13.000000    50.000000  183.000000    0.000000      1.0  \n",
       "max                  81.000000   133.000000  366.000000    1.000000      1.0  "
      ]
     },
     "execution_count": 18,
     "metadata": {},
     "output_type": "execute_result"
    }
   ],
   "source": [
    "#Display the statistical overview of living bequest donors Again"
   ]
  },
  {
   "cell_type": "markdown",
   "metadata": {},
   "source": [
    "## Check Missing Values"
   ]
  },
  {
   "cell_type": "code",
   "execution_count": 19,
   "metadata": {
    "scrolled": true
   },
   "outputs": [
    {
     "data": {
      "text/plain": [
       "Constituent ID             False\n",
       "Name                       False\n",
       "First Name                 False\n",
       "Last Name                  False\n",
       "Age                         True\n",
       "Total Amount of Gifts      False\n",
       "Gift Amount                False\n",
       "Gift Date                  False\n",
       "Appeal Description         False\n",
       "Deceased Date               True\n",
       "avg giving circle month     True\n",
       "length                      True\n",
       "lapsed time                 True\n",
       "PG donor                   False\n",
       "Convert                    False\n",
       "dtype: bool"
      ]
     },
     "execution_count": 19,
     "metadata": {},
     "output_type": "execute_result"
    }
   ],
   "source": [
    "#\"True\" means that the variable includes missing values\n",
    "#\"False\" means that the variable doesn't include any missing values"
   ]
  },
  {
   "cell_type": "code",
   "execution_count": 20,
   "metadata": {},
   "outputs": [
    {
     "data": {
      "text/plain": [
       "Constituent ID             False\n",
       "Name                       False\n",
       "First Name                 False\n",
       "Last Name                  False\n",
       "Age                         True\n",
       "Total Amount of Gifts      False\n",
       "Gift Amount                False\n",
       "Gift Date                  False\n",
       "Appeal Description         False\n",
       "avg giving circle month     True\n",
       "lapsed time                False\n",
       "length                     False\n",
       "PG donor                   False\n",
       "Convert                    False\n",
       "dtype: bool"
      ]
     },
     "execution_count": 20,
     "metadata": {},
     "output_type": "execute_result"
    }
   ],
   "source": [
    "#\"True\" means that the variable includes missing values\n",
    "#\"False\" means that the variable doesn't include any missing values"
   ]
  },
  {
   "cell_type": "markdown",
   "metadata": {},
   "source": [
    "## Inputing missing values"
   ]
  },
  {
   "cell_type": "markdown",
   "metadata": {},
   "source": [
    "There are many appoaches to handle missing values: \n",
    "* Simply remove missing values. \n",
    "* Replace with group means.\n",
    "* Build machine learning models to predict missing values. \n",
    "* Apply algorithems that rebust to outliers and missing values such as Random Forest and Logistic Regression.\n",
    "\n",
    "We use group means to replace the missing value here. "
   ]
  },
  {
   "cell_type": "code",
   "execution_count": 24,
   "metadata": {},
   "outputs": [],
   "source": [
    "###Remove records from Age less than 10\n"
   ]
  },
  {
   "cell_type": "markdown",
   "metadata": {},
   "source": [
    "## Combine Three Datasets"
   ]
  },
  {
   "cell_type": "markdown",
   "metadata": {},
   "source": [
    "* Deceased bequest donors\n",
    "* Living bequest donors\n",
    "* Regular DM donors"
   ]
  },
  {
   "cell_type": "markdown",
   "metadata": {},
   "source": [
    "## Exploratory Data Analysis"
   ]
  },
  {
   "cell_type": "code",
   "execution_count": 28,
   "metadata": {
    "scrolled": false
   },
   "outputs": [
    {
     "data": {
      "text/plain": [
       "(60189, 9)"
      ]
     },
     "execution_count": 28,
     "metadata": {},
     "output_type": "execute_result"
    }
   ],
   "source": [
    "# How many donors are in the dataset? "
   ]
  },
  {
   "cell_type": "code",
   "execution_count": 29,
   "metadata": {
    "scrolled": true
   },
   "outputs": [
    {
     "data": {
      "text/plain": [
       "0    0.993819\n",
       "1    0.006181\n",
       "Name: Convert, dtype: float64"
      ]
     },
     "execution_count": 29,
     "metadata": {},
     "output_type": "execute_result"
    }
   ],
   "source": [
    "# Calculate the convert rate of HRW's dataset. What is the rate of convertion?"
   ]
  },
  {
   "cell_type": "code",
   "execution_count": 30,
   "metadata": {
    "scrolled": false
   },
   "outputs": [
    {
     "data": {
      "text/html": [
       "<div>\n",
       "<style scoped>\n",
       "    .dataframe tbody tr th:only-of-type {\n",
       "        vertical-align: middle;\n",
       "    }\n",
       "\n",
       "    .dataframe tbody tr th {\n",
       "        vertical-align: top;\n",
       "    }\n",
       "\n",
       "    .dataframe thead th {\n",
       "        text-align: right;\n",
       "    }\n",
       "</style>\n",
       "<table border=\"1\" class=\"dataframe\">\n",
       "  <thead>\n",
       "    <tr style=\"text-align: right;\">\n",
       "      <th></th>\n",
       "      <th>Constituent ID</th>\n",
       "      <th>Imr_Age</th>\n",
       "      <th>Total Amount of Gifts</th>\n",
       "      <th>avg giving circle month</th>\n",
       "      <th>lapsed time</th>\n",
       "      <th>length</th>\n",
       "      <th>PG donor</th>\n",
       "      <th>Convert</th>\n",
       "    </tr>\n",
       "  </thead>\n",
       "  <tbody>\n",
       "    <tr>\n",
       "      <th>count</th>\n",
       "      <td>6.018900e+04</td>\n",
       "      <td>60189.000000</td>\n",
       "      <td>6.018900e+04</td>\n",
       "      <td>60189.000000</td>\n",
       "      <td>60189.000000</td>\n",
       "      <td>60189.000000</td>\n",
       "      <td>60189.000000</td>\n",
       "      <td>60189.000000</td>\n",
       "    </tr>\n",
       "    <tr>\n",
       "      <th>mean</th>\n",
       "      <td>2.514129e+05</td>\n",
       "      <td>71.943804</td>\n",
       "      <td>1.274008e+05</td>\n",
       "      <td>15.169968</td>\n",
       "      <td>32.500709</td>\n",
       "      <td>87.937732</td>\n",
       "      <td>0.028909</td>\n",
       "      <td>0.006181</td>\n",
       "    </tr>\n",
       "    <tr>\n",
       "      <th>std</th>\n",
       "      <td>1.042820e+06</td>\n",
       "      <td>14.642470</td>\n",
       "      <td>1.213661e+07</td>\n",
       "      <td>14.187141</td>\n",
       "      <td>32.535095</td>\n",
       "      <td>36.672219</td>\n",
       "      <td>0.167552</td>\n",
       "      <td>0.078374</td>\n",
       "    </tr>\n",
       "    <tr>\n",
       "      <th>min</th>\n",
       "      <td>1.700000e+01</td>\n",
       "      <td>20.000000</td>\n",
       "      <td>0.000000e+00</td>\n",
       "      <td>1.000000</td>\n",
       "      <td>0.000000</td>\n",
       "      <td>3.000000</td>\n",
       "      <td>0.000000</td>\n",
       "      <td>0.000000</td>\n",
       "    </tr>\n",
       "    <tr>\n",
       "      <th>25%</th>\n",
       "      <td>6.002700e+04</td>\n",
       "      <td>64.000000</td>\n",
       "      <td>9.500000e+01</td>\n",
       "      <td>8.000000</td>\n",
       "      <td>8.000000</td>\n",
       "      <td>56.000000</td>\n",
       "      <td>0.000000</td>\n",
       "      <td>0.000000</td>\n",
       "    </tr>\n",
       "    <tr>\n",
       "      <th>50%</th>\n",
       "      <td>1.102140e+05</td>\n",
       "      <td>73.000000</td>\n",
       "      <td>2.100000e+02</td>\n",
       "      <td>12.000000</td>\n",
       "      <td>20.000000</td>\n",
       "      <td>101.000000</td>\n",
       "      <td>0.000000</td>\n",
       "      <td>0.000000</td>\n",
       "    </tr>\n",
       "    <tr>\n",
       "      <th>75%</th>\n",
       "      <td>1.736460e+05</td>\n",
       "      <td>82.000000</td>\n",
       "      <td>5.500000e+02</td>\n",
       "      <td>17.000000</td>\n",
       "      <td>53.000000</td>\n",
       "      <td>119.000000</td>\n",
       "      <td>0.000000</td>\n",
       "      <td>0.000000</td>\n",
       "    </tr>\n",
       "    <tr>\n",
       "      <th>max</th>\n",
       "      <td>2.393136e+08</td>\n",
       "      <td>116.000000</td>\n",
       "      <td>2.371200e+09</td>\n",
       "      <td>126.000000</td>\n",
       "      <td>257.000000</td>\n",
       "      <td>366.000000</td>\n",
       "      <td>1.000000</td>\n",
       "      <td>1.000000</td>\n",
       "    </tr>\n",
       "  </tbody>\n",
       "</table>\n",
       "</div>"
      ],
      "text/plain": [
       "       Constituent ID       Imr_Age  Total Amount of Gifts  \\\n",
       "count    6.018900e+04  60189.000000           6.018900e+04   \n",
       "mean     2.514129e+05     71.943804           1.274008e+05   \n",
       "std      1.042820e+06     14.642470           1.213661e+07   \n",
       "min      1.700000e+01     20.000000           0.000000e+00   \n",
       "25%      6.002700e+04     64.000000           9.500000e+01   \n",
       "50%      1.102140e+05     73.000000           2.100000e+02   \n",
       "75%      1.736460e+05     82.000000           5.500000e+02   \n",
       "max      2.393136e+08    116.000000           2.371200e+09   \n",
       "\n",
       "       avg giving circle month   lapsed time        length      PG donor  \\\n",
       "count             60189.000000  60189.000000  60189.000000  60189.000000   \n",
       "mean                 15.169968     32.500709     87.937732      0.028909   \n",
       "std                  14.187141     32.535095     36.672219      0.167552   \n",
       "min                   1.000000      0.000000      3.000000      0.000000   \n",
       "25%                   8.000000      8.000000     56.000000      0.000000   \n",
       "50%                  12.000000     20.000000    101.000000      0.000000   \n",
       "75%                  17.000000     53.000000    119.000000      0.000000   \n",
       "max                 126.000000    257.000000    366.000000      1.000000   \n",
       "\n",
       "            Convert  \n",
       "count  60189.000000  \n",
       "mean       0.006181  \n",
       "std        0.078374  \n",
       "min        0.000000  \n",
       "25%        0.000000  \n",
       "50%        0.000000  \n",
       "75%        0.000000  \n",
       "max        1.000000  "
      ]
     },
     "execution_count": 30,
     "metadata": {},
     "output_type": "execute_result"
    }
   ],
   "source": [
    "# Display the statistical overview of the donors"
   ]
  },
  {
   "cell_type": "code",
   "execution_count": 31,
   "metadata": {},
   "outputs": [
    {
     "data": {
      "text/html": [
       "<div>\n",
       "<style scoped>\n",
       "    .dataframe tbody tr th:only-of-type {\n",
       "        vertical-align: middle;\n",
       "    }\n",
       "\n",
       "    .dataframe tbody tr th {\n",
       "        vertical-align: top;\n",
       "    }\n",
       "\n",
       "    .dataframe thead th {\n",
       "        text-align: right;\n",
       "    }\n",
       "</style>\n",
       "<table border=\"1\" class=\"dataframe\">\n",
       "  <thead>\n",
       "    <tr style=\"text-align: right;\">\n",
       "      <th></th>\n",
       "      <th>Constituent ID</th>\n",
       "      <th>Imr_Age</th>\n",
       "      <th>Total Amount of Gifts</th>\n",
       "      <th>avg giving circle month</th>\n",
       "      <th>lapsed time</th>\n",
       "      <th>length</th>\n",
       "      <th>PG donor</th>\n",
       "    </tr>\n",
       "    <tr>\n",
       "      <th>Convert</th>\n",
       "      <th></th>\n",
       "      <th></th>\n",
       "      <th></th>\n",
       "      <th></th>\n",
       "      <th></th>\n",
       "      <th></th>\n",
       "      <th></th>\n",
       "    </tr>\n",
       "  </thead>\n",
       "  <tbody>\n",
       "    <tr>\n",
       "      <th>0</th>\n",
       "      <td>250296.073156</td>\n",
       "      <td>71.921561</td>\n",
       "      <td>9.728274e+04</td>\n",
       "      <td>15.191935</td>\n",
       "      <td>32.467509</td>\n",
       "      <td>87.604861</td>\n",
       "      <td>0.028721</td>\n",
       "    </tr>\n",
       "    <tr>\n",
       "      <th>1</th>\n",
       "      <td>431004.537634</td>\n",
       "      <td>75.520491</td>\n",
       "      <td>4.970341e+06</td>\n",
       "      <td>11.637711</td>\n",
       "      <td>37.839140</td>\n",
       "      <td>141.462764</td>\n",
       "      <td>0.059140</td>\n",
       "    </tr>\n",
       "  </tbody>\n",
       "</table>\n",
       "</div>"
      ],
      "text/plain": [
       "         Constituent ID    Imr_Age  Total Amount of Gifts  \\\n",
       "Convert                                                     \n",
       "0         250296.073156  71.921561           9.728274e+04   \n",
       "1         431004.537634  75.520491           4.970341e+06   \n",
       "\n",
       "         avg giving circle month  lapsed time      length  PG donor  \n",
       "Convert                                                              \n",
       "0                      15.191935    32.467509   87.604861  0.028721  \n",
       "1                      11.637711    37.839140  141.462764  0.059140  "
      ]
     },
     "execution_count": 31,
     "metadata": {},
     "output_type": "execute_result"
    }
   ],
   "source": [
    "###Display the mean summary of Donors (Converted vs Non-Converted)"
   ]
  },
  {
   "cell_type": "markdown",
   "metadata": {},
   "source": [
    "Comparing with regular donor group, bequest group donors have higher lapsed time and Age, total gift amount, donor time on file and lapsed time. Also, the bequest group donors have less average giving cycle which means bequest donors donated more frequently than regular donors. \n",
    "\n",
    "\n"
   ]
  },
  {
   "cell_type": "markdown",
   "metadata": {},
   "source": [
    "## Correlation Matrix"
   ]
  },
  {
   "cell_type": "code",
   "execution_count": 32,
   "metadata": {},
   "outputs": [
    {
     "data": {
      "text/html": [
       "<div>\n",
       "<style scoped>\n",
       "    .dataframe tbody tr th:only-of-type {\n",
       "        vertical-align: middle;\n",
       "    }\n",
       "\n",
       "    .dataframe tbody tr th {\n",
       "        vertical-align: top;\n",
       "    }\n",
       "\n",
       "    .dataframe thead th {\n",
       "        text-align: right;\n",
       "    }\n",
       "</style>\n",
       "<table border=\"1\" class=\"dataframe\">\n",
       "  <thead>\n",
       "    <tr style=\"text-align: right;\">\n",
       "      <th></th>\n",
       "      <th>Constituent ID</th>\n",
       "      <th>Imr_Age</th>\n",
       "      <th>Total Amount of Gifts</th>\n",
       "      <th>avg giving circle month</th>\n",
       "      <th>lapsed time</th>\n",
       "      <th>length</th>\n",
       "      <th>PG donor</th>\n",
       "      <th>Convert</th>\n",
       "    </tr>\n",
       "  </thead>\n",
       "  <tbody>\n",
       "    <tr>\n",
       "      <th>Constituent ID</th>\n",
       "      <td>1.000000</td>\n",
       "      <td>0.021894</td>\n",
       "      <td>0.003481</td>\n",
       "      <td>-0.004206</td>\n",
       "      <td>-0.005833</td>\n",
       "      <td>0.051987</td>\n",
       "      <td>0.016724</td>\n",
       "      <td>0.013581</td>\n",
       "    </tr>\n",
       "    <tr>\n",
       "      <th>Imr_Age</th>\n",
       "      <td>0.021894</td>\n",
       "      <td>1.000000</td>\n",
       "      <td>-0.003024</td>\n",
       "      <td>-0.000309</td>\n",
       "      <td>0.098975</td>\n",
       "      <td>0.171177</td>\n",
       "      <td>0.070654</td>\n",
       "      <td>0.019263</td>\n",
       "    </tr>\n",
       "    <tr>\n",
       "      <th>Total Amount of Gifts</th>\n",
       "      <td>0.003481</td>\n",
       "      <td>-0.003024</td>\n",
       "      <td>1.000000</td>\n",
       "      <td>-0.006062</td>\n",
       "      <td>-0.006500</td>\n",
       "      <td>0.012071</td>\n",
       "      <td>-0.001795</td>\n",
       "      <td>0.031468</td>\n",
       "    </tr>\n",
       "    <tr>\n",
       "      <th>avg giving circle month</th>\n",
       "      <td>-0.004206</td>\n",
       "      <td>-0.000309</td>\n",
       "      <td>-0.006062</td>\n",
       "      <td>1.000000</td>\n",
       "      <td>-0.029268</td>\n",
       "      <td>0.201073</td>\n",
       "      <td>-0.041586</td>\n",
       "      <td>-0.019635</td>\n",
       "    </tr>\n",
       "    <tr>\n",
       "      <th>lapsed time</th>\n",
       "      <td>-0.005833</td>\n",
       "      <td>0.098975</td>\n",
       "      <td>-0.006500</td>\n",
       "      <td>-0.029268</td>\n",
       "      <td>1.000000</td>\n",
       "      <td>0.398177</td>\n",
       "      <td>-0.041972</td>\n",
       "      <td>0.012940</td>\n",
       "    </tr>\n",
       "    <tr>\n",
       "      <th>length</th>\n",
       "      <td>0.051987</td>\n",
       "      <td>0.171177</td>\n",
       "      <td>0.012071</td>\n",
       "      <td>0.201073</td>\n",
       "      <td>0.398177</td>\n",
       "      <td>1.000000</td>\n",
       "      <td>0.109816</td>\n",
       "      <td>0.115102</td>\n",
       "    </tr>\n",
       "    <tr>\n",
       "      <th>PG donor</th>\n",
       "      <td>0.016724</td>\n",
       "      <td>0.070654</td>\n",
       "      <td>-0.001795</td>\n",
       "      <td>-0.041586</td>\n",
       "      <td>-0.041972</td>\n",
       "      <td>0.109816</td>\n",
       "      <td>1.000000</td>\n",
       "      <td>0.014229</td>\n",
       "    </tr>\n",
       "    <tr>\n",
       "      <th>Convert</th>\n",
       "      <td>0.013581</td>\n",
       "      <td>0.019263</td>\n",
       "      <td>0.031468</td>\n",
       "      <td>-0.019635</td>\n",
       "      <td>0.012940</td>\n",
       "      <td>0.115102</td>\n",
       "      <td>0.014229</td>\n",
       "      <td>1.000000</td>\n",
       "    </tr>\n",
       "  </tbody>\n",
       "</table>\n",
       "</div>"
      ],
      "text/plain": [
       "                         Constituent ID   Imr_Age  Total Amount of Gifts  \\\n",
       "Constituent ID                 1.000000  0.021894               0.003481   \n",
       "Imr_Age                        0.021894  1.000000              -0.003024   \n",
       "Total Amount of Gifts          0.003481 -0.003024               1.000000   \n",
       "avg giving circle month       -0.004206 -0.000309              -0.006062   \n",
       "lapsed time                   -0.005833  0.098975              -0.006500   \n",
       "length                         0.051987  0.171177               0.012071   \n",
       "PG donor                       0.016724  0.070654              -0.001795   \n",
       "Convert                        0.013581  0.019263               0.031468   \n",
       "\n",
       "                         avg giving circle month  lapsed time    length  \\\n",
       "Constituent ID                         -0.004206    -0.005833  0.051987   \n",
       "Imr_Age                                -0.000309     0.098975  0.171177   \n",
       "Total Amount of Gifts                  -0.006062    -0.006500  0.012071   \n",
       "avg giving circle month                 1.000000    -0.029268  0.201073   \n",
       "lapsed time                            -0.029268     1.000000  0.398177   \n",
       "length                                  0.201073     0.398177  1.000000   \n",
       "PG donor                               -0.041586    -0.041972  0.109816   \n",
       "Convert                                -0.019635     0.012940  0.115102   \n",
       "\n",
       "                         PG donor   Convert  \n",
       "Constituent ID           0.016724  0.013581  \n",
       "Imr_Age                  0.070654  0.019263  \n",
       "Total Amount of Gifts   -0.001795  0.031468  \n",
       "avg giving circle month -0.041586 -0.019635  \n",
       "lapsed time             -0.041972  0.012940  \n",
       "length                   0.109816  0.115102  \n",
       "PG donor                 1.000000  0.014229  \n",
       "Convert                  0.014229  1.000000  "
      ]
     },
     "execution_count": 32,
     "metadata": {},
     "output_type": "execute_result"
    },
    {
     "data": {
      "image/png": "[encoded data removed]",
      "text/plain": [
       "<Figure size 432x288 with 2 Axes>"
      ]
     },
     "metadata": {},
     "output_type": "display_data"
    }
   ],
   "source": []
  },
  {
   "cell_type": "markdown",
   "metadata": {},
   "source": [
    "There is no significant correlation amoung all the numerical variables. "
   ]
  },
  {
   "cell_type": "markdown",
   "metadata": {},
   "source": [
    "## Pre-Processing"
   ]
  },
  {
   "cell_type": "markdown",
   "metadata": {},
   "source": [
    "## EDA One --Exploratory Data Analysis for All Donors"
   ]
  },
  {
   "cell_type": "code",
   "execution_count": 36,
   "metadata": {
    "scrolled": true
   },
   "outputs": [
    {
     "data": {
      "text/plain": [
       "Text(0,0.5,'Donor count')"
      ]
     },
     "execution_count": 36,
     "metadata": {},
     "output_type": "execute_result"
    },
    {
     "data": {
      "image/png": "[encoded data removed]",
      "text/plain": [
       "<Figure size 1800x504 with 4 Axes>"
      ]
     },
     "metadata": {},
     "output_type": "display_data"
    }
   ],
   "source": [
    "# Plot the distribution of donor lifetime, Age, and avg giving circle. What story can we tell?\n"
   ]
  },
  {
   "cell_type": "markdown",
   "metadata": {},
   "source": [
    "* Donor Lifetime Distribution - Most of HRW donors fall into 110-140 month and a few donors donated more than 30 Yrs ago. \n",
    " \n",
    "* Donor Age Distribution - The majority of donors are older than 60 and most of them are within 60 - 80.\n",
    " \n",
    "* Donor Average Giving Cycle Distribution - About 6000 donors donated to HRW in every 2 months, and 4000 donors donated to HRW every 4 months. Most of donors donated to HRW in every 16 months. \n",
    " \n",
    "* Donor Lapsed time  - We can see some really lapsed donors in the file, but most of donors are active. \n"
   ]
  },
  {
   "cell_type": "markdown",
   "metadata": {},
   "source": [
    "## EDA 2  - Comparison between Converted and Non Converted Donors"
   ]
  },
  {
   "cell_type": "code",
   "execution_count": 39,
   "metadata": {},
   "outputs": [
    {
     "data": {
      "text/html": [
       "<div>\n",
       "<style scoped>\n",
       "    .dataframe tbody tr th:only-of-type {\n",
       "        vertical-align: middle;\n",
       "    }\n",
       "\n",
       "    .dataframe tbody tr th {\n",
       "        vertical-align: top;\n",
       "    }\n",
       "\n",
       "    .dataframe thead th {\n",
       "        text-align: right;\n",
       "    }\n",
       "</style>\n",
       "<table border=\"1\" class=\"dataframe\">\n",
       "  <thead>\n",
       "    <tr style=\"text-align: right;\">\n",
       "      <th></th>\n",
       "      <th>Appeal Description</th>\n",
       "      <th>Converted</th>\n",
       "      <th>Non_Converted</th>\n",
       "    </tr>\n",
       "  </thead>\n",
       "  <tbody>\n",
       "    <tr>\n",
       "      <th>0</th>\n",
       "      <td>DM</td>\n",
       "      <td>262</td>\n",
       "      <td>47556</td>\n",
       "    </tr>\n",
       "    <tr>\n",
       "      <th>1</th>\n",
       "      <td>event</td>\n",
       "      <td>40</td>\n",
       "      <td>2874</td>\n",
       "    </tr>\n",
       "    <tr>\n",
       "      <th>2</th>\n",
       "      <td>online</td>\n",
       "      <td>29</td>\n",
       "      <td>5351</td>\n",
       "    </tr>\n",
       "    <tr>\n",
       "      <th>3</th>\n",
       "      <td>Unsolicited Donation</td>\n",
       "      <td>26</td>\n",
       "      <td>3311</td>\n",
       "    </tr>\n",
       "    <tr>\n",
       "      <th>4</th>\n",
       "      <td>Staff Solicited</td>\n",
       "      <td>14</td>\n",
       "      <td>443</td>\n",
       "    </tr>\n",
       "    <tr>\n",
       "      <th>5</th>\n",
       "      <td>PG(Campaign)</td>\n",
       "      <td>1</td>\n",
       "      <td>269</td>\n",
       "    </tr>\n",
       "  </tbody>\n",
       "</table>\n",
       "</div>"
      ],
      "text/plain": [
       "     Appeal Description  Converted  Non_Converted\n",
       "0                    DM        262          47556\n",
       "1                 event         40           2874\n",
       "2                online         29           5351\n",
       "3  Unsolicited Donation         26           3311\n",
       "4       Staff Solicited         14            443\n",
       "5          PG(Campaign)          1            269"
      ]
     },
     "execution_count": 39,
     "metadata": {},
     "output_type": "execute_result"
    }
   ],
   "source": [
    "#what is the most effective way to acquire bequest donors?"
   ]
  },
  {
   "cell_type": "markdown",
   "metadata": {},
   "source": [
    "Most of bequest donors were acquired by DM"
   ]
  },
  {
   "cell_type": "markdown",
   "metadata": {},
   "source": [
    " "
   ]
  },
  {
   "cell_type": "code",
   "execution_count": 40,
   "metadata": {
    "scrolled": true
   },
   "outputs": [
    {
     "data": {
      "text/plain": [
       "Text(0.5,1,'Donor life time length Distribution - Converted V.S. Non Converted')"
      ]
     },
     "execution_count": 40,
     "metadata": {},
     "output_type": "execute_result"
    },
    {
     "data": {
      "image/png": "[encoded data removed]",
      "text/plain": [
       "<Figure size 1080x288 with 1 Axes>"
      ]
     },
     "metadata": {},
     "output_type": "display_data"
    }
   ],
   "source": [
    "#KDEPlot: Kernel Density Estimate Plot for donor life time length"
   ]
  },
  {
   "cell_type": "code",
   "execution_count": 37,
   "metadata": {},
   "outputs": [
    {
     "data": {
      "text/plain": [
       "Text(0.5,1,'Donor Avg Giving Cycle Month Distribution - Converted V.S. Non Converted')"
      ]
     },
     "execution_count": 37,
     "metadata": {},
     "output_type": "execute_result"
    },
    {
     "data": {
      "image/png": "[encoded data removed]",
      "text/plain": [
       "<Figure size 1080x288 with 1 Axes>"
      ]
     },
     "metadata": {},
     "output_type": "display_data"
    }
   ],
   "source": [
    "#KDEPlot: Kernel Density Estimate Plot for donor Avg Giving Cycle"
   ]
  },
  {
   "cell_type": "code",
   "execution_count": 42,
   "metadata": {},
   "outputs": [
    {
     "data": {
      "text/plain": [
       "Text(0.5,1,'Donor lapsed time Distribution - Converted V.S. Non Converted')"
      ]
     },
     "execution_count": 42,
     "metadata": {},
     "output_type": "execute_result"
    },
    {
     "data": {
      "image/png": "[encoded data removed]",
      "text/plain": [
       "<Figure size 1080x288 with 1 Axes>"
      ]
     },
     "metadata": {},
     "output_type": "display_data"
    }
   ],
   "source": [
    "#KDEPlot: Kernel Density Estimate Plot for donor lapsed time "
   ]
  },
  {
   "cell_type": "code",
   "execution_count": 43,
   "metadata": {
    "scrolled": true
   },
   "outputs": [
    {
     "data": {
      "text/plain": [
       "Text(0.5,1,'Donor Age Distribution - Converted V.S. Non Converted')"
      ]
     },
     "execution_count": 43,
     "metadata": {},
     "output_type": "execute_result"
    },
    {
     "data": {
      "image/png": "[encoded data removed]",
      "text/plain": [
       "<Figure size 1080x288 with 1 Axes>"
      ]
     },
     "metadata": {},
     "output_type": "display_data"
    }
   ],
   "source": [
    "#KDEPlot: Kernel Density Estimate Plot for Donors Age"
   ]
  },
  {
   "cell_type": "markdown",
   "metadata": {},
   "source": [
    "* Non converted donors remain active for less time than converted donors, but they give more frequently while active. \n",
    "* Converted donors are significantly older than non-converted donors."
   ]
  },
  {
   "cell_type": "markdown",
   "metadata": {},
   "source": [
    "## Class Imbalance"
   ]
  },
  {
   "cell_type": "code",
   "execution_count": 48,
   "metadata": {},
   "outputs": [
    {
     "data": {
      "text/plain": [
       "0    0.993819\n",
       "1    0.006181\n",
       "Name: Convert, dtype: float64"
      ]
     },
     "execution_count": 48,
     "metadata": {},
     "output_type": "execute_result"
    }
   ],
   "source": [
    "# Rate of convertion"
   ]
  },
  {
   "cell_type": "markdown",
   "metadata": {},
   "source": [
    "The converted group only contain 0.6% of donors. This dataset is super imbalanced. "
   ]
  },
  {
   "cell_type": "code",
   "execution_count": 49,
   "metadata": {},
   "outputs": [
    {
     "data": {
      "text/plain": [
       "Text(0,0.5,'Count')"
      ]
     },
     "execution_count": 49,
     "metadata": {},
     "output_type": "execute_result"
    },
    {
     "data": {
      "image/png": "[encoded data removed]",
      "text/plain": [
       "<Figure size 864x576 with 1 Axes>"
      ]
     },
     "metadata": {},
     "output_type": "display_data"
    }
   ],
   "source": []
  },
  {
   "cell_type": "markdown",
   "metadata": {},
   "source": [
    "  "
   ]
  },
  {
   "cell_type": "markdown",
   "metadata": {},
   "source": [
    "## How to Treat Imbalanced Datasets"
   ]
  },
  {
   "cell_type": "markdown",
   "metadata": {},
   "source": [
    "There are many ways of dealing with imblanced dataset. We applied the following resampling approaches: \n",
    "1. Oversampling -- SMOTE (Synthetic Minority Oversampling Technique)\n",
    "2. Upsampling -- RandomUnderSampler\n",
    "3. Downsampling"
   ]
  },
  {
   "cell_type": "markdown",
   "metadata": {},
   "source": [
    "## Split Train/Test Set"
   ]
  },
  {
   "cell_type": "markdown",
   "metadata": {},
   "source": [
    "Split data into a train and test set. We will fit our model with the train set and leave our test set for our last evaluation. "
   ]
  },
  {
   "cell_type": "markdown",
   "metadata": {},
   "source": [
    "## Resample Methods"
   ]
  },
  {
   "cell_type": "markdown",
   "metadata": {},
   "source": [
    "Train a base logistic regression model on the three types of samples to see which yields the best results:\n",
    "1. Orginal Sample \n",
    "2. Upsampling Data\n",
    "3. Downsampleing Data"
   ]
  },
  {
   "cell_type": "markdown",
   "metadata": {},
   "source": [
    "## Choose Which Sampling Technique to Use For Model"
   ]
  },
  {
   "cell_type": "markdown",
   "metadata": {},
   "source": [
    "Train on Original, Upsampled, SMOTE, and Downsampled Data\n",
    "\n",
    "Objective:Train our Logistic Regression Model to our original, upsampled, and downsampled data to see which performs best.\n",
    "\n",
    "Results: \n",
    "1. Oiginal Sample: F1 Score: 32.3%\n",
    "2. Upsample: F1 Score: 74.0%\n",
    "3. SMOTE: F1 Score: 75.0%\n",
    "4. Downsample: F1 Scores: 71.8% \n",
    "\n",
    "SMOTE gives us the best performance"
   ]
  },
  {
   "cell_type": "markdown",
   "metadata": {},
   "source": [
    "![Image of Resampling](https://api.ning.com/files/vvHEZw33BGqEUW8aBYm4epYJWOfSeUBPVQAsgz7aWaNe0pmDBsjgggBxsyq*8VU1FdBshuTDdL2-bp2ALs0E-0kpCV5kVdwu/imbdata.png)"
   ]
  },
  {
   "cell_type": "markdown",
   "metadata": {},
   "source": [
    "## Upsample"
   ]
  },
  {
   "cell_type": "markdown",
   "metadata": {},
   "source": [
    "Randomly resmple the minority class to create new data"
   ]
  },
  {
   "cell_type": "markdown",
   "metadata": {},
   "source": [
    "## SMOTE"
   ]
  },
  {
   "cell_type": "markdown",
   "metadata": {},
   "source": [
    "Use the nearest neighbors of the minority observations to create new synthetic data"
   ]
  },
  {
   "cell_type": "markdown",
   "metadata": {},
   "source": [
    "## Downgrade"
   ]
  },
  {
   "cell_type": "markdown",
   "metadata": {},
   "source": [
    "Remove some samples of the majority class"
   ]
  },
  {
   "cell_type": "markdown",
   "metadata": {},
   "source": [
    " "
   ]
  },
  {
   "cell_type": "markdown",
   "metadata": {},
   "source": [
    "## Test Logistic Regression Performace"
   ]
  },
  {
   "cell_type": "markdown",
   "metadata": {},
   "source": [
    "## Machine Learning Model"
   ]
  },
  {
   "cell_type": "code",
   "execution_count": 57,
   "metadata": {},
   "outputs": [],
   "source": [
    "# Split into 75% training and 25% test dataset# Split  "
   ]
  },
  {
   "cell_type": "code",
   "execution_count": 58,
   "metadata": {},
   "outputs": [
    {
     "name": "stdout",
     "output_type": "stream",
     "text": [
      "drf Model Build progress: |███████████████████████████████████████████████| 100%\n"
     ]
    }
   ],
   "source": [
    "# Build random forest model"
   ]
  },
  {
   "cell_type": "code",
   "execution_count": 59,
   "metadata": {},
   "outputs": [
    {
     "data": {
      "image/png": "[encoded data removed]",
      "text/plain": [
       "<Figure size 576x360 with 1 Axes>"
      ]
     },
     "metadata": {},
     "output_type": "display_data"
    }
   ],
   "source": [
    "# Feature importance"
   ]
  },
  {
   "cell_type": "code",
   "execution_count": 64,
   "metadata": {
    "scrolled": true
   },
   "outputs": [
    {
     "name": "stdout",
     "output_type": "stream",
     "text": [
      "PartialDependencePlot progress: |█████████████████████████████████████████| 100%\n"
     ]
    },
    {
     "data": {
      "image/png": "[encoded data removed]",
      "text/plain": [
       "<Figure size 1080x720 with 7 Axes>"
      ]
     },
     "metadata": {},
     "output_type": "display_data"
    }
   ],
   "source": [
    "# Partial dependence plot"
   ]
  },
  {
   "cell_type": "markdown",
   "metadata": {},
   "source": [
    "## What to Optimize\n",
    "We want our mailing learn model to capture as much of the minority class as possible (converted group). Our objective is to catch all of the highly probable converted donors. "
   ]
  },
  {
   "cell_type": "markdown",
   "metadata": {},
   "source": [
    "## Conclusion\n",
    "\n",
    "\n",
    "\n",
    "\n",
    "\n",
    "\n",
    "\n",
    "\n"
   ]
  },
  {
   "cell_type": "markdown",
   "metadata": {},
   "source": [
    "#### Binary Classification: converted vs non converted"
   ]
  },
  {
   "cell_type": "markdown",
   "metadata": {},
   "source": [
    "#### Need for Application: \n",
    "In converted vs non converted project, rather than simply predicting whether an donor will leave a bequest within a certain time frame, we would much rather have an estimate of the probability that he/she will leave a bequest. We would rank donors by their probability of convert, then allocate resource/budget to the highest probability donors.\n",
    "\n",
    "Consider a donor is given a PG package because HRW think the donor will leave a bequest in the future, but the donor actually will not. This is a false posive error. This mistake could be expensive, but is a good investment for relational growth. \n",
    "\n",
    "Compare this with the oppsite error, where HRW doesn't send the donor PG package and they do want to leave a bequest to non-profit organization. This is a False negative. This type of error is more detrimental because HWR may lose a huge amount of donation. \n",
    "\n",
    "Solution 1: \n",
    "* We can rank donors by their probability of convert, then allocate a limited budget to those highest probability donors. \n",
    "\n",
    "Solution 2: \n",
    "* Based on the modeling results, the most important features are length (donor lifetime) and lapsed time. We should use the following critera to select donors. \n",
    "\n",
    "Top tier - select top tier donors based on following rules:\n",
    "* donors with first gift date before 2008. \n",
    "* donors with lapsed time less than 50 OR donors with lapsed time greater than 130.\n",
    "* donors with average giving cycle less than 20 month. \n",
    "* donors with age greater than 70.\n",
    "* donors came from DM. \n",
    "\n",
    "\n",
    "\n",
    "\n",
    "\n",
    "\n",
    "\n"
   ]
  },
  {
   "cell_type": "markdown",
   "metadata": {},
   "source": [
    "## Selection Bias"
   ]
  },
  {
   "cell_type": "markdown",
   "metadata": {},
   "source": [
    " "
   ]
  },
  {
   "cell_type": "markdown",
   "metadata": {},
   "source": [
    "* One thing to note about this dateset is the super imbalenced class. A more healthy dataset should contain at least 2% converted donors. Although we applied resampling strategy and powerful machine learning algorithm, the selection bias might be large. \n",
    "\n",
    "* Another thing to note down is the missing values. Some records with missing age and deceased date in converted group, we have to impute a lot of missing values and we use those estimated value to build model. This will increase the selection bias as well. "
   ]
  },
  {
   "cell_type": "code",
   "execution_count": null,
   "metadata": {},
   "outputs": [],
   "source": []
  }
 ],
 "metadata": {
  "kernelspec": {
   "display_name": "Python 3",
   "language": "python",
   "name": "python3"
  },
  "language_info": {
   "codemirror_mode": {
    "name": "ipython",
    "version": 3
   },
   "file_extension": ".py",
   "mimetype": "text/x-python",
   "name": "python",
   "nbconvert_exporter": "python",
   "pygments_lexer": "ipython3",
   "version": "3.6.5"
  }
 },
 "nbformat": 4,
 "nbformat_minor": 2
}
